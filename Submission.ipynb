{
 "cells": [
  {
   "cell_type": "code",
   "execution_count": 1,
   "metadata": {
    "collapsed": true
   },
   "outputs": [],
   "source": [
    "import pandas as pd"
   ]
  },
  {
   "cell_type": "code",
   "execution_count": 2,
   "outputs": [],
   "source": [
    "df = pd.read_pickle('data.pkl')"
   ],
   "metadata": {
    "collapsed": false,
    "pycharm": {
     "name": "#%%\n"
    }
   }
  },
  {
   "cell_type": "code",
   "execution_count": 3,
   "outputs": [],
   "source": [
    "df = df[[\n",
    "    'date_block_num',\n",
    "    'shop_id',\n",
    "    'item_id',\n",
    "    'item_cnt_month',\n",
    "    'zip_code',\n",
    "    'item_category_id',\n",
    "    'category_type',\n",
    "    'category_device',\n",
    "    'item_cnt_month_lag_1',\n",
    "    'item_cnt_month_lag_2',\n",
    "    'item_cnt_month_lag_3',\n",
    "    'item_cnt_month_lag_6',\n",
    "    'item_cnt_month_lag_12',\n",
    "    'date_avg_item_cnt_lag_1',\n",
    "    'date_item_avg_item_cnt_lag_1',\n",
    "    'date_item_avg_item_cnt_lag_2',\n",
    "    'date_item_avg_item_cnt_lag_3',\n",
    "    'date_item_avg_item_cnt_lag_6',\n",
    "    'date_item_avg_item_cnt_lag_12',\n",
    "    'date_shop_avg_item_cnt_lag_1',\n",
    "    'date_shop_avg_item_cnt_lag_2',\n",
    "    'date_shop_avg_item_cnt_lag_3',\n",
    "    'date_shop_avg_item_cnt_lag_6',\n",
    "    'date_shop_avg_item_cnt_lag_12',\n",
    "    'date_cat_avg_item_cnt_lag_1',\n",
    "    'date_shop_cat_avg_item_cnt_lag_1',\n",
    "    'date_city_avg_item_cnt_lag_1',\n",
    "    'date_item_city_avg_item_cnt_lag_1',\n",
    "    'delta_price_trend_with_lag_1',\n",
    "    'month',\n",
    "    'days_in_month',\n",
    "    'item_last_sold_in_given_shop',\n",
    "    'item_last_sold',\n",
    "    'item_first_sold_in_given_shop',\n",
    "    'item_first_sold'\n",
    "]]"
   ],
   "metadata": {
    "collapsed": false,
    "pycharm": {
     "name": "#%%\n"
    }
   }
  },
  {
   "cell_type": "code",
   "execution_count": 4,
   "outputs": [],
   "source": [
    "df_og = pd.read_pickle('data_og.pkl')\n",
    "\n",
    "df_og = df_og[[\n",
    "    'date_block_num',\n",
    "    'shop_id',\n",
    "    'item_id',\n",
    "    'item_cnt_month',\n",
    "    'city_code',\n",
    "    'item_category_id',\n",
    "    'type_code',\n",
    "    'subtype_code',\n",
    "    'item_cnt_month_lag_1',\n",
    "    'item_cnt_month_lag_2',\n",
    "    'item_cnt_month_lag_3',\n",
    "    'item_cnt_month_lag_6',\n",
    "    'item_cnt_month_lag_12',\n",
    "    'date_avg_item_cnt_lag_1',\n",
    "    'date_item_avg_item_cnt_lag_1',\n",
    "    'date_item_avg_item_cnt_lag_2',\n",
    "    'date_item_avg_item_cnt_lag_3',\n",
    "    'date_item_avg_item_cnt_lag_6',\n",
    "    'date_item_avg_item_cnt_lag_12',\n",
    "    'date_shop_avg_item_cnt_lag_1',\n",
    "    'date_shop_avg_item_cnt_lag_2',\n",
    "    'date_shop_avg_item_cnt_lag_3',\n",
    "    'date_shop_avg_item_cnt_lag_6',\n",
    "    'date_shop_avg_item_cnt_lag_12',\n",
    "    'date_cat_avg_item_cnt_lag_1',\n",
    "    'date_shop_cat_avg_item_cnt_lag_1',\n",
    "    'date_city_avg_item_cnt_lag_1',\n",
    "    'date_item_city_avg_item_cnt_lag_1',\n",
    "    'delta_price_lag',\n",
    "    'month',\n",
    "    'days',\n",
    "    'item_shop_last_sale',\n",
    "    'item_last_sale',\n",
    "    'item_shop_first_sale',\n",
    "    'item_first_sale',\n",
    "]]"
   ],
   "metadata": {
    "collapsed": false,
    "pycharm": {
     "name": "#%%\n"
    }
   }
  },
  {
   "cell_type": "code",
   "execution_count": 5,
   "outputs": [],
   "source": [
    "df = df.reset_index(drop=True)\n",
    "df_og = df_og.reset_index(drop=True)"
   ],
   "metadata": {
    "collapsed": false,
    "pycharm": {
     "name": "#%%\n"
    }
   }
  },
  {
   "cell_type": "code",
   "execution_count": 6,
   "outputs": [],
   "source": [
    "df['delta_price_trend_with_lag_1'] = df_og['delta_price_lag']\n",
    "df['item_last_sold_in_given_shop'] = df_og['item_shop_last_sale']\n",
    "df['item_last_sold'] = df_og['item_last_sale']\n",
    "df['item_first_sold_in_given_shop'] = df_og['item_shop_first_sale']\n",
    "df['item_first_sold'] = df_og['item_first_sale']"
   ],
   "metadata": {
    "collapsed": false,
    "pycharm": {
     "name": "#%%\n"
    }
   }
  },
  {
   "cell_type": "code",
   "execution_count": 7,
   "outputs": [],
   "source": [
    "X_train = df[df.date_block_num < 33].drop(['item_cnt_month'], axis=1)\n",
    "Y_train = df[df.date_block_num < 33]['item_cnt_month']\n",
    "X_valid = df[df.date_block_num == 33].drop(['item_cnt_month'], axis=1)\n",
    "Y_valid = df[df.date_block_num == 33]['item_cnt_month']\n",
    "X_test = df[df.date_block_num == 34].drop(['item_cnt_month'], axis=1)"
   ],
   "metadata": {
    "collapsed": false,
    "pycharm": {
     "name": "#%%\n"
    }
   }
  },
  {
   "cell_type": "code",
   "execution_count": 8,
   "outputs": [],
   "source": [
    "# df = df[df.date_block_num == 20]\n",
    "# df = df[df.shop_id == 2]\n",
    "#\n",
    "# df_og = df_og[df_og.date_block_num == 20]\n",
    "# df_og = df_og[df_og.shop_id == 2]"
   ],
   "metadata": {
    "collapsed": false,
    "pycharm": {
     "name": "#%%\n"
    }
   }
  },
  {
   "cell_type": "code",
   "execution_count": 9,
   "outputs": [],
   "source": [
    "# df.to_csv('test.csv')\n",
    "# df_og.to_csv('test2.csv')"
   ],
   "metadata": {
    "collapsed": false,
    "pycharm": {
     "name": "#%%\n"
    }
   }
  },
  {
   "cell_type": "code",
   "execution_count": 10,
   "outputs": [
    {
     "name": "stdout",
     "output_type": "stream",
     "text": [
      "[0]\tvalidation_0-rmse:1.06031\tvalidation_1-rmse:1.04782\n",
      "[1]\tvalidation_0-rmse:0.96768\tvalidation_1-rmse:0.98166\n",
      "[2]\tvalidation_0-rmse:0.91861\tvalidation_1-rmse:0.95038\n",
      "[3]\tvalidation_0-rmse:0.88801\tvalidation_1-rmse:0.93061\n",
      "[4]\tvalidation_0-rmse:0.86909\tvalidation_1-rmse:0.92110\n",
      "[5]\tvalidation_0-rmse:0.85701\tvalidation_1-rmse:0.91507\n",
      "[6]\tvalidation_0-rmse:0.84843\tvalidation_1-rmse:0.91098\n",
      "[7]\tvalidation_0-rmse:0.84219\tvalidation_1-rmse:0.90831\n",
      "[8]\tvalidation_0-rmse:0.83881\tvalidation_1-rmse:0.90699\n",
      "[9]\tvalidation_0-rmse:0.83454\tvalidation_1-rmse:0.90687\n",
      "[10]\tvalidation_0-rmse:0.83139\tvalidation_1-rmse:0.90608\n",
      "[11]\tvalidation_0-rmse:0.82761\tvalidation_1-rmse:0.90555\n",
      "[12]\tvalidation_0-rmse:0.82541\tvalidation_1-rmse:0.90628\n",
      "[13]\tvalidation_0-rmse:0.82416\tvalidation_1-rmse:0.90581\n",
      "[14]\tvalidation_0-rmse:0.82266\tvalidation_1-rmse:0.90546\n",
      "[15]\tvalidation_0-rmse:0.81845\tvalidation_1-rmse:0.90446\n",
      "[16]\tvalidation_0-rmse:0.81712\tvalidation_1-rmse:0.90544\n",
      "[17]\tvalidation_0-rmse:0.81641\tvalidation_1-rmse:0.90549\n",
      "[18]\tvalidation_0-rmse:0.81401\tvalidation_1-rmse:0.90632\n",
      "[19]\tvalidation_0-rmse:0.81300\tvalidation_1-rmse:0.90621\n",
      "[20]\tvalidation_0-rmse:0.81133\tvalidation_1-rmse:0.90407\n",
      "[21]\tvalidation_0-rmse:0.81040\tvalidation_1-rmse:0.90527\n",
      "[22]\tvalidation_0-rmse:0.80886\tvalidation_1-rmse:0.90486\n",
      "[23]\tvalidation_0-rmse:0.80812\tvalidation_1-rmse:0.90435\n",
      "[24]\tvalidation_0-rmse:0.80758\tvalidation_1-rmse:0.90626\n",
      "[25]\tvalidation_0-rmse:0.80599\tvalidation_1-rmse:0.90919\n",
      "[26]\tvalidation_0-rmse:0.80541\tvalidation_1-rmse:0.90902\n",
      "[27]\tvalidation_0-rmse:0.80507\tvalidation_1-rmse:0.90933\n",
      "[28]\tvalidation_0-rmse:0.80432\tvalidation_1-rmse:0.90923\n",
      "[29]\tvalidation_0-rmse:0.80364\tvalidation_1-rmse:0.91014\n",
      "[30]\tvalidation_0-rmse:0.80219\tvalidation_1-rmse:0.90951\n"
     ]
    },
    {
     "data": {
      "text/plain": "XGBRegressor(base_score=0.5, booster='gbtree', colsample_bylevel=1,\n             colsample_bynode=1, colsample_bytree=0.8, eta=0.3, gamma=0,\n             gpu_id=-1, importance_type='gain', interaction_constraints='',\n             learning_rate=0.300000012, max_delta_step=0, max_depth=8,\n             min_child_weight=300, missing=nan, monotone_constraints='()',\n             n_estimators=1000, n_jobs=24, num_parallel_tree=1, random_state=42,\n             reg_alpha=0, reg_lambda=1, scale_pos_weight=1, seed=42,\n             subsample=0.8, tree_method='approx', validate_parameters=1,\n             verbosity=None)"
     },
     "execution_count": 10,
     "metadata": {},
     "output_type": "execute_result"
    }
   ],
   "source": [
    "from xgboost import XGBRegressor\n",
    "\n",
    "model = XGBRegressor(\n",
    "    max_depth=8,\n",
    "    n_estimators=1000,\n",
    "    min_child_weight=300,\n",
    "    colsample_bytree=0.8,\n",
    "    subsample=0.8,\n",
    "    eta=0.3,\n",
    "    seed=42)\n",
    "\n",
    "model.fit(\n",
    "    X_train,\n",
    "    Y_train,\n",
    "    eval_metric=\"rmse\",\n",
    "    eval_set=[(X_train, Y_train), (X_valid, Y_valid)],\n",
    "    verbose=True,\n",
    "    early_stopping_rounds = 10)"
   ],
   "metadata": {
    "collapsed": false,
    "pycharm": {
     "name": "#%%\n"
    }
   }
  },
  {
   "cell_type": "code",
   "execution_count": 11,
   "outputs": [],
   "source": [
    "test = pd.read_csv('data/technical/test.csv')\n",
    "\n",
    "Y_pred = model.predict(X_valid).clip(0, 20)\n",
    "Y_test = model.predict(X_test).clip(0, 20)\n",
    "\n",
    "submission = pd.DataFrame({\n",
    "    \"ID\": test.index,\n",
    "    \"item_cnt_month\": Y_test\n",
    "})\n",
    "submission.to_csv('xgb_submission.csv', index=False)"
   ],
   "metadata": {
    "collapsed": false,
    "pycharm": {
     "name": "#%%\n"
    }
   }
  }
 ],
 "metadata": {
  "kernelspec": {
   "display_name": "Python 3",
   "language": "python",
   "name": "python3"
  },
  "language_info": {
   "codemirror_mode": {
    "name": "ipython",
    "version": 2
   },
   "file_extension": ".py",
   "mimetype": "text/x-python",
   "name": "python",
   "nbconvert_exporter": "python",
   "pygments_lexer": "ipython2",
   "version": "2.7.6"
  }
 },
 "nbformat": 4,
 "nbformat_minor": 0
}