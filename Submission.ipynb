{
 "cells": [
  {
   "cell_type": "code",
   "execution_count": 1,
   "metadata": {
    "collapsed": true
   },
   "outputs": [],
   "source": [
    "import pandas as pd"
   ]
  },
  {
   "cell_type": "code",
   "execution_count": 2,
   "outputs": [],
   "source": [
    "df = pd.read_pickle('data.pkl')"
   ],
   "metadata": {
    "collapsed": false,
    "pycharm": {
     "name": "#%%\n"
    }
   }
  },
  {
   "cell_type": "code",
   "execution_count": 3,
   "outputs": [],
   "source": [
    "df = df[[\n",
    "    'date_block_num',\n",
    "    'shop_id',\n",
    "    'item_id',\n",
    "    'item_cnt_month',\n",
    "    'zip_code',\n",
    "    'item_category_id',\n",
    "    'category_type',\n",
    "    'category_device',\n",
    "    'item_cnt_month_lag_1',\n",
    "    'item_cnt_month_lag_2',\n",
    "    'item_cnt_month_lag_3',\n",
    "    'item_cnt_month_lag_6',\n",
    "    'item_cnt_month_lag_12',\n",
    "    'date_avg_item_cnt_lag_1',\n",
    "    'date_item_avg_item_cnt_lag_1',\n",
    "    'date_item_avg_item_cnt_lag_2',\n",
    "    'date_item_avg_item_cnt_lag_3',\n",
    "    'date_item_avg_item_cnt_lag_6',\n",
    "    'date_item_avg_item_cnt_lag_12',\n",
    "    'date_shop_avg_item_cnt_lag_1',\n",
    "    'date_shop_avg_item_cnt_lag_2',\n",
    "    'date_shop_avg_item_cnt_lag_3',\n",
    "    'date_shop_avg_item_cnt_lag_6',\n",
    "    'date_shop_avg_item_cnt_lag_12',\n",
    "    'date_cat_avg_item_cnt_lag_1',\n",
    "    'date_shop_cat_avg_item_cnt_lag_1',\n",
    "    'date_city_avg_item_cnt_lag_1',\n",
    "    'date_item_city_avg_item_cnt_lag_1',\n",
    "    'delta_price_trend_with_lag_1',\n",
    "    'month',\n",
    "    'days_in_month',\n",
    "    'item_last_sold_in_given_shop',\n",
    "    'item_last_sold',\n",
    "    'item_first_sold_in_given_shop',\n",
    "    'item_first_sold'\n",
    "]]"
   ],
   "metadata": {
    "collapsed": false,
    "pycharm": {
     "name": "#%%\n"
    }
   }
  },
  {
   "cell_type": "code",
   "execution_count": 4,
   "outputs": [],
   "source": [
    "df_og = pd.read_pickle('data_og.pkl')\n",
    "\n",
    "df_og = df_og[[\n",
    "    'date_block_num',\n",
    "    'shop_id',\n",
    "    'item_id',\n",
    "    'item_cnt_month',\n",
    "    'city_code',\n",
    "    'item_category_id',\n",
    "    'type_code',\n",
    "    'subtype_code',\n",
    "    'item_cnt_month_lag_1',\n",
    "    'item_cnt_month_lag_2',\n",
    "    'item_cnt_month_lag_3',\n",
    "    'item_cnt_month_lag_6',\n",
    "    'item_cnt_month_lag_12',\n",
    "    'date_avg_item_cnt_lag_1',\n",
    "    'date_item_avg_item_cnt_lag_1',\n",
    "    'date_item_avg_item_cnt_lag_2',\n",
    "    'date_item_avg_item_cnt_lag_3',\n",
    "    'date_item_avg_item_cnt_lag_6',\n",
    "    'date_item_avg_item_cnt_lag_12',\n",
    "    'date_shop_avg_item_cnt_lag_1',\n",
    "    'date_shop_avg_item_cnt_lag_2',\n",
    "    'date_shop_avg_item_cnt_lag_3',\n",
    "    'date_shop_avg_item_cnt_lag_6',\n",
    "    'date_shop_avg_item_cnt_lag_12',\n",
    "    'date_cat_avg_item_cnt_lag_1',\n",
    "    'date_shop_cat_avg_item_cnt_lag_1',\n",
    "    'date_city_avg_item_cnt_lag_1',\n",
    "    'date_item_city_avg_item_cnt_lag_1',\n",
    "    'delta_price_lag',\n",
    "    'month',\n",
    "    'days',\n",
    "    'item_shop_last_sale',\n",
    "    'item_last_sale',\n",
    "    'item_shop_first_sale',\n",
    "    'item_first_sale',\n",
    "]]"
   ],
   "metadata": {
    "collapsed": false,
    "pycharm": {
     "name": "#%%\n"
    }
   }
  },
  {
   "cell_type": "code",
   "execution_count": 5,
   "outputs": [],
   "source": [
    "# sort his values that are sorted up to the month 34\n",
    "df = df.sort_values(['date_block_num', 'shop_id', 'item_id'])\n",
    "df_og = df_og.sort_values(['date_block_num', 'shop_id', 'item_id'])\n",
    "df = df.reset_index(drop=True)\n",
    "df_og = df_og.reset_index(drop=True)"
   ],
   "metadata": {
    "collapsed": false,
    "pycharm": {
     "name": "#%%\n"
    }
   }
  },
  {
   "cell_type": "code",
   "execution_count": 6,
   "outputs": [],
   "source": [
    "# methodological differences\n",
    "df['delta_price_trend_with_lag_1'] = df_og['delta_price_lag']\n",
    "df['item_last_sold_in_given_shop'] = df_og['item_shop_last_sale']\n",
    "df['item_last_sold'] = df_og['item_last_sale']\n",
    "df['item_first_sold_in_given_shop'] = df_og['item_shop_first_sale']\n",
    "df['item_first_sold'] = df_og['item_first_sale']\n",
    "\n",
    "# different encodings\n",
    "df['zip_code'] = df_og['city_code']\n",
    "df['category_type'] = df_og['type_code']\n",
    "df['category_device'] = df_og['subtype_code']\n",
    "df['month'] = df_og['month']\n",
    "\n",
    "# max 0.002% diff, sometimes even 0.0001%\n",
    "df['date_avg_item_cnt_lag_1'] = df_og['date_avg_item_cnt_lag_1']\n",
    "df['date_shop_cat_avg_item_cnt_lag_1'] = df_og['date_shop_cat_avg_item_cnt_lag_1']\n",
    "df['date_city_avg_item_cnt_lag_1'] = df_og['date_city_avg_item_cnt_lag_1']\n",
    "df['date_cat_avg_item_cnt_lag_1'] = df_og['date_cat_avg_item_cnt_lag_1']\n",
    "df['date_shop_avg_item_cnt_lag_1'] = df_og['date_shop_avg_item_cnt_lag_1']\n",
    "df['date_shop_avg_item_cnt_lag_2'] = df_og['date_shop_avg_item_cnt_lag_2']\n",
    "df['date_shop_avg_item_cnt_lag_3'] = df_og['date_shop_avg_item_cnt_lag_3']\n",
    "df['date_shop_avg_item_cnt_lag_6'] = df_og['date_shop_avg_item_cnt_lag_6']\n",
    "df['date_shop_avg_item_cnt_lag_12'] = df_og['date_shop_avg_item_cnt_lag_12']\n",
    "\n",
    "# has actual discrepencies\n",
    "df['date_item_city_avg_item_cnt_lag_1'] = df_og['date_item_city_avg_item_cnt_lag_1']"
   ],
   "metadata": {
    "collapsed": false,
    "pycharm": {
     "name": "#%%\n"
    }
   }
  },
  {
   "cell_type": "code",
   "execution_count": 7,
   "outputs": [],
   "source": [
    "X_train = df_og[df_og.date_block_num < 33].drop(['item_cnt_month'], axis=1)\n",
    "Y_train = df_og[df_og.date_block_num < 33]['item_cnt_month']\n",
    "X_valid = df_og[df_og.date_block_num == 33].drop(['item_cnt_month'], axis=1)\n",
    "Y_valid = df_og[df_og.date_block_num == 33]['item_cnt_month']\n",
    "X_test = df_og[df_og.date_block_num == 34].drop(['item_cnt_month'], axis=1)"
   ],
   "metadata": {
    "collapsed": false,
    "pycharm": {
     "name": "#%%\n"
    }
   }
  },
  {
   "cell_type": "code",
   "execution_count": 8,
   "outputs": [],
   "source": [
    "df.loc[df.shop_id == 10, 'shop_id'] = 11"
   ],
   "metadata": {
    "collapsed": false,
    "pycharm": {
     "name": "#%%\n"
    }
   }
  },
  {
   "cell_type": "code",
   "execution_count": 9,
   "outputs": [],
   "source": [
    "# df = df[df.date_block_num == 34]\n",
    "# df = df[df.shop_id == 2]\n",
    "#\n",
    "# df_og = df_og[df_og.date_block_num == 34]\n",
    "# df_og = df_og[df_og.shop_id == 2]\n",
    "#\n",
    "df.to_csv('test_full_mine.csv')\n",
    "df_og.to_csv('test_full_his.csv')"
   ],
   "metadata": {
    "collapsed": false,
    "pycharm": {
     "name": "#%%\n"
    }
   }
  },
  {
   "cell_type": "code",
   "execution_count": 10,
   "outputs": [],
   "source": [
    "# from xgboost import XGBRegressor\n",
    "#\n",
    "# model = XGBRegressor(\n",
    "#     max_depth=8,\n",
    "#     n_estimators=1000,\n",
    "#     min_child_weight=300,\n",
    "#     colsample_bytree=0.8,\n",
    "#     subsample=0.8,\n",
    "#     eta=0.3,\n",
    "#     seed=42)\n",
    "#\n",
    "# model.fit(\n",
    "#     X_train,\n",
    "#     Y_train,\n",
    "#     eval_metric=\"rmse\",\n",
    "#     eval_set=[(X_train, Y_train), (X_valid, Y_valid)],\n",
    "#     verbose=True,\n",
    "#     early_stopping_rounds = 10)\n",
    "#\n",
    "# test = pd.read_csv('data/technical/test.csv')\n",
    "#\n",
    "# Y_pred = model.predict(X_valid).clip(0, 20)\n",
    "# Y_test = model.predict(X_test).clip(0, 20)\n",
    "#\n",
    "# submission = pd.DataFrame({\n",
    "#     \"ID\": test.index,\n",
    "#     \"item_cnt_month\": Y_test\n",
    "# })\n",
    "# submission.to_csv('xgb_submission.csv', index=False)"
   ],
   "metadata": {
    "collapsed": false,
    "pycharm": {
     "name": "#%%\n"
    }
   }
  }
 ],
 "metadata": {
  "kernelspec": {
   "display_name": "Python 3",
   "language": "python",
   "name": "python3"
  },
  "language_info": {
   "codemirror_mode": {
    "name": "ipython",
    "version": 2
   },
   "file_extension": ".py",
   "mimetype": "text/x-python",
   "name": "python",
   "nbconvert_exporter": "python",
   "pygments_lexer": "ipython2",
   "version": "2.7.6"
  }
 },
 "nbformat": 4,
 "nbformat_minor": 0
}