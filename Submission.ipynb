{
 "cells": [
  {
   "cell_type": "code",
   "execution_count": 1,
   "metadata": {
    "collapsed": true
   },
   "outputs": [],
   "source": [
    "import pandas as pd"
   ]
  },
  {
   "cell_type": "code",
   "execution_count": 2,
   "outputs": [],
   "source": [
    "df = pd.read_pickle('data.pkl')"
   ],
   "metadata": {
    "collapsed": false,
    "pycharm": {
     "name": "#%%\n"
    }
   }
  },
  {
   "cell_type": "code",
   "execution_count": 3,
   "outputs": [],
   "source": [
    "df = df[[\n",
    "    'date_block_num',\n",
    "    'shop_id',\n",
    "    'item_id',\n",
    "    'item_cnt_month',\n",
    "    'zip_code',\n",
    "    'item_category_id',\n",
    "    'category_type',\n",
    "    'category_device',\n",
    "    'item_cnt_month_lag_1',\n",
    "    'item_cnt_month_lag_2',\n",
    "    'item_cnt_month_lag_3',\n",
    "    'item_cnt_month_lag_6',\n",
    "    'item_cnt_month_lag_12',\n",
    "    'date_avg_item_cnt_lag_1',\n",
    "    'date_item_avg_item_cnt_lag_1',\n",
    "    'date_item_avg_item_cnt_lag_2',\n",
    "    'date_item_avg_item_cnt_lag_3',\n",
    "    'date_item_avg_item_cnt_lag_6',\n",
    "    'date_item_avg_item_cnt_lag_12',\n",
    "    'date_shop_avg_item_cnt_lag_1',\n",
    "    'date_shop_avg_item_cnt_lag_2',\n",
    "    'date_shop_avg_item_cnt_lag_3',\n",
    "    'date_shop_avg_item_cnt_lag_6',\n",
    "    'date_shop_avg_item_cnt_lag_12',\n",
    "    'date_cat_avg_item_cnt_lag_1',\n",
    "    'date_shop_cat_avg_item_cnt_lag_1',\n",
    "    'date_city_avg_item_cnt_lag_1',\n",
    "    'date_item_city_avg_item_cnt_lag_1',\n",
    "    'delta_price_trend_with_lag_1',\n",
    "    'month',\n",
    "    'days_in_month',\n",
    "    'item_last_sold_in_given_shop',\n",
    "    'item_last_sold',\n",
    "    'item_first_sold_in_given_shop',\n",
    "    'item_first_sold'\n",
    "]]"
   ],
   "metadata": {
    "collapsed": false,
    "pycharm": {
     "name": "#%%\n"
    }
   }
  },
  {
   "cell_type": "code",
   "execution_count": 4,
   "outputs": [],
   "source": [
    "df_og = pd.read_pickle('data_og.pkl')\n",
    "\n",
    "df_og = df_og[[\n",
    "    'date_block_num',\n",
    "    'shop_id',\n",
    "    'item_id',\n",
    "    'item_cnt_month',\n",
    "    'city_code',\n",
    "    'item_category_id',\n",
    "    'type_code',\n",
    "    'subtype_code',\n",
    "    'item_cnt_month_lag_1',\n",
    "    'item_cnt_month_lag_2',\n",
    "    'item_cnt_month_lag_3',\n",
    "    'item_cnt_month_lag_6',\n",
    "    'item_cnt_month_lag_12',\n",
    "    'date_avg_item_cnt_lag_1',\n",
    "    'date_item_avg_item_cnt_lag_1',\n",
    "    'date_item_avg_item_cnt_lag_2',\n",
    "    'date_item_avg_item_cnt_lag_3',\n",
    "    'date_item_avg_item_cnt_lag_6',\n",
    "    'date_item_avg_item_cnt_lag_12',\n",
    "    'date_shop_avg_item_cnt_lag_1',\n",
    "    'date_shop_avg_item_cnt_lag_2',\n",
    "    'date_shop_avg_item_cnt_lag_3',\n",
    "    'date_shop_avg_item_cnt_lag_6',\n",
    "    'date_shop_avg_item_cnt_lag_12',\n",
    "    'date_cat_avg_item_cnt_lag_1',\n",
    "    'date_shop_cat_avg_item_cnt_lag_1',\n",
    "    'date_city_avg_item_cnt_lag_1',\n",
    "    'date_item_city_avg_item_cnt_lag_1',\n",
    "    'delta_price_lag',\n",
    "    'month',\n",
    "    'days',\n",
    "    'item_shop_last_sale',\n",
    "    'item_last_sale',\n",
    "    'item_shop_first_sale',\n",
    "    'item_first_sale',\n",
    "]]"
   ],
   "metadata": {
    "collapsed": false,
    "pycharm": {
     "name": "#%%\n"
    }
   }
  },
  {
   "cell_type": "code",
   "execution_count": 5,
   "outputs": [],
   "source": [
    "df = df.reset_index(drop=True)\n",
    "df_og = df_og.reset_index(drop=True)"
   ],
   "metadata": {
    "collapsed": false,
    "pycharm": {
     "name": "#%%\n"
    }
   }
  },
  {
   "cell_type": "code",
   "execution_count": 6,
   "outputs": [],
   "source": [
    "df['delta_price_trend_with_lag_1'] = df_og['delta_price_lag']\n",
    "df['item_last_sold_in_given_shop'] = df_og['item_shop_last_sale']\n",
    "df['item_last_sold'] = df_og['item_last_sale']\n",
    "df['item_first_sold_in_given_shop'] = df_og['item_shop_first_sale']\n",
    "df['item_first_sold'] = df_og['item_first_sale']\n",
    "\n",
    "df['zip_code'] = df_og['city_code']\n",
    "df['category_type'] = df_og['type_code']\n",
    "df['category_device'] = df_og['subtype_code']"
   ],
   "metadata": {
    "collapsed": false,
    "pycharm": {
     "name": "#%%\n"
    }
   }
  },
  {
   "cell_type": "code",
   "execution_count": 7,
   "outputs": [],
   "source": [
    "X_train = df[df.date_block_num < 33].drop(['item_cnt_month'], axis=1)\n",
    "Y_train = df[df.date_block_num < 33]['item_cnt_month']\n",
    "X_valid = df[df.date_block_num == 33].drop(['item_cnt_month'], axis=1)\n",
    "Y_valid = df[df.date_block_num == 33]['item_cnt_month']\n",
    "X_test = df[df.date_block_num == 34].drop(['item_cnt_month'], axis=1)"
   ],
   "metadata": {
    "collapsed": false,
    "pycharm": {
     "name": "#%%\n"
    }
   }
  },
  {
   "cell_type": "code",
   "execution_count": 8,
   "outputs": [],
   "source": [
    "# df = df[df.date_block_num == 20]\n",
    "# df = df[df.shop_id == 2]\n",
    "#\n",
    "# df_og = df_og[df_og.date_block_num == 20]\n",
    "# df_og = df_og[df_og.shop_id == 2]\n",
    "#\n",
    "# df.to_csv('test.csv')\n",
    "# df_og.to_csv('test2.csv')"
   ],
   "metadata": {
    "collapsed": false,
    "pycharm": {
     "name": "#%%\n"
    }
   }
  },
  {
   "cell_type": "code",
   "execution_count": 9,
   "outputs": [
    {
     "name": "stdout",
     "output_type": "stream",
     "text": [
      "[0]\tvalidation_0-rmse:1.06052\tvalidation_1-rmse:1.04648\n",
      "[1]\tvalidation_0-rmse:0.96791\tvalidation_1-rmse:0.98123\n",
      "[2]\tvalidation_0-rmse:0.91880\tvalidation_1-rmse:0.95063\n",
      "[3]\tvalidation_0-rmse:0.88849\tvalidation_1-rmse:0.93218\n",
      "[4]\tvalidation_0-rmse:0.86905\tvalidation_1-rmse:0.92219\n",
      "[5]\tvalidation_0-rmse:0.85801\tvalidation_1-rmse:0.91719\n",
      "[6]\tvalidation_0-rmse:0.84914\tvalidation_1-rmse:0.91316\n",
      "[7]\tvalidation_0-rmse:0.84108\tvalidation_1-rmse:0.91167\n",
      "[8]\tvalidation_0-rmse:0.83713\tvalidation_1-rmse:0.91149\n",
      "[9]\tvalidation_0-rmse:0.83285\tvalidation_1-rmse:0.91258\n",
      "[10]\tvalidation_0-rmse:0.82951\tvalidation_1-rmse:0.91114\n",
      "[11]\tvalidation_0-rmse:0.82722\tvalidation_1-rmse:0.91347\n",
      "[12]\tvalidation_0-rmse:0.82503\tvalidation_1-rmse:0.91275\n",
      "[13]\tvalidation_0-rmse:0.82288\tvalidation_1-rmse:0.91477\n",
      "[14]\tvalidation_0-rmse:0.82183\tvalidation_1-rmse:0.91468\n",
      "[15]\tvalidation_0-rmse:0.82072\tvalidation_1-rmse:0.91480\n",
      "[16]\tvalidation_0-rmse:0.81936\tvalidation_1-rmse:0.91402\n",
      "[17]\tvalidation_0-rmse:0.81844\tvalidation_1-rmse:0.91379\n",
      "[18]\tvalidation_0-rmse:0.81692\tvalidation_1-rmse:0.91405\n",
      "[19]\tvalidation_0-rmse:0.81564\tvalidation_1-rmse:0.91265\n"
     ]
    }
   ],
   "source": [
    "from xgboost import XGBRegressor\n",
    "\n",
    "model = XGBRegressor(\n",
    "    max_depth=8,\n",
    "    n_estimators=1000,\n",
    "    min_child_weight=300,\n",
    "    colsample_bytree=0.8,\n",
    "    subsample=0.8,\n",
    "    eta=0.3,\n",
    "    seed=42)\n",
    "\n",
    "model.fit(\n",
    "    X_train,\n",
    "    Y_train,\n",
    "    eval_metric=\"rmse\",\n",
    "    eval_set=[(X_train, Y_train), (X_valid, Y_valid)],\n",
    "    verbose=True,\n",
    "    early_stopping_rounds = 10)\n",
    "\n",
    "test = pd.read_csv('data/technical/test.csv')\n",
    "\n",
    "Y_pred = model.predict(X_valid).clip(0, 20)\n",
    "Y_test = model.predict(X_test).clip(0, 20)\n",
    "\n",
    "submission = pd.DataFrame({\n",
    "    \"ID\": test.index,\n",
    "    \"item_cnt_month\": Y_test\n",
    "})\n",
    "submission.to_csv('xgb_submission.csv', index=False)"
   ],
   "metadata": {
    "collapsed": false,
    "pycharm": {
     "name": "#%%\n"
    }
   }
  }
 ],
 "metadata": {
  "kernelspec": {
   "display_name": "Python 3",
   "language": "python",
   "name": "python3"
  },
  "language_info": {
   "codemirror_mode": {
    "name": "ipython",
    "version": 2
   },
   "file_extension": ".py",
   "mimetype": "text/x-python",
   "name": "python",
   "nbconvert_exporter": "python",
   "pygments_lexer": "ipython2",
   "version": "2.7.6"
  }
 },
 "nbformat": 4,
 "nbformat_minor": 0
}