{
 "cells": [
  {
   "cell_type": "code",
   "execution_count": 1,
   "outputs": [],
   "source": [
    "import pandas as pd"
   ],
   "metadata": {
    "collapsed": false,
    "pycharm": {
     "name": "#%%\n"
    }
   }
  },
  {
   "cell_type": "code",
   "execution_count": 2,
   "outputs": [],
   "source": [
    "df = pd.read_pickle('data.pkl')"
   ],
   "metadata": {
    "collapsed": false,
    "pycharm": {
     "name": "#%%\n"
    }
   }
  },
  {
   "cell_type": "code",
   "execution_count": 3,
   "outputs": [],
   "source": [
    "X_train = df[df.date_block_num < 33].drop(['item_cnt_month'], axis=1)\n",
    "Y_train = df[df.date_block_num < 33]['item_cnt_month']\n",
    "X_valid = df[df.date_block_num == 33].drop(['item_cnt_month'], axis=1)\n",
    "Y_valid = df[df.date_block_num == 33]['item_cnt_month']\n",
    "X_test = df[df.date_block_num == 34].drop(['item_cnt_month'], axis=1)"
   ],
   "metadata": {
    "collapsed": false,
    "pycharm": {
     "name": "#%%\n"
    }
   }
  },
  {
   "cell_type": "code",
   "execution_count": 4,
   "outputs": [
    {
     "name": "stdout",
     "output_type": "stream",
     "text": [
      "[0]\tvalidation_0-rmse:0.91371\tvalidation_1-rmse:0.88523\n",
      "[1]\tvalidation_0-rmse:0.71436\tvalidation_1-rmse:0.70785\n",
      "[2]\tvalidation_0-rmse:0.58940\tvalidation_1-rmse:0.59751\n",
      "[3]\tvalidation_0-rmse:0.54498\tvalidation_1-rmse:0.56900\n",
      "[4]\tvalidation_0-rmse:0.48575\tvalidation_1-rmse:0.52090\n",
      "[5]\tvalidation_0-rmse:0.45143\tvalidation_1-rmse:0.50092\n",
      "[6]\tvalidation_0-rmse:0.43079\tvalidation_1-rmse:0.49271\n",
      "[7]\tvalidation_0-rmse:0.41787\tvalidation_1-rmse:0.48661\n",
      "[8]\tvalidation_0-rmse:0.40919\tvalidation_1-rmse:0.48747\n",
      "[9]\tvalidation_0-rmse:0.40488\tvalidation_1-rmse:0.48414\n",
      "[10]\tvalidation_0-rmse:0.40282\tvalidation_1-rmse:0.48380\n",
      "[11]\tvalidation_0-rmse:0.39953\tvalidation_1-rmse:0.48271\n",
      "[12]\tvalidation_0-rmse:0.39782\tvalidation_1-rmse:0.48173\n",
      "[13]\tvalidation_0-rmse:0.39671\tvalidation_1-rmse:0.48255\n",
      "[14]\tvalidation_0-rmse:0.39539\tvalidation_1-rmse:0.48266\n",
      "[15]\tvalidation_0-rmse:0.39406\tvalidation_1-rmse:0.48358\n",
      "[16]\tvalidation_0-rmse:0.39299\tvalidation_1-rmse:0.48351\n",
      "[17]\tvalidation_0-rmse:0.39032\tvalidation_1-rmse:0.48442\n",
      "[18]\tvalidation_0-rmse:0.38921\tvalidation_1-rmse:0.48502\n",
      "[19]\tvalidation_0-rmse:0.38847\tvalidation_1-rmse:0.48396\n",
      "[20]\tvalidation_0-rmse:0.38770\tvalidation_1-rmse:0.48364\n",
      "[21]\tvalidation_0-rmse:0.38690\tvalidation_1-rmse:0.48424\n"
     ]
    }
   ],
   "source": [
    "from xgboost import XGBRegressor\n",
    "\n",
    "model = XGBRegressor(\n",
    "    max_depth=8,\n",
    "    n_estimators=1000,\n",
    "    min_child_weight=300,\n",
    "    colsample_bytree=0.8,\n",
    "    subsample=0.8,\n",
    "    eta=0.3,\n",
    "    seed=42)\n",
    "\n",
    "model.fit(\n",
    "    X_train,\n",
    "    Y_train,\n",
    "    eval_metric=\"rmse\",\n",
    "    eval_set=[(X_train, Y_train), (X_valid, Y_valid)],\n",
    "    verbose=True,\n",
    "    early_stopping_rounds = 10)\n",
    "\n",
    "test = pd.read_csv('data/technical/test.csv')\n",
    "\n",
    "Y_pred = model.predict(X_valid).clip(0, 20)\n",
    "Y_test = model.predict(X_test).clip(0, 20)\n",
    "\n",
    "submission = pd.DataFrame({\n",
    "    \"ID\": test.index,\n",
    "    \"item_cnt_month\": Y_test\n",
    "})\n",
    "submission.to_csv('xgb_submission.csv', index=False)"
   ],
   "metadata": {
    "collapsed": false,
    "pycharm": {
     "name": "#%%\n"
    }
   }
  }
 ],
 "metadata": {
  "kernelspec": {
   "display_name": "Python 3",
   "language": "python",
   "name": "python3"
  },
  "language_info": {
   "codemirror_mode": {
    "name": "ipython",
    "version": 2
   },
   "file_extension": ".py",
   "mimetype": "text/x-python",
   "name": "python",
   "nbconvert_exporter": "python",
   "pygments_lexer": "ipython2",
   "version": "2.7.6"
  }
 },
 "nbformat": 4,
 "nbformat_minor": 0
}