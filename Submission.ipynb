{
 "cells": [
  {
   "cell_type": "code",
   "execution_count": 1,
   "outputs": [],
   "source": [
    "import pandas as pd"
   ],
   "metadata": {
    "collapsed": false,
    "pycharm": {
     "name": "#%%\n"
    }
   }
  },
  {
   "cell_type": "code",
   "execution_count": 2,
   "outputs": [],
   "source": [
    "df = pd.read_pickle('data.pkl')\n",
    "df_og = pd.read_pickle('data_og.pkl')"
   ],
   "metadata": {
    "collapsed": false,
    "pycharm": {
     "name": "#%%\n"
    }
   }
  },
  {
   "cell_type": "code",
   "execution_count": 3,
   "outputs": [],
   "source": [
    "df = df[[\n",
    "    'date_block_num',\n",
    "    'shop_id',\n",
    "    'item_id',\n",
    "    'item_cnt_month',\n",
    "    'zip_code',\n",
    "    'item_category_id',\n",
    "    'category_type',\n",
    "    'category_device',\n",
    "    'item_cnt_month_lag_1',\n",
    "    'item_cnt_month_lag_2',\n",
    "    'item_cnt_month_lag_3',\n",
    "    'item_cnt_month_lag_6',\n",
    "    'item_cnt_month_lag_12',\n",
    "    'date_avg_item_cnt_lag_1',\n",
    "    'date_item_avg_item_cnt_lag_1',\n",
    "    'date_item_avg_item_cnt_lag_2',\n",
    "    'date_item_avg_item_cnt_lag_3',\n",
    "    'date_item_avg_item_cnt_lag_6',\n",
    "    'date_item_avg_item_cnt_lag_12',\n",
    "    'date_shop_avg_item_cnt_lag_1',\n",
    "    'date_shop_avg_item_cnt_lag_2',\n",
    "    'date_shop_avg_item_cnt_lag_3',\n",
    "    'date_shop_avg_item_cnt_lag_6',\n",
    "    'date_shop_avg_item_cnt_lag_12',\n",
    "    'date_cat_avg_item_cnt_lag_1',\n",
    "    'date_shop_cat_avg_item_cnt_lag_1',\n",
    "    'date_city_avg_item_cnt_lag_1',\n",
    "    'date_item_city_avg_item_cnt_lag_1',\n",
    "    'delta_price_trend_with_lag_1',\n",
    "    'month',\n",
    "    'days_in_month',\n",
    "    'item_last_sold_in_given_shop',\n",
    "    'item_last_sold',\n",
    "    'item_first_sold_in_given_shop',\n",
    "    'item_first_sold'\n",
    "]]"
   ],
   "metadata": {
    "collapsed": false,
    "pycharm": {
     "name": "#%%\n"
    }
   }
  },
  {
   "cell_type": "code",
   "execution_count": 4,
   "outputs": [],
   "source": [
    "# methodological differences\n",
    "df['delta_price_trend_with_lag_1'] = df_og['delta_price_lag']\n",
    "df['item_last_sold_in_given_shop'] = df_og['item_shop_last_sale']\n",
    "df['item_last_sold'] = df_og['item_last_sale']\n",
    "df['item_first_sold_in_given_shop'] = df_og['item_shop_first_sale']\n",
    "df['item_first_sold'] = df_og['item_first_sale']\n",
    "\n",
    "# different encodings\n",
    "df['zip_code'] = df_og['city_code']\n",
    "df['category_type'] = df_og['type_code']\n",
    "df['category_device'] = df_og['subtype_code']\n",
    "df['month'] = df_og['month']\n",
    "\n",
    "# max 0.002% diff, sometimes even 0.0001%\n",
    "df['date_avg_item_cnt_lag_1'] = df_og['date_avg_item_cnt_lag_1']\n",
    "df['date_shop_cat_avg_item_cnt_lag_1'] = df_og['date_shop_cat_avg_item_cnt_lag_1']\n",
    "df['date_city_avg_item_cnt_lag_1'] = df_og['date_city_avg_item_cnt_lag_1']\n",
    "df['date_cat_avg_item_cnt_lag_1'] = df_og['date_cat_avg_item_cnt_lag_1']\n",
    "df['date_shop_avg_item_cnt_lag_1'] = df_og['date_shop_avg_item_cnt_lag_1']\n",
    "df['date_shop_avg_item_cnt_lag_2'] = df_og['date_shop_avg_item_cnt_lag_2']\n",
    "df['date_shop_avg_item_cnt_lag_3'] = df_og['date_shop_avg_item_cnt_lag_3']\n",
    "df['date_shop_avg_item_cnt_lag_6'] = df_og['date_shop_avg_item_cnt_lag_6']\n",
    "df['date_shop_avg_item_cnt_lag_12'] = df_og['date_shop_avg_item_cnt_lag_12']\n",
    "\n",
    "# has actual discrepencies\n",
    "df['date_item_city_avg_item_cnt_lag_1'] = df_og['date_item_city_avg_item_cnt_lag_1']"
   ],
   "metadata": {
    "collapsed": false,
    "pycharm": {
     "name": "#%%\n"
    }
   }
  },
  {
   "cell_type": "code",
   "execution_count": 5,
   "outputs": [],
   "source": [
    "X_train = df[df.date_block_num < 33].drop(['item_cnt_month'], axis=1)\n",
    "Y_train = df[df.date_block_num < 33]['item_cnt_month']\n",
    "X_valid = df[df.date_block_num == 33].drop(['item_cnt_month'], axis=1)\n",
    "Y_valid = df[df.date_block_num == 33]['item_cnt_month']\n",
    "X_test = df[df.date_block_num == 34].drop(['item_cnt_month'], axis=1)"
   ],
   "metadata": {
    "collapsed": false,
    "pycharm": {
     "name": "#%%\n"
    }
   }
  },
  {
   "cell_type": "code",
   "execution_count": 6,
   "outputs": [
    {
     "name": "stdout",
     "output_type": "stream",
     "text": [
      "[0]\tvalidation_0-rmse:1.08755\tvalidation_1-rmse:1.07128\n",
      "[1]\tvalidation_0-rmse:0.99487\tvalidation_1-rmse:1.00890\n",
      "[2]\tvalidation_0-rmse:0.94664\tvalidation_1-rmse:0.97641\n",
      "[3]\tvalidation_0-rmse:0.92128\tvalidation_1-rmse:0.95682\n",
      "[4]\tvalidation_0-rmse:0.90107\tvalidation_1-rmse:0.94439\n",
      "[5]\tvalidation_0-rmse:0.89068\tvalidation_1-rmse:0.93898\n",
      "[6]\tvalidation_0-rmse:0.88412\tvalidation_1-rmse:0.93673\n",
      "[7]\tvalidation_0-rmse:0.87773\tvalidation_1-rmse:0.93371\n",
      "[8]\tvalidation_0-rmse:0.87294\tvalidation_1-rmse:0.93200\n",
      "[9]\tvalidation_0-rmse:0.86775\tvalidation_1-rmse:0.92944\n",
      "[10]\tvalidation_0-rmse:0.86428\tvalidation_1-rmse:0.92943\n",
      "[11]\tvalidation_0-rmse:0.86203\tvalidation_1-rmse:0.92930\n",
      "[12]\tvalidation_0-rmse:0.86061\tvalidation_1-rmse:0.92967\n",
      "[13]\tvalidation_0-rmse:0.85936\tvalidation_1-rmse:0.92966\n",
      "[14]\tvalidation_0-rmse:0.85675\tvalidation_1-rmse:0.93274\n",
      "[15]\tvalidation_0-rmse:0.85577\tvalidation_1-rmse:0.93290\n",
      "[16]\tvalidation_0-rmse:0.85502\tvalidation_1-rmse:0.93290\n",
      "[17]\tvalidation_0-rmse:0.85404\tvalidation_1-rmse:0.93261\n",
      "[18]\tvalidation_0-rmse:0.85199\tvalidation_1-rmse:0.93159\n",
      "[19]\tvalidation_0-rmse:0.85025\tvalidation_1-rmse:0.92770\n",
      "[20]\tvalidation_0-rmse:0.84954\tvalidation_1-rmse:0.92904\n",
      "[21]\tvalidation_0-rmse:0.84784\tvalidation_1-rmse:0.92923\n",
      "[22]\tvalidation_0-rmse:0.84702\tvalidation_1-rmse:0.92844\n",
      "[23]\tvalidation_0-rmse:0.84533\tvalidation_1-rmse:0.92712\n",
      "[24]\tvalidation_0-rmse:0.84450\tvalidation_1-rmse:0.92728\n",
      "[25]\tvalidation_0-rmse:0.84314\tvalidation_1-rmse:0.92827\n",
      "[26]\tvalidation_0-rmse:0.84210\tvalidation_1-rmse:0.92806\n",
      "[27]\tvalidation_0-rmse:0.84140\tvalidation_1-rmse:0.92766\n",
      "[28]\tvalidation_0-rmse:0.84073\tvalidation_1-rmse:0.92758\n",
      "[29]\tvalidation_0-rmse:0.83918\tvalidation_1-rmse:0.92752\n",
      "[30]\tvalidation_0-rmse:0.83716\tvalidation_1-rmse:0.92836\n",
      "[31]\tvalidation_0-rmse:0.83594\tvalidation_1-rmse:0.93396\n",
      "[32]\tvalidation_0-rmse:0.83550\tvalidation_1-rmse:0.93410\n",
      "[33]\tvalidation_0-rmse:0.83491\tvalidation_1-rmse:0.93438\n"
     ]
    }
   ],
   "source": [
    "from xgboost import XGBRegressor\n",
    "\n",
    "model = XGBRegressor(\n",
    "    max_depth=8,\n",
    "    n_estimators=1000,\n",
    "    min_child_weight=300,\n",
    "    colsample_bytree=0.8,\n",
    "    subsample=0.8,\n",
    "    eta=0.3,\n",
    "    seed=42)\n",
    "\n",
    "model.fit(\n",
    "    X_train,\n",
    "    Y_train,\n",
    "    eval_metric=\"rmse\",\n",
    "    eval_set=[(X_train, Y_train), (X_valid, Y_valid)],\n",
    "    verbose=True,\n",
    "    early_stopping_rounds = 10)\n",
    "\n",
    "test = pd.read_csv('data/technical/test.csv')\n",
    "\n",
    "Y_pred = model.predict(X_valid).clip(0, 20)\n",
    "Y_test = model.predict(X_test).clip(0, 20)\n",
    "\n",
    "submission = pd.DataFrame({\n",
    "    \"ID\": test.index,\n",
    "    \"item_cnt_month\": Y_test\n",
    "})\n",
    "submission.to_csv('xgb_submission.csv', index=False)"
   ],
   "metadata": {
    "collapsed": false,
    "pycharm": {
     "name": "#%%\n"
    }
   }
  }
 ],
 "metadata": {
  "kernelspec": {
   "display_name": "Python 3",
   "language": "python",
   "name": "python3"
  },
  "language_info": {
   "codemirror_mode": {
    "name": "ipython",
    "version": 2
   },
   "file_extension": ".py",
   "mimetype": "text/x-python",
   "name": "python",
   "nbconvert_exporter": "python",
   "pygments_lexer": "ipython2",
   "version": "2.7.6"
  }
 },
 "nbformat": 4,
 "nbformat_minor": 0
}