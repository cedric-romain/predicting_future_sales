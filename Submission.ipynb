{
 "cells": [
  {
   "cell_type": "code",
   "execution_count": 1,
   "metadata": {
    "collapsed": true
   },
   "outputs": [],
   "source": [
    "import pandas as pd"
   ]
  },
  {
   "cell_type": "code",
   "execution_count": 2,
   "outputs": [],
   "source": [
    "df = pd.read_pickle('data.pkl')"
   ],
   "metadata": {
    "collapsed": false,
    "pycharm": {
     "name": "#%%\n"
    }
   }
  },
  {
   "cell_type": "code",
   "execution_count": 3,
   "outputs": [],
   "source": [
    "df = df[[\n",
    "    'date_block_num',\n",
    "    'shop_id',\n",
    "    'item_id',\n",
    "    'item_cnt_month',\n",
    "    'zip_code',\n",
    "    'item_category_id',\n",
    "    'category_type',\n",
    "    'category_device',\n",
    "    'item_cnt_month_lag_1',\n",
    "    'item_cnt_month_lag_2',\n",
    "    'item_cnt_month_lag_3',\n",
    "    'item_cnt_month_lag_6',\n",
    "    'item_cnt_month_lag_12',\n",
    "    'date_avg_item_cnt_lag_1',\n",
    "    'date_item_avg_item_cnt_lag_1',\n",
    "    'date_item_avg_item_cnt_lag_2',\n",
    "    'date_item_avg_item_cnt_lag_3',\n",
    "    'date_item_avg_item_cnt_lag_6',\n",
    "    'date_item_avg_item_cnt_lag_12',\n",
    "    'date_shop_avg_item_cnt_lag_1',\n",
    "    'date_shop_avg_item_cnt_lag_2',\n",
    "    'date_shop_avg_item_cnt_lag_3',\n",
    "    'date_shop_avg_item_cnt_lag_6',\n",
    "    'date_shop_avg_item_cnt_lag_12',\n",
    "    'date_cat_avg_item_cnt_lag_1',\n",
    "    'date_shop_cat_avg_item_cnt_lag_1',\n",
    "    'date_city_avg_item_cnt_lag_1',\n",
    "    'date_item_city_avg_item_cnt_lag_1',\n",
    "    'delta_price_trend_with_lag_1',\n",
    "    'month',\n",
    "    'days_in_month',\n",
    "    'item_last_sold_in_given_shop',\n",
    "    'item_last_sold',\n",
    "    'item_first_sold_in_given_shop',\n",
    "    'item_first_sold'\n",
    "]]"
   ],
   "metadata": {
    "collapsed": false,
    "pycharm": {
     "name": "#%%\n"
    }
   }
  },
  {
   "cell_type": "code",
   "execution_count": 4,
   "outputs": [],
   "source": [
    "df_og = pd.read_pickle('data_og.pkl')\n",
    "\n",
    "df_og = df_og[[\n",
    "    'date_block_num',\n",
    "    'shop_id',\n",
    "    'item_id',\n",
    "    'item_cnt_month',\n",
    "    'city_code',\n",
    "    'item_category_id',\n",
    "    'type_code',\n",
    "    'subtype_code',\n",
    "    'item_cnt_month_lag_1',\n",
    "    'item_cnt_month_lag_2',\n",
    "    'item_cnt_month_lag_3',\n",
    "    'item_cnt_month_lag_6',\n",
    "    'item_cnt_month_lag_12',\n",
    "    'date_avg_item_cnt_lag_1',\n",
    "    'date_item_avg_item_cnt_lag_1',\n",
    "    'date_item_avg_item_cnt_lag_2',\n",
    "    'date_item_avg_item_cnt_lag_3',\n",
    "    'date_item_avg_item_cnt_lag_6',\n",
    "    'date_item_avg_item_cnt_lag_12',\n",
    "    'date_shop_avg_item_cnt_lag_1',\n",
    "    'date_shop_avg_item_cnt_lag_2',\n",
    "    'date_shop_avg_item_cnt_lag_3',\n",
    "    'date_shop_avg_item_cnt_lag_6',\n",
    "    'date_shop_avg_item_cnt_lag_12',\n",
    "    'date_cat_avg_item_cnt_lag_1',\n",
    "    'date_shop_cat_avg_item_cnt_lag_1',\n",
    "    'date_city_avg_item_cnt_lag_1',\n",
    "    'date_item_city_avg_item_cnt_lag_1',\n",
    "    'delta_price_lag',\n",
    "    'month',\n",
    "    'days',\n",
    "    'item_shop_last_sale',\n",
    "    'item_last_sale',\n",
    "    'item_shop_first_sale',\n",
    "    'item_first_sale',\n",
    "]]"
   ],
   "metadata": {
    "collapsed": false,
    "pycharm": {
     "name": "#%%\n"
    }
   }
  },
  {
   "cell_type": "code",
   "execution_count": 5,
   "outputs": [],
   "source": [
    "df['delta_price_trend_with_lag_1'] = df_og['delta_price_lag']\n",
    "df['item_last_sold_in_given_shop'] = df_og['item_shop_last_sale']\n",
    "df['item_last_sold'] = df_og['item_last_sale']\n",
    "df['item_first_sold_in_given_shop'] = df_og['item_shop_first_sale']\n",
    "df['item_first_sold'] = df_og['item_first_sale']"
   ],
   "metadata": {
    "collapsed": false,
    "pycharm": {
     "name": "#%%\n"
    }
   }
  },
  {
   "cell_type": "code",
   "execution_count": 6,
   "outputs": [],
   "source": [
    "X_train = df[df.date_block_num < 33].drop(['item_cnt_month'], axis=1)\n",
    "Y_train = df[df.date_block_num < 33]['item_cnt_month']\n",
    "X_valid = df[df.date_block_num == 33].drop(['item_cnt_month'], axis=1)\n",
    "Y_valid = df[df.date_block_num == 33]['item_cnt_month']\n",
    "X_test = df[df.date_block_num == 34].drop(['item_cnt_month'], axis=1)"
   ],
   "metadata": {
    "collapsed": false,
    "pycharm": {
     "name": "#%%\n"
    }
   }
  },
  {
   "cell_type": "code",
   "execution_count": 7,
   "outputs": [
    {
     "name": "stdout",
     "output_type": "stream",
     "text": [
      "[0]\tvalidation_0-rmse:1.07133\tvalidation_1-rmse:1.06295\n",
      "[1]\tvalidation_0-rmse:0.98632\tvalidation_1-rmse:1.00546\n",
      "[2]\tvalidation_0-rmse:0.93826\tvalidation_1-rmse:0.97423\n",
      "[3]\tvalidation_0-rmse:0.90677\tvalidation_1-rmse:0.95155\n",
      "[4]\tvalidation_0-rmse:0.88959\tvalidation_1-rmse:0.94393\n",
      "[5]\tvalidation_0-rmse:0.87883\tvalidation_1-rmse:0.93751\n",
      "[6]\tvalidation_0-rmse:0.87034\tvalidation_1-rmse:0.93093\n",
      "[7]\tvalidation_0-rmse:0.86491\tvalidation_1-rmse:0.93007\n",
      "[8]\tvalidation_0-rmse:0.86188\tvalidation_1-rmse:0.93112\n",
      "[9]\tvalidation_0-rmse:0.85678\tvalidation_1-rmse:0.93028\n",
      "[10]\tvalidation_0-rmse:0.85278\tvalidation_1-rmse:0.92932\n",
      "[11]\tvalidation_0-rmse:0.85028\tvalidation_1-rmse:0.93026\n",
      "[12]\tvalidation_0-rmse:0.84829\tvalidation_1-rmse:0.93057\n",
      "[13]\tvalidation_0-rmse:0.84694\tvalidation_1-rmse:0.93024\n",
      "[14]\tvalidation_0-rmse:0.84306\tvalidation_1-rmse:0.93005\n",
      "[15]\tvalidation_0-rmse:0.84150\tvalidation_1-rmse:0.93137\n",
      "[16]\tvalidation_0-rmse:0.83922\tvalidation_1-rmse:0.93097\n",
      "[17]\tvalidation_0-rmse:0.83662\tvalidation_1-rmse:0.93495\n",
      "[18]\tvalidation_0-rmse:0.83432\tvalidation_1-rmse:0.93317\n",
      "[19]\tvalidation_0-rmse:0.83316\tvalidation_1-rmse:0.93291\n",
      "[20]\tvalidation_0-rmse:0.83207\tvalidation_1-rmse:0.93520\n"
     ]
    },
    {
     "data": {
      "text/plain": "XGBRegressor(base_score=0.5, booster='gbtree', colsample_bylevel=1,\n             colsample_bynode=1, colsample_bytree=0.8, eta=0.3, gamma=0,\n             gpu_id=-1, importance_type='gain', interaction_constraints='',\n             learning_rate=0.300000012, max_delta_step=0, max_depth=8,\n             min_child_weight=300, missing=nan, monotone_constraints='()',\n             n_estimators=1000, n_jobs=24, num_parallel_tree=1, random_state=42,\n             reg_alpha=0, reg_lambda=1, scale_pos_weight=1, seed=42,\n             subsample=0.8, tree_method='approx', validate_parameters=1,\n             verbosity=None)"
     },
     "execution_count": 7,
     "metadata": {},
     "output_type": "execute_result"
    }
   ],
   "source": [
    "from xgboost import XGBRegressor\n",
    "\n",
    "model = XGBRegressor(\n",
    "    max_depth=8,\n",
    "    n_estimators=1000,\n",
    "    min_child_weight=300,\n",
    "    colsample_bytree=0.8,\n",
    "    subsample=0.8,\n",
    "    eta=0.3,\n",
    "    seed=42)\n",
    "\n",
    "model.fit(\n",
    "    X_train,\n",
    "    Y_train,\n",
    "    eval_metric=\"rmse\",\n",
    "    eval_set=[(X_train, Y_train), (X_valid, Y_valid)],\n",
    "    verbose=True,\n",
    "    early_stopping_rounds = 10)"
   ],
   "metadata": {
    "collapsed": false,
    "pycharm": {
     "name": "#%%\n"
    }
   }
  },
  {
   "cell_type": "code",
   "execution_count": 9,
   "outputs": [],
   "source": [
    "test = pd.read_csv('data/technical/test.csv')\n",
    "\n",
    "Y_pred = model.predict(X_valid).clip(0, 20)\n",
    "Y_test = model.predict(X_test).clip(0, 20)\n",
    "\n",
    "submission = pd.DataFrame({\n",
    "    \"ID\": test.index,\n",
    "    \"item_cnt_month\": Y_test\n",
    "})\n",
    "submission.to_csv('xgb_submission.csv', index=False)"
   ],
   "metadata": {
    "collapsed": false,
    "pycharm": {
     "name": "#%%\n"
    }
   }
  }
 ],
 "metadata": {
  "kernelspec": {
   "display_name": "Python 3",
   "language": "python",
   "name": "python3"
  },
  "language_info": {
   "codemirror_mode": {
    "name": "ipython",
    "version": 2
   },
   "file_extension": ".py",
   "mimetype": "text/x-python",
   "name": "python",
   "nbconvert_exporter": "python",
   "pygments_lexer": "ipython2",
   "version": "2.7.6"
  }
 },
 "nbformat": 4,
 "nbformat_minor": 0
}