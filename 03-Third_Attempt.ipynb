{
 "cells": [
  {
   "cell_type": "code",
   "execution_count": 1,
   "metadata": {
    "collapsed": true
   },
   "outputs": [],
   "source": [
    "import pandas as pd\n",
    "df_train = pd.read_csv(\"data/technical/sales_train.csv\")"
   ]
  },
  {
   "cell_type": "code",
   "execution_count": 2,
   "outputs": [
    {
     "name": "stdout",
     "output_type": "stream",
     "text": [
      "Imported AutoViz_Class version: 0.0.81. Call using:\n",
      "    from autoviz.AutoViz_Class import AutoViz_Class\n",
      "    AV = AutoViz_Class()\n",
      "    AV.AutoViz(filename, sep=',', depVar='', dfte=None, header=0, verbose=0,\n",
      "                            lowess=False,chart_format='svg',max_rows_analyzed=150000,max_cols_analyzed=30)\n",
      "Note: verbose=0 or 1 generates charts and displays them in your local Jupyter notebook.\n",
      "      verbose=2 saves plots in your local machine under AutoViz_Plots directory and does not display charts.\n"
     ]
    }
   ],
   "source": [
    "# https://www.kaggle.com/yasserhessein/predict-future-sales-using-4-algorithms-regression\n",
    "\n",
    "from autoviz.AutoViz_Class import AutoViz_Class\n",
    "\n",
    "def plot_all():\n",
    "    AV = AutoViz_Class()\n",
    "    target='item_price'\n",
    "    df = AV.AutoViz(filename=\"\",sep=',', depVar=target, dfte=df_train, header=0, verbose=1,\n",
    "                    lowess=False, chart_format='svg', max_rows_analyzed=150000, max_cols_analyzed=30)\n",
    "\n",
    "# plot_all()"
   ],
   "metadata": {
    "collapsed": false,
    "pycharm": {
     "name": "#%%\n"
    }
   }
  },
  {
   "cell_type": "code",
   "execution_count": 3,
   "outputs": [],
   "source": [
    "# store the amount of items to verify it later on\n",
    "og_df_size = df_train.shape[0]"
   ],
   "metadata": {
    "collapsed": false,
    "pycharm": {
     "name": "#%%\n"
    }
   }
  },
  {
   "cell_type": "code",
   "execution_count": 4,
   "outputs": [
    {
     "name": "stdout",
     "output_type": "stream",
     "text": [
      "Column entry match\n"
     ]
    },
    {
     "data": {
      "text/plain": "      date  item_cnt_day\n0  2013-01           1.0\n1  2013-01           1.0\n2  2013-01          -1.0\n3  2013-01           1.0\n4  2013-01           1.0",
      "text/html": "<div>\n<style scoped>\n    .dataframe tbody tr th:only-of-type {\n        vertical-align: middle;\n    }\n\n    .dataframe tbody tr th {\n        vertical-align: top;\n    }\n\n    .dataframe thead th {\n        text-align: right;\n    }\n</style>\n<table border=\"1\" class=\"dataframe\">\n  <thead>\n    <tr style=\"text-align: right;\">\n      <th></th>\n      <th>date</th>\n      <th>item_cnt_day</th>\n    </tr>\n  </thead>\n  <tbody>\n    <tr>\n      <th>0</th>\n      <td>2013-01</td>\n      <td>1.0</td>\n    </tr>\n    <tr>\n      <th>1</th>\n      <td>2013-01</td>\n      <td>1.0</td>\n    </tr>\n    <tr>\n      <th>2</th>\n      <td>2013-01</td>\n      <td>-1.0</td>\n    </tr>\n    <tr>\n      <th>3</th>\n      <td>2013-01</td>\n      <td>1.0</td>\n    </tr>\n    <tr>\n      <th>4</th>\n      <td>2013-01</td>\n      <td>1.0</td>\n    </tr>\n  </tbody>\n</table>\n</div>"
     },
     "execution_count": 4,
     "metadata": {},
     "output_type": "execute_result"
    }
   ],
   "source": [
    "# transform to df date format\n",
    "df_train['date'] = pd.to_datetime(df_train['date'], dayfirst=True)\n",
    "# convert date to month\n",
    "df_train['date'] = df_train['date'].apply(lambda x: x.strftime('%Y-%m'))\n",
    "\n",
    "# create new df and verify that nothing gets lost\n",
    "df_all_sales = pd.DataFrame(df_train, columns=['date', 'item_cnt_day'])\n",
    "print(\"Column entry match\" if df_all_sales.shape[0] == og_df_size else \"Warning!\")\n",
    "\n",
    "df_all_sales.head()"
   ],
   "metadata": {
    "collapsed": false,
    "pycharm": {
     "name": "#%%\n"
    }
   }
  },
  {
   "cell_type": "code",
   "execution_count": 5,
   "outputs": [
    {
     "name": "stdout",
     "output_type": "stream",
     "text": [
      "      date  item_cnt_day\n",
      "0  2013-01           1.0\n",
      "1  2013-01           1.0\n",
      "2  2013-01          -1.0\n",
      "3  2013-01           1.0\n",
      "4  2013-01           1.0\n",
      "         item_cnt_day\n",
      "date                 \n",
      "2013-01      131479.0\n",
      "2013-02      128090.0\n",
      "2013-03      147142.0\n",
      "2013-04      107190.0\n",
      "2013-05      106970.0\n",
      "2013-06      125381.0\n",
      "2013-07      116966.0\n",
      "2013-08      125291.0\n",
      "2013-09      133332.0\n",
      "2013-10      127541.0\n",
      "2013-11      130009.0\n",
      "2013-12      183342.0\n",
      "2014-01      116899.0\n",
      "2014-02      109687.0\n",
      "2014-03      115297.0\n",
      "2014-04       96556.0\n",
      "2014-05       97790.0\n",
      "2014-06       97429.0\n",
      "2014-07       91280.0\n",
      "2014-08      102721.0\n",
      "2014-09       99208.0\n",
      "2014-10      107422.0\n",
      "2014-11      117845.0\n",
      "2014-12      168755.0\n",
      "2015-01      110971.0\n",
      "2015-02       84198.0\n",
      "2015-03       82014.0\n",
      "2015-04       77827.0\n",
      "2015-05       72295.0\n",
      "2015-06       64114.0\n",
      "2015-07       63187.0\n",
      "2015-08       66079.0\n",
      "2015-09       72843.0\n",
      "2015-10       71056.0\n"
     ]
    }
   ],
   "source": [
    "print(df_all_sales.head())\n",
    "df_all_sales.set_index('date', inplace=True)\n",
    "df_all_sales_summed = df_all_sales.sum(level='date')\n",
    "print(df_all_sales_summed)"
   ],
   "metadata": {
    "collapsed": false,
    "pycharm": {
     "name": "#%%\n"
    }
   }
  },
  {
   "cell_type": "code",
   "execution_count": 6,
   "outputs": [
    {
     "data": {
      "text/plain": "<AxesSubplot:xlabel='date'>"
     },
     "execution_count": 6,
     "metadata": {},
     "output_type": "execute_result"
    },
    {
     "data": {
      "text/plain": "<Figure size 432x288 with 1 Axes>",
      "image/png": "[encoded data removed]"
     },
     "metadata": {
      "needs_background": "light"
     },
     "output_type": "display_data"
    }
   ],
   "source": [
    "%matplotlib inline\n",
    "df_all_sales_summed.plot()"
   ],
   "metadata": {
    "collapsed": false,
    "pycharm": {
     "name": "#%%\n"
    }
   }
  }
 ],
 "metadata": {
  "kernelspec": {
   "display_name": "Python 3",
   "language": "python",
   "name": "python3"
  },
  "language_info": {
   "codemirror_mode": {
    "name": "ipython",
    "version": 2
   },
   "file_extension": ".py",
   "mimetype": "text/x-python",
   "name": "python",
   "nbconvert_exporter": "python",
   "pygments_lexer": "ipython2",
   "version": "2.7.6"
  }
 },
 "nbformat": 4,
 "nbformat_minor": 0
}