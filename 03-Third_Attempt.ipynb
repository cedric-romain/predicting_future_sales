{
 "cells": [
  {
   "cell_type": "code",
   "execution_count": 1,
   "metadata": {
    "collapsed": true
   },
   "outputs": [],
   "source": [
    "import pandas as pd\n",
    "df_train = pd.read_csv(\"data/technical/sales_train.csv\")"
   ]
  },
  {
   "cell_type": "markdown",
   "source": [
    "# Autoplot for Reference"
   ],
   "metadata": {
    "collapsed": false,
    "pycharm": {
     "name": "#%% md\n"
    }
   }
  },
  {
   "cell_type": "code",
   "execution_count": 2,
   "outputs": [
    {
     "name": "stdout",
     "output_type": "stream",
     "text": [
      "Imported AutoViz_Class version: 0.0.81. Call using:\n",
      "    from autoviz.AutoViz_Class import AutoViz_Class\n",
      "    AV = AutoViz_Class()\n",
      "    AV.AutoViz(filename, sep=',', depVar='', dfte=None, header=0, verbose=0,\n",
      "                            lowess=False,chart_format='svg',max_rows_analyzed=150000,max_cols_analyzed=30)\n",
      "Note: verbose=0 or 1 generates charts and displays them in your local Jupyter notebook.\n",
      "      verbose=2 saves plots in your local machine under AutoViz_Plots directory and does not display charts.\n"
     ]
    }
   ],
   "source": [
    "# https://www.kaggle.com/yasserhessein/predict-future-sales-using-4-algorithms-regression\n",
    "\n",
    "from autoviz.AutoViz_Class import AutoViz_Class\n",
    "\n",
    "def plot_all():\n",
    "    AV = AutoViz_Class()\n",
    "    target='item_price'\n",
    "    df = AV.AutoViz(filename=\"\",sep=',', depVar=target, dfte=df_train, header=0, verbose=1,\n",
    "                    lowess=False, chart_format='svg', max_rows_analyzed=150000, max_cols_analyzed=30)\n",
    "\n",
    "# plot_all()"
   ],
   "metadata": {
    "collapsed": false,
    "pycharm": {
     "name": "#%%\n"
    }
   }
  },
  {
   "cell_type": "code",
   "execution_count": 3,
   "outputs": [],
   "source": [
    "# store the amount of items to verify it later on\n",
    "og_df_size = df_train.shape[0]"
   ],
   "metadata": {
    "collapsed": false,
    "pycharm": {
     "name": "#%%\n"
    }
   }
  },
  {
   "cell_type": "code",
   "execution_count": null,
   "outputs": [],
   "source": [
    "# transform to df date format\n",
    "df_train['date'] = pd.to_datetime(df_train['date'], dayfirst=True)\n",
    "# convert date to month\n",
    "df_train['date'] = df_train['date'].apply(lambda x: x.strftime('%Y-%m'))\n",
    "\n",
    "# create new df and verify that nothing gets lost\n",
    "df_all_sales = pd.DataFrame(df_train, columns=['date', 'item_cnt_day'])\n",
    "print(\"Column entry match\" if df_all_sales.shape[0] == og_df_size else \"Warning!\")\n",
    "\n",
    "df_all_sales.head()"
   ],
   "metadata": {
    "collapsed": false,
    "pycharm": {
     "name": "#%%\n",
     "is_executing": true
    }
   }
  },
  {
   "cell_type": "code",
   "execution_count": null,
   "outputs": [],
   "source": [
    "print(df_all_sales.head())\n",
    "df_all_sales.set_index('date', inplace=True)\n",
    "df_all_sales_summed = df_all_sales.sum(level='date')\n",
    "print(df_all_sales_summed)"
   ],
   "metadata": {
    "collapsed": false,
    "pycharm": {
     "name": "#%%\n",
     "is_executing": true
    }
   }
  },
  {
   "cell_type": "code",
   "execution_count": null,
   "outputs": [],
   "source": [
    "%matplotlib inline\n",
    "df_all_sales_summed.plot()"
   ],
   "metadata": {
    "collapsed": false,
    "pycharm": {
     "name": "#%%\n",
     "is_executing": true
    }
   }
  },
  {
   "cell_type": "markdown",
   "source": [
    "# Get an overview of the items sold per shop\n"
   ],
   "metadata": {
    "collapsed": false,
    "pycharm": {
     "name": "#%% md\n"
    }
   }
  },
  {
   "cell_type": "code",
   "execution_count": null,
   "outputs": [],
   "source": [
    "df_all_sales_per_shop = pd.DataFrame(df_train, columns=['date', 'item_cnt_day', 'shop_id'])\n",
    "print(\"Column entry match\" if df_all_sales_per_shop.shape[0] == og_df_size else \"Warning!\")\n",
    "\n",
    "df_all_sales_per_shop.set_index(['date', 'shop_id'], inplace=True)"
   ],
   "metadata": {
    "collapsed": false,
    "pycharm": {
     "name": "#%%\n",
     "is_executing": true
    }
   }
  },
  {
   "cell_type": "code",
   "execution_count": null,
   "outputs": [],
   "source": [
    "df_all_sales_per_category_summed = df_all_sales_per_shop.sum(level=['date', 'shop_id'])\n",
    "print(df_all_sales_per_category_summed)"
   ],
   "metadata": {
    "collapsed": false,
    "pycharm": {
     "name": "#%%\n",
     "is_executing": true
    }
   }
  }
 ],
 "metadata": {
  "kernelspec": {
   "display_name": "Python 3",
   "language": "python",
   "name": "python3"
  },
  "language_info": {
   "codemirror_mode": {
    "name": "ipython",
    "version": 2
   },
   "file_extension": ".py",
   "mimetype": "text/x-python",
   "name": "python",
   "nbconvert_exporter": "python",
   "pygments_lexer": "ipython2",
   "version": "2.7.6"
  }
 },
 "nbformat": 4,
 "nbformat_minor": 0
}