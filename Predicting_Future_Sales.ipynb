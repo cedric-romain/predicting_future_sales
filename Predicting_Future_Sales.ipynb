{
 "cells": [
  {
   "cell_type": "markdown",
   "metadata": {
    "pycharm": {
     "name": "#%% md\n"
    }
   },
   "source": [
    "<!-- Add CSS Styles. Content starts in the next cell. -->\n",
    "\n",
    "<!-- Boxes that stand out to catch the readers attention. -->\n",
    "\n",
    "<style>\n",
    ".info {\n",
    "  padding: 20px;\n",
    "  background-color: #139ed6;\n",
    "  color: white;\n",
    "  margin-bottom: 15px;\n",
    "}\n",
    "\n",
    ".info:before {\n",
    " content: \"📝\";\n",
    "}\n",
    "\n",
    ".warn {\n",
    "  padding: 20px;\n",
    "  background-color: #d11414;\n",
    "  color: white;\n",
    "  margin-bottom: 15px;\n",
    "}\n",
    "\n",
    ".warn:before {\n",
    " content: \"⚠️\";\n",
    "}\n",
    "</style>"
   ]
  },
  {
   "cell_type": "markdown",
   "metadata": {
    "pycharm": {
     "name": "#%% md\n"
    }
   },
   "source": [
    "# Predicting Future Sales\n",
    "\n",
    "This notebook contains the process of the data for my submission\n",
    "to the Kaggle competition [\"Predicting Future Sales\"](https://www.kaggle.com/c/competitive-data-science-predict-future-sales).\n",
    "\n",
    "A setup guide for the runtime environment can be found in the projects\n",
    "[README](./README.adoc) file."
   ]
  },
  {
   "cell_type": "markdown",
   "metadata": {
    "pycharm": {
     "name": "#%% md\n"
    }
   },
   "source": [
    "<!-- Table of contents -->\n",
    "\n",
    "<!-- TODO: add TOC -->"
   ]
  },
  {
   "cell_type": "markdown",
   "metadata": {
    "pycharm": {
     "name": "#%% md\n"
    }
   },
   "source": [
    "## Prerequisites"
   ]
  },
  {
   "cell_type": "markdown",
   "metadata": {
    "pycharm": {
     "name": "#%% md\n"
    }
   },
   "source": [
    "### Imports"
   ]
  },
  {
   "cell_type": "code",
   "execution_count": 1,
   "metadata": {
    "collapsed": true
   },
   "outputs": [],
   "source": [
    "# Basic packages\n",
    "import pandas as pd\n",
    "import numpy as np\n",
    "\n",
    "# Plotting libraries\n",
    "import matplotlib.pyplot as plt\n",
    "import seaborn as sns\n",
    "\n",
    "# Advanced features\n",
    "from itertools import product\n",
    "from datetime import datetime\n",
    "\n",
    "# Machine learning tools\n",
    "from sklearn.linear_model import LinearRegression\n",
    "from sklearn.model_selection import GridSearchCV\n",
    "\n",
    "# My packages\n",
    "import src.plotting.Defaults\n",
    "from src.datacleaning.ConvertingDateValues import date_to_month, date_to_iso8601, iso8601_format\n",
    "from src.util.FunctionExecTime import time_runtime"
   ]
  },
  {
   "cell_type": "markdown",
   "metadata": {
    "pycharm": {
     "name": "#%% md\n"
    }
   },
   "source": [
    "### Set package options"
   ]
  },
  {
   "cell_type": "code",
   "execution_count": 2,
   "metadata": {
    "pycharm": {
     "name": "#%%\n"
    }
   },
   "outputs": [],
   "source": [
    "pd.set_option('display.max_rows', 500)\n",
    "pd.set_option('display.max_columns', 100)\n",
    "\n",
    "%matplotlib inline\n",
    "# set the default marker style for all plots\n",
    "src.plotting.Defaults.set_defaults()"
   ]
  },
  {
   "cell_type": "markdown",
   "metadata": {
    "pycharm": {
     "name": "#%% md\n"
    }
   },
   "source": [
    "### Import data"
   ]
  },
  {
   "cell_type": "code",
   "execution_count": 3,
   "metadata": {
    "pycharm": {
     "name": "#%%\n"
    }
   },
   "outputs": [],
   "source": [
    "# Metadata packages\n",
    "items = pd.read_csv('data/info/items.csv')\n",
    "shops = pd.read_csv('data/info/shops.csv')\n",
    "cats = pd.read_csv('data/info/item_categories.csv')\n",
    "\n",
    "# Train and test data\n",
    "train = pd.read_csv('data/technical/sales_train.csv', parse_dates=['date'])\n",
    "test  = pd.read_csv('data/technical/test.csv').set_index('ID')"
   ]
  },
  {
   "cell_type": "markdown",
   "metadata": {
    "pycharm": {
     "name": "#%% md\n"
    }
   },
   "source": [
    "### Data formatting"
   ]
  },
  {
   "cell_type": "code",
   "execution_count": 4,
   "metadata": {
    "pycharm": {
     "name": "#%%\n"
    }
   },
   "outputs": [
    {
     "name": "stdout",
     "output_type": "stream",
     "text": [
      "Runtime: 13s\n"
     ]
    }
   ],
   "source": [
    "# contains the raw train with months only\n",
    "trains_in_months = train.copy()\n",
    "train_in_months = time_runtime(date_to_month, trains_in_months)"
   ]
  },
  {
   "cell_type": "markdown",
   "metadata": {
    "pycharm": {
     "name": "#%% md\n"
    }
   },
   "source": [
    "## Exploratory Data Analysis\n"
   ]
  },
  {
   "cell_type": "markdown",
   "metadata": {
    "pycharm": {
     "name": "#%% md\n"
    }
   },
   "source": [
    "### View monthly sales"
   ]
  },
  {
   "cell_type": "code",
   "execution_count": 5,
   "metadata": {
    "pycharm": {
     "name": "#%%\n"
    }
   },
   "outputs": [
    {
     "name": "stdout",
     "output_type": "stream",
     "text": [
      "Runtime: 240ms\n"
     ]
    }
   ],
   "source": [
    "def view_all_sales():\n",
    "    # create a new data frame with the relevant columns.\n",
    "    df = pd.DataFrame(train_in_months, columns=['date', 'item_cnt_day'])\n",
    "    df.set_index('date', inplace=True)\n",
    "\n",
    "    # sum the values to get a monthly overview\n",
    "    df = df.groupby(['date']).sum()\n",
    "\n",
    "    # rename the column to match new output\n",
    "    df.rename(columns = {'item_cnt_day':'item_cnt_month'}, inplace = True)\n",
    "\n",
    "    return df\n",
    "\n",
    "all_sales = time_runtime(view_all_sales)"
   ]
  },
  {
   "cell_type": "code",
   "execution_count": 6,
   "metadata": {
    "pycharm": {
     "name": "#%%\n"
    }
   },
   "outputs": [
    {
     "data": {
      "text/plain": "<AxesSubplot:xlabel='date'>"
     },
     "execution_count": 6,
     "metadata": {},
     "output_type": "execute_result"
    },
    {
     "data": {
      "text/plain": "<Figure size 432x288 with 1 Axes>",
      "image/png": "[encoded data removed]"
     },
     "metadata": {
      "needs_background": "light"
     },
     "output_type": "display_data"
    }
   ],
   "source": [
    "all_sales.plot()"
   ]
  },
  {
   "cell_type": "markdown",
   "metadata": {
    "pycharm": {
     "name": "#%% md\n"
    }
   },
   "source": [
    "<div class=\"info\">\n",
    "    We can observe a strong seasonality with spiking end of year sales.\n",
    "    <br>\n",
    "    This is particularily noteworthy as the month to predict in question is\n",
    "    going to be the month of november.\n",
    "    <br><br>\n",
    "    Additionally, the trend seems to be going downwards over time.\n",
    "</div>"
   ]
  },
  {
   "cell_type": "markdown",
   "source": [
    "### View monthly revenue"
   ],
   "metadata": {
    "collapsed": false,
    "pycharm": {
     "name": "#%% md\n"
    }
   }
  },
  {
   "cell_type": "code",
   "execution_count": 7,
   "outputs": [
    {
     "name": "stdout",
     "output_type": "stream",
     "text": [
      "Runtime: 19s\n"
     ]
    }
   ],
   "source": [
    "def compute_revenue():\n",
    "    # pick the relevant columns\n",
    "    df = pd.DataFrame(train_in_months, columns=['date', 'item_cnt_day', 'item_price'])\n",
    "    # calculate the revenue\n",
    "    df['revenue'] = df.apply(lambda x: x['item_cnt_day'] * x['item_price'], axis=1)\n",
    "    # drop no longer needed columns\n",
    "    df.drop(['item_cnt_day', 'item_price'], axis=1, inplace=True)\n",
    "\n",
    "    # set the index\n",
    "    df.set_index('date', inplace=True)\n",
    "    # and regroup the monthly revenue\n",
    "    return df.groupby(['date']).sum()\n",
    "\n",
    "revenue = time_runtime(compute_revenue)"
   ],
   "metadata": {
    "collapsed": false,
    "pycharm": {
     "name": "#%%\n"
    }
   }
  },
  {
   "cell_type": "code",
   "execution_count": 8,
   "outputs": [
    {
     "data": {
      "text/plain": "<AxesSubplot:xlabel='date'>"
     },
     "execution_count": 8,
     "metadata": {},
     "output_type": "execute_result"
    },
    {
     "data": {
      "text/plain": "<Figure size 432x288 with 1 Axes>",
      "image/png": "[encoded data removed]"
     },
     "metadata": {
      "needs_background": "light"
     },
     "output_type": "display_data"
    }
   ],
   "source": [
    "revenue.plot()"
   ],
   "metadata": {
    "collapsed": false,
    "pycharm": {
     "name": "#%%\n"
    }
   }
  },
  {
   "cell_type": "markdown",
   "source": [
    "<div class=\"info\">\n",
    "    Fortunately, the revenue is closely correlated to the total sales as\n",
    "    excpected.\n",
    "</div>"
   ],
   "metadata": {
    "collapsed": false,
    "pycharm": {
     "name": "#%% md\n"
    }
   }
  },
  {
   "cell_type": "markdown",
   "source": [
    "### Inspect `item_cnt_day`"
   ],
   "metadata": {
    "collapsed": false,
    "pycharm": {
     "name": "#%% md\n"
    }
   }
  },
  {
   "cell_type": "code",
   "execution_count": 9,
   "outputs": [
    {
     "data": {
      "text/plain": "<AxesSubplot:xlabel='item_cnt_day'>"
     },
     "execution_count": 9,
     "metadata": {},
     "output_type": "execute_result"
    },
    {
     "data": {
      "text/plain": "<Figure size 720x144 with 1 Axes>",
      "image/png": "[encoded data removed]"
     },
     "metadata": {
      "needs_background": "light"
     },
     "output_type": "display_data"
    }
   ],
   "source": [
    "plt.figure(figsize=(10,2))\n",
    "sns.boxplot(x=train_in_months.item_cnt_day)"
   ],
   "metadata": {
    "collapsed": false,
    "pycharm": {
     "name": "#%%\n"
    }
   }
  },
  {
   "cell_type": "markdown",
   "source": [
    "<div class=\"info\">\n",
    "    Two outliers can be observed. This will have to be examined further\n",
    "    down the line.\n",
    "</div>"
   ],
   "metadata": {
    "collapsed": false,
    "pycharm": {
     "name": "#%% md\n"
    }
   }
  },
  {
   "cell_type": "markdown",
   "source": [
    "### Inspect `item_price`"
   ],
   "metadata": {
    "collapsed": false
   }
  },
  {
   "cell_type": "code",
   "execution_count": 10,
   "outputs": [
    {
     "data": {
      "text/plain": "<AxesSubplot:xlabel='item_price'>"
     },
     "execution_count": 10,
     "metadata": {},
     "output_type": "execute_result"
    },
    {
     "data": {
      "text/plain": "<Figure size 720x144 with 1 Axes>",
      "image/png": "[encoded data removed]"
     },
     "metadata": {
      "needs_background": "light"
     },
     "output_type": "display_data"
    }
   ],
   "source": [
    "plt.figure(figsize=(10,2))\n",
    "sns.boxplot(x=train_in_months.item_price)"
   ],
   "metadata": {
    "collapsed": false,
    "pycharm": {
     "name": "#%%\n"
    }
   }
  },
  {
   "cell_type": "markdown",
   "source": [
    "<div class=\"info\">\n",
    "    One outlier can be observed. This will have to be examined further\n",
    "    down the line.\n",
    "</div>"
   ],
   "metadata": {
    "collapsed": false
   }
  },
  {
   "cell_type": "markdown",
   "source": [
    "### Inspect `item_id`"
   ],
   "metadata": {
    "collapsed": false
   }
  },
  {
   "cell_type": "code",
   "execution_count": 11,
   "outputs": [
    {
     "name": "stdout",
     "output_type": "stream",
     "text": [
      "Runtime: 396ms\n"
     ]
    }
   ],
   "source": [
    "def inspect_total_sales_per_item_cat():\n",
    "    df = pd.DataFrame(train_in_months, columns=['item_cnt_day', 'item_id'])\n",
    "    df = df.set_index('item_id', drop=True).join(items.set_index('item_id'))\n",
    "    df.drop(['item_name'], axis=1, inplace=True)\n",
    "    df.set_index(['item_category_id'], inplace=True)\n",
    "    df = df.groupby(['item_category_id']).sum()\n",
    "    df.rename(columns = {'item_cnt_day':'item_cnt_total'}, inplace = True)\n",
    "\n",
    "    return df\n",
    "\n",
    "\n",
    "sales_per_item_cat = time_runtime(inspect_total_sales_per_item_cat)"
   ],
   "metadata": {
    "collapsed": false,
    "pycharm": {
     "name": "#%%\n"
    }
   }
  },
  {
   "cell_type": "code",
   "execution_count": 12,
   "outputs": [
    {
     "data": {
      "text/plain": "Text(0, 0.5, 'Total item category sales')"
     },
     "execution_count": 12,
     "metadata": {},
     "output_type": "execute_result"
    },
    {
     "data": {
      "text/plain": "<Figure size 864x360 with 1 Axes>",
      "image/png": "[encoded data removed]"
     },
     "metadata": {
      "needs_background": "light"
     },
     "output_type": "display_data"
    }
   ],
   "source": [
    "plt.figure(figsize=(12,5))\n",
    "plt.bar(sales_per_item_cat.index, sales_per_item_cat['item_cnt_total'])\n",
    "plt.xlabel(\"Item category ID\")\n",
    "plt.ylabel(\"Total item category sales\")"
   ],
   "metadata": {
    "collapsed": false,
    "pycharm": {
     "name": "#%%\n"
    }
   }
  },
  {
   "cell_type": "markdown",
   "source": [
    "#### Inspect outliers"
   ],
   "metadata": {
    "collapsed": false
   }
  },
  {
   "cell_type": "markdown",
   "source": [
    "Obvious top-performers are found. Let's find out what the category corresponds\n",
    "to as well as verify that there are no categories without any sale records."
   ],
   "metadata": {
    "collapsed": false
   }
  },
  {
   "cell_type": "code",
   "execution_count": 13,
   "outputs": [
    {
     "data": {
      "text/plain": "                  item_cnt_total                   item_category_name  \\\nitem_category_id                                                        \n19                      254887.0                           Игры - PS3   \n30                      456540.0        Игры PC - Стандартные издания   \n37                      203284.0                       Кино - Blu-Ray   \n40                      634171.0                           Кино - DVD   \n55                      348591.0  Музыка - CD локального производства   \n\n                  item_category_id  \nitem_category_id                    \n19                              19  \n30                              30  \n37                              37  \n40                              40  \n55                              55  ",
      "text/html": "<div>\n<style scoped>\n    .dataframe tbody tr th:only-of-type {\n        vertical-align: middle;\n    }\n\n    .dataframe tbody tr th {\n        vertical-align: top;\n    }\n\n    .dataframe thead th {\n        text-align: right;\n    }\n</style>\n<table border=\"1\" class=\"dataframe\">\n  <thead>\n    <tr style=\"text-align: right;\">\n      <th></th>\n      <th>item_cnt_total</th>\n      <th>item_category_name</th>\n      <th>item_category_id</th>\n    </tr>\n    <tr>\n      <th>item_category_id</th>\n      <th></th>\n      <th></th>\n      <th></th>\n    </tr>\n  </thead>\n  <tbody>\n    <tr>\n      <th>19</th>\n      <td>254887.0</td>\n      <td>Игры - PS3</td>\n      <td>19</td>\n    </tr>\n    <tr>\n      <th>30</th>\n      <td>456540.0</td>\n      <td>Игры PC - Стандартные издания</td>\n      <td>30</td>\n    </tr>\n    <tr>\n      <th>37</th>\n      <td>203284.0</td>\n      <td>Кино - Blu-Ray</td>\n      <td>37</td>\n    </tr>\n    <tr>\n      <th>40</th>\n      <td>634171.0</td>\n      <td>Кино - DVD</td>\n      <td>40</td>\n    </tr>\n    <tr>\n      <th>55</th>\n      <td>348591.0</td>\n      <td>Музыка - CD локального производства</td>\n      <td>55</td>\n    </tr>\n  </tbody>\n</table>\n</div>"
     },
     "execution_count": 13,
     "metadata": {},
     "output_type": "execute_result"
    }
   ],
   "source": [
    "top_performing_item_categories = sales_per_item_cat[sales_per_item_cat['item_cnt_total'] > 200_000]\n",
    "top_performing_item_categories = top_performing_item_categories.join(cats, on='item_category_id', how='inner')\n",
    "top_performing_item_categories.head(top_performing_item_categories.size)"
   ],
   "metadata": {
    "collapsed": false,
    "pycharm": {
     "name": "#%%\n"
    }
   }
  },
  {
   "cell_type": "markdown",
   "source": [
    "Let's have a look at the translation ([using Google Translate](https://translate.google.com/?sl=ru&tl=en&op=translate))\n",
    "\n",
    "| Russian                               | Translation                           |\n",
    "| ------------------------------------- | ------------------------------------- |\n",
    "| Игры - PS3                            | Games - PS3                           |\n",
    "| Игры PC - Стандартные издания\t        | PC Games - Standard Editions          |\n",
    "| Кино - Blu-Ray\t                    | Movie - Blu-Ray                       |\n",
    "| Кино - DVD\t                        | Movies - DVD                          |\n",
    "| Музыка - CD локального производства   | Music - locally produced CD           |"
   ],
   "metadata": {
    "collapsed": false,
    "pycharm": {
     "name": "#%% md\n"
    }
   }
  },
  {
   "cell_type": "code",
   "execution_count": 14,
   "outputs": [
    {
     "data": {
      "text/plain": "                  item_cnt_total                 item_category_name  \\\nitem_category_id                                                      \n0                            3.0            PC - Гарнитуры/Наушники   \n1                            2.0                   Аксессуары - PS2   \n10                           1.0              Игровые консоли - PS2   \n27                           8.0                   Игры MAC - Цифра   \n48                           6.0    Книги - Компьютерная литература   \n50                           3.0                   Книги - Открытки   \n51                           1.0  Книги - Познавательная литература   \n52                           3.0               Книги - Путеводители   \n53                           3.0  Книги - Художественная литература   \n\n                  item_category_id  \nitem_category_id                    \n0                                0  \n1                                1  \n10                              10  \n27                              27  \n48                              48  \n50                              50  \n51                              51  \n52                              52  \n53                              53  ",
      "text/html": "<div>\n<style scoped>\n    .dataframe tbody tr th:only-of-type {\n        vertical-align: middle;\n    }\n\n    .dataframe tbody tr th {\n        vertical-align: top;\n    }\n\n    .dataframe thead th {\n        text-align: right;\n    }\n</style>\n<table border=\"1\" class=\"dataframe\">\n  <thead>\n    <tr style=\"text-align: right;\">\n      <th></th>\n      <th>item_cnt_total</th>\n      <th>item_category_name</th>\n      <th>item_category_id</th>\n    </tr>\n    <tr>\n      <th>item_category_id</th>\n      <th></th>\n      <th></th>\n      <th></th>\n    </tr>\n  </thead>\n  <tbody>\n    <tr>\n      <th>0</th>\n      <td>3.0</td>\n      <td>PC - Гарнитуры/Наушники</td>\n      <td>0</td>\n    </tr>\n    <tr>\n      <th>1</th>\n      <td>2.0</td>\n      <td>Аксессуары - PS2</td>\n      <td>1</td>\n    </tr>\n    <tr>\n      <th>10</th>\n      <td>1.0</td>\n      <td>Игровые консоли - PS2</td>\n      <td>10</td>\n    </tr>\n    <tr>\n      <th>27</th>\n      <td>8.0</td>\n      <td>Игры MAC - Цифра</td>\n      <td>27</td>\n    </tr>\n    <tr>\n      <th>48</th>\n      <td>6.0</td>\n      <td>Книги - Компьютерная литература</td>\n      <td>48</td>\n    </tr>\n    <tr>\n      <th>50</th>\n      <td>3.0</td>\n      <td>Книги - Открытки</td>\n      <td>50</td>\n    </tr>\n    <tr>\n      <th>51</th>\n      <td>1.0</td>\n      <td>Книги - Познавательная литература</td>\n      <td>51</td>\n    </tr>\n    <tr>\n      <th>52</th>\n      <td>3.0</td>\n      <td>Книги - Путеводители</td>\n      <td>52</td>\n    </tr>\n    <tr>\n      <th>53</th>\n      <td>3.0</td>\n      <td>Книги - Художественная литература</td>\n      <td>53</td>\n    </tr>\n  </tbody>\n</table>\n</div>"
     },
     "execution_count": 14,
     "metadata": {},
     "output_type": "execute_result"
    }
   ],
   "source": [
    "low_performing_item_categories = sales_per_item_cat[sales_per_item_cat['item_cnt_total'] < 10]\n",
    "low_performing_item_categories = low_performing_item_categories.join(cats, on='item_category_id', how='inner')\n",
    "low_performing_item_categories.head(low_performing_item_categories.size)"
   ],
   "metadata": {
    "collapsed": false,
    "pycharm": {
     "name": "#%%\n"
    }
   }
  },
  {
   "cell_type": "markdown",
   "source": [
    "Let's have a look at the translation ([using Google Translate](https://translate.google.com/?sl=ru&tl=en&op=translate))\n",
    "\n",
    "| Russian                               | Translation                           |\n",
    "| ------------------------------------- | ------------------------------------- |\n",
    "| PC - Гарнитуры/Наушники\t            | PC - Headsets / Headphones            |\n",
    "| Аксессуары - PS2\t                    | Accessories - PS2                     |\n",
    "| Игровые консоли - PS2\t                | Game consoles - PS2                   |\n",
    "| Игры MAC - Цифра\t                    | MAC Games - Number                    |\n",
    "| Книги - Компьютерная литература\t    | Books - Computer Literature           |\n",
    "| Книги - Открытки\t                    | Books - Postcards                     |\n",
    "| Книги - Познавательная литература     | Books - Educational literature        |\n",
    "| Книги - Путеводители                  | Books - Guides                        |\n",
    "| Книги - Художественная литература     | Books - Fiction                       |"
   ],
   "metadata": {
    "collapsed": false
   }
  },
  {
   "cell_type": "markdown",
   "source": [
    "Books seem to be in very low demand. Let's find out if there are any other\n",
    "categories containing books."
   ],
   "metadata": {
    "collapsed": false,
    "pycharm": {
     "name": "#%% md\n"
    }
   }
  },
  {
   "cell_type": "code",
   "execution_count": 15,
   "outputs": [
    {
     "data": {
      "text/plain": "                   item_category_name  item_category_id\n42      Книги - Артбуки, энциклопедии                42\n43                 Книги - Аудиокниги                43\n44         Книги - Аудиокниги (Цифра)                44\n45              Книги - Аудиокниги 1С                45\n46          Книги - Бизнес литература                46\n47             Книги - Комиксы, манга                47\n48    Книги - Компьютерная литература                48\n49  Книги - Методические материалы 1С                49\n50                   Книги - Открытки                50\n51  Книги - Познавательная литература                51\n52               Книги - Путеводители                52\n53  Книги - Художественная литература                53\n54                      Книги - Цифра                54",
      "text/html": "<div>\n<style scoped>\n    .dataframe tbody tr th:only-of-type {\n        vertical-align: middle;\n    }\n\n    .dataframe tbody tr th {\n        vertical-align: top;\n    }\n\n    .dataframe thead th {\n        text-align: right;\n    }\n</style>\n<table border=\"1\" class=\"dataframe\">\n  <thead>\n    <tr style=\"text-align: right;\">\n      <th></th>\n      <th>item_category_name</th>\n      <th>item_category_id</th>\n    </tr>\n  </thead>\n  <tbody>\n    <tr>\n      <th>42</th>\n      <td>Книги - Артбуки, энциклопедии</td>\n      <td>42</td>\n    </tr>\n    <tr>\n      <th>43</th>\n      <td>Книги - Аудиокниги</td>\n      <td>43</td>\n    </tr>\n    <tr>\n      <th>44</th>\n      <td>Книги - Аудиокниги (Цифра)</td>\n      <td>44</td>\n    </tr>\n    <tr>\n      <th>45</th>\n      <td>Книги - Аудиокниги 1С</td>\n      <td>45</td>\n    </tr>\n    <tr>\n      <th>46</th>\n      <td>Книги - Бизнес литература</td>\n      <td>46</td>\n    </tr>\n    <tr>\n      <th>47</th>\n      <td>Книги - Комиксы, манга</td>\n      <td>47</td>\n    </tr>\n    <tr>\n      <th>48</th>\n      <td>Книги - Компьютерная литература</td>\n      <td>48</td>\n    </tr>\n    <tr>\n      <th>49</th>\n      <td>Книги - Методические материалы 1С</td>\n      <td>49</td>\n    </tr>\n    <tr>\n      <th>50</th>\n      <td>Книги - Открытки</td>\n      <td>50</td>\n    </tr>\n    <tr>\n      <th>51</th>\n      <td>Книги - Познавательная литература</td>\n      <td>51</td>\n    </tr>\n    <tr>\n      <th>52</th>\n      <td>Книги - Путеводители</td>\n      <td>52</td>\n    </tr>\n    <tr>\n      <th>53</th>\n      <td>Книги - Художественная литература</td>\n      <td>53</td>\n    </tr>\n    <tr>\n      <th>54</th>\n      <td>Книги - Цифра</td>\n      <td>54</td>\n    </tr>\n  </tbody>\n</table>\n</div>"
     },
     "execution_count": 15,
     "metadata": {},
     "output_type": "execute_result"
    }
   ],
   "source": [
    "other_book_cats = cats[cats['item_category_name'].str.contains(\"Книги\")]\n",
    "other_book_cats.head(other_book_cats.size)"
   ],
   "metadata": {
    "collapsed": false,
    "pycharm": {
     "name": "#%%\n"
    }
   }
  },
  {
   "cell_type": "code",
   "execution_count": 16,
   "outputs": [
    {
     "data": {
      "text/plain": "                  item_cnt_total\nitem_category_id                \n42                        3955.0\n43                       26595.0\n44                         252.0\n45                        5236.0\n46                          15.0\n47                        6876.0\n48                           6.0\n49                       26490.0\n50                           3.0\n51                           1.0\n52                           3.0\n53                           3.0\n54                        6906.0",
      "text/html": "<div>\n<style scoped>\n    .dataframe tbody tr th:only-of-type {\n        vertical-align: middle;\n    }\n\n    .dataframe tbody tr th {\n        vertical-align: top;\n    }\n\n    .dataframe thead th {\n        text-align: right;\n    }\n</style>\n<table border=\"1\" class=\"dataframe\">\n  <thead>\n    <tr style=\"text-align: right;\">\n      <th></th>\n      <th>item_cnt_total</th>\n    </tr>\n    <tr>\n      <th>item_category_id</th>\n      <th></th>\n    </tr>\n  </thead>\n  <tbody>\n    <tr>\n      <th>42</th>\n      <td>3955.0</td>\n    </tr>\n    <tr>\n      <th>43</th>\n      <td>26595.0</td>\n    </tr>\n    <tr>\n      <th>44</th>\n      <td>252.0</td>\n    </tr>\n    <tr>\n      <th>45</th>\n      <td>5236.0</td>\n    </tr>\n    <tr>\n      <th>46</th>\n      <td>15.0</td>\n    </tr>\n    <tr>\n      <th>47</th>\n      <td>6876.0</td>\n    </tr>\n    <tr>\n      <th>48</th>\n      <td>6.0</td>\n    </tr>\n    <tr>\n      <th>49</th>\n      <td>26490.0</td>\n    </tr>\n    <tr>\n      <th>50</th>\n      <td>3.0</td>\n    </tr>\n    <tr>\n      <th>51</th>\n      <td>1.0</td>\n    </tr>\n    <tr>\n      <th>52</th>\n      <td>3.0</td>\n    </tr>\n    <tr>\n      <th>53</th>\n      <td>3.0</td>\n    </tr>\n    <tr>\n      <th>54</th>\n      <td>6906.0</td>\n    </tr>\n  </tbody>\n</table>\n</div>"
     },
     "execution_count": 16,
     "metadata": {},
     "output_type": "execute_result"
    }
   ],
   "source": [
    "book_sales = sales_per_item_cat[sales_per_item_cat.index >= 42]\n",
    "book_sales = book_sales[book_sales.index <= 54]\n",
    "book_sales.head(book_sales.size)"
   ],
   "metadata": {
    "collapsed": false,
    "pycharm": {
     "name": "#%%\n"
    }
   }
  },
  {
   "cell_type": "markdown",
   "source": [
    "Inspect the average amount of books sold, which is expected to be well\n",
    "below average.\n",
    "\n",
    "The most selling book subcategories within the book section are namely\n",
    "category 43 with \"Audiobooks\" (Книги - Аудиокниги) and category 49\n",
    "with \"methodical materials\" from the in-store brand from [1C](https://1c.ru/eng/title.htm).\n",
    "(Книги - Методические материалы 1С)"
   ],
   "metadata": {
    "collapsed": false,
    "pycharm": {
     "name": "#%% md\n"
    }
   }
  },
  {
   "cell_type": "code",
   "execution_count": 17,
   "outputs": [
    {
     "data": {
      "text/plain": "5872"
     },
     "execution_count": 17,
     "metadata": {},
     "output_type": "execute_result"
    }
   ],
   "source": [
    "# average amount of sold books per category\n",
    "int(book_sales['item_cnt_total'].sum() / book_sales.size)"
   ],
   "metadata": {
    "collapsed": false,
    "pycharm": {
     "name": "#%%\n"
    }
   }
  },
  {
   "cell_type": "markdown",
   "source": [
    "#### Inspect overall average of sales of each item category"
   ],
   "metadata": {
    "collapsed": false
   }
  },
  {
   "cell_type": "code",
   "execution_count": 18,
   "outputs": [
    {
     "data": {
      "text/plain": "43431"
     },
     "execution_count": 18,
     "metadata": {},
     "output_type": "execute_result"
    }
   ],
   "source": [
    "# overall average of sold items per item category\n",
    "int(sales_per_item_cat['item_cnt_total'].sum() / sales_per_item_cat.size)"
   ],
   "metadata": {
    "collapsed": false,
    "pycharm": {
     "name": "#%%\n"
    }
   }
  },
  {
   "cell_type": "markdown",
   "source": [
    "#### Conclusion\n",
    "\n",
    "<div class=\"info\">\n",
    "    We can see that for this \"software store\", media seems to be of\n",
    "    particularly popular demand.\n",
    "    <br>\n",
    "    The categories containing various subcategories of books is well\n",
    "    below the average demand in a store.\n",
    "    <br>\n",
    "    Potential features could be extracted from this information.\n",
    "</div>"
   ],
   "metadata": {
    "collapsed": false
   }
  },
  {
   "cell_type": "markdown",
   "source": [
    "### Inspect `shop_id`"
   ],
   "metadata": {
    "collapsed": false
   }
  },
  {
   "cell_type": "code",
   "execution_count": 19,
   "outputs": [
    {
     "name": "stdout",
     "output_type": "stream",
     "text": [
      "Runtime: 52ms\n"
     ]
    }
   ],
   "source": [
    "def inspect_total_sales_per_shop():\n",
    "    df = pd.DataFrame(train_in_months, columns=['item_cnt_day', 'shop_id'])\n",
    "    df.set_index(['shop_id'], inplace=True)\n",
    "    df.rename(columns = {'item_cnt_day':'item_cnt_total'}, inplace = True)\n",
    "\n",
    "    return df.groupby(['shop_id']).sum()\n",
    "\n",
    "sales_per_shop = time_runtime(inspect_total_sales_per_shop)"
   ],
   "metadata": {
    "collapsed": false,
    "pycharm": {
     "name": "#%%\n"
    }
   }
  },
  {
   "cell_type": "code",
   "execution_count": 20,
   "outputs": [
    {
     "data": {
      "text/plain": "Text(0, 0.5, 'Total shop sales')"
     },
     "execution_count": 20,
     "metadata": {},
     "output_type": "execute_result"
    },
    {
     "data": {
      "text/plain": "<Figure size 864x360 with 1 Axes>",
      "image/png": "[encoded data removed]"
     },
     "metadata": {
      "needs_background": "light"
     },
     "output_type": "display_data"
    }
   ],
   "source": [
    "plt.figure(figsize=(12,5))\n",
    "plt.bar(sales_per_shop.index, sales_per_shop['item_cnt_total'])\n",
    "plt.xlabel(\"Shop ID\")\n",
    "plt.ylabel(\"Total shop sales\")"
   ],
   "metadata": {
    "collapsed": false,
    "pycharm": {
     "name": "#%%\n"
    }
   }
  },
  {
   "cell_type": "markdown",
   "source": [
    "#### Inspect outliers"
   ],
   "metadata": {
    "collapsed": false,
    "pycharm": {
     "name": "#%% md\n"
    }
   }
  },
  {
   "cell_type": "markdown",
   "source": [
    "Shop Nr. 36 appears to be non-existent. Let's verify that."
   ],
   "metadata": {
    "collapsed": false,
    "pycharm": {
     "name": "#%% md\n"
    }
   }
  },
  {
   "cell_type": "code",
   "execution_count": 21,
   "outputs": [
    {
     "data": {
      "text/plain": "330"
     },
     "execution_count": 21,
     "metadata": {},
     "output_type": "execute_result"
    }
   ],
   "source": [
    "int(sales_per_shop.iloc[36]['item_cnt_total'])"
   ],
   "metadata": {
    "collapsed": false,
    "pycharm": {
     "name": "#%%\n"
    }
   }
  },
  {
   "cell_type": "markdown",
   "source": [
    "#### Inspect overall average of sales per shop"
   ],
   "metadata": {
    "collapsed": false
   }
  },
  {
   "cell_type": "code",
   "execution_count": 22,
   "outputs": [
    {
     "data": {
      "text/plain": "60803"
     },
     "execution_count": 22,
     "metadata": {},
     "output_type": "execute_result"
    }
   ],
   "source": [
    "int(sales_per_shop['item_cnt_total'].sum() / sales_per_shop.size)"
   ],
   "metadata": {
    "collapsed": false,
    "pycharm": {
     "name": "#%%\n"
    }
   }
  },
  {
   "cell_type": "markdown",
   "source": [
    "#### Conclusion\n",
    "\n",
    "<div class=\"info\">\n",
    "    We verified that each and every shop has a positive sales record.\n",
    "    <br>\n",
    "    The average value of 60k sales per shop in total can be confirmed in the\n",
    "    bar diagramm showing the distribution: there are about as many shop's with\n",
    "    under-average performance as there are shops with an exceptionally\n",
    "    high record.\n",
    "    <br>\n",
    "    The location of the shops might be of additional interest.\n",
    "    <br>\n",
    "    Shop Nr. 55 is the Online Store of the company.\n",
    "    <br>\n",
    "    Shop Nr. 20 to 32 are all located in the capital city of Moscow\n",
    "</div>"
   ],
   "metadata": {
    "collapsed": false,
    "pycharm": {
     "name": "#%% md\n"
    }
   }
  },
  {
   "cell_type": "markdown",
   "source": [
    "### Inspect the time series"
   ],
   "metadata": {
    "collapsed": false,
    "pycharm": {
     "name": "#%% md\n"
    }
   }
  },
  {
   "cell_type": "code",
   "execution_count": 23,
   "outputs": [
    {
     "name": "stdout",
     "output_type": "stream",
     "text": [
      "Runtime: 13s\n"
     ]
    }
   ],
   "source": [
    "train_in_iso8601 = train.copy()\n",
    "train_in_months = time_runtime(date_to_iso8601, train_in_iso8601)"
   ],
   "metadata": {
    "collapsed": false,
    "pycharm": {
     "name": "#%%\n"
    }
   }
  },
  {
   "cell_type": "code",
   "execution_count": 24,
   "outputs": [
    {
     "name": "stdout",
     "output_type": "stream",
     "text": [
      "Runtime: 1min & 48s\n"
     ]
    }
   ],
   "source": [
    "all_dates = set()\n",
    "\n",
    "def put_all_days_in_set():\n",
    "    for index, row in train_in_iso8601.iterrows():\n",
    "        date = row['date']  # access the row\n",
    "        date = datetime.strptime(date, '%Y-%m-%d')  # convert to datetime format\n",
    "        date_as_int = date.toordinal()  # convert to ordinal format for date arithmetic\n",
    "        all_dates.add((date_as_int, date))  # add to set\n",
    "\n",
    "time_runtime(put_all_days_in_set)"
   ],
   "metadata": {
    "collapsed": false,
    "pycharm": {
     "name": "#%%\n"
    }
   }
  },
  {
   "cell_type": "code",
   "execution_count": 25,
   "outputs": [],
   "source": [
    "# transform the set to a list and sort it\n",
    "all_dates = list(all_dates)\n",
    "all_dates.sort()"
   ],
   "metadata": {
    "collapsed": false,
    "pycharm": {
     "name": "#%%\n"
    }
   }
  },
  {
   "cell_type": "code",
   "execution_count": 26,
   "outputs": [
    {
     "name": "stdout",
     "output_type": "stream",
     "text": [
      "739, (735608, datetime.datetime(2015, 1, 10, 0, 0))\n",
      "768, (735639, datetime.datetime(2015, 2, 10, 0, 0))\n",
      "794, (735667, datetime.datetime(2015, 3, 10, 0, 0))\n",
      "823, (735698, datetime.datetime(2015, 4, 10, 0, 0))\n",
      "851, (735728, datetime.datetime(2015, 5, 10, 0, 0))\n",
      "880, (735759, datetime.datetime(2015, 6, 10, 0, 0))\n",
      "908, (735789, datetime.datetime(2015, 7, 10, 0, 0))\n",
      "937, (735820, datetime.datetime(2015, 8, 10, 0, 0))\n",
      "966, (735851, datetime.datetime(2015, 9, 10, 0, 0))\n",
      "994, (735881, datetime.datetime(2015, 10, 10, 0, 0))\n",
      "1023, (735912, datetime.datetime(2015, 11, 10, 0, 0))\n",
      "Runtime: 451ns\n"
     ]
    }
   ],
   "source": [
    "counter_entries_in_all_dates = len(all_dates)\n",
    "anomalies_in_date_series = set()\n",
    "\n",
    "def check_for_interruptions():\n",
    "    for i in range(counter_entries_in_all_dates):\n",
    "\n",
    "\n",
    "        if i != (counter_entries_in_all_dates - 1):\n",
    "            ordinal_this_date = all_dates[i][0]\n",
    "            ordinal_successor_date = all_dates[i+1][0]\n",
    "\n",
    "            if ordinal_this_date + 1 != ordinal_successor_date:\n",
    "                print(f\"{i}, {all_dates[i]}\")\n",
    "                anomalies_in_date_series.add(i)\n",
    "\n",
    "time_runtime(check_for_interruptions)"
   ],
   "metadata": {
    "collapsed": false,
    "pycharm": {
     "name": "#%%\n"
    }
   }
  },
  {
   "cell_type": "code",
   "execution_count": 27,
   "outputs": [
    {
     "name": "stdout",
     "output_type": "stream",
     "text": [
      "2015-02-10 / 2015-02-13\n",
      "2015-10-10 / 2015-10-13\n",
      "2015-01-10 / 2015-01-13\n",
      "2015-09-10 / 2015-09-13\n",
      "2015-08-10 / 2015-08-13\n",
      "2015-07-10 / 2015-07-13 is a weekend.\n",
      "2015-06-10 / 2015-06-13\n",
      "2015-05-10 / 2015-05-13\n",
      "2015-04-10 / 2015-04-13 is a weekend.\n",
      "2015-03-10 / 2015-03-13\n",
      "2015-11-10 / 2015-12-01\n",
      "Runtime: 199ns\n"
     ]
    }
   ],
   "source": [
    "def check_if_interruption_is_weekend():\n",
    "    for anomaly_index in anomalies_in_date_series:\n",
    "        lower_bound = all_dates[anomaly_index]\n",
    "        upper_bound = all_dates[anomaly_index + 1]\n",
    "\n",
    "        lower_bound_formatted = lower_bound[1].strftime(iso8601_format)\n",
    "        upper_bound_formatted = upper_bound[1].strftime(iso8601_format)\n",
    "        prepare_print = f\"{lower_bound_formatted} / {upper_bound_formatted}\"\n",
    "\n",
    "        # if it could be a weekend\n",
    "        if upper_bound[0] - lower_bound[0] == 3:\n",
    "            if lower_bound[1].weekday() == 4:\n",
    "                prepare_print += f\" is a weekend.\"\n",
    "\n",
    "        print(prepare_print)\n",
    "\n",
    "time_runtime(check_if_interruption_is_weekend)"
   ],
   "metadata": {
    "collapsed": false,
    "pycharm": {
     "name": "#%%\n"
    }
   }
  },
  {
   "cell_type": "markdown",
   "source": [
    "<div class=\"info\">\n",
    "    Found a few breaks in the continuity of the timeseries.\n",
    "    The breaks are mostly 2 days long.\n",
    "    Identified the weekends which do not seem to have any particular\n",
    "    significant impact.\n",
    "    <br>\n",
    "    The month of November, which has is to be predicted, has a few entries\n",
    "    already present.\n",
    "</div>"
   ],
   "metadata": {
    "collapsed": false
   }
  },
  {
   "cell_type": "markdown",
   "source": [
    "<div class=\"warn\">\n",
    "    Found an error in the series. The date of '2015-11-10' is not present\n",
    "    in the dataset.\n",
    "</div>"
   ],
   "metadata": {
    "collapsed": false,
    "pycharm": {
     "name": "#%% md\n"
    }
   }
  }
 ],
 "metadata": {
  "kernelspec": {
   "display_name": "Python 3 (ipykernel)",
   "language": "python",
   "name": "python3"
  },
  "language_info": {
   "codemirror_mode": {
    "name": "ipython",
    "version": 3
   },
   "file_extension": ".py",
   "mimetype": "text/x-python",
   "name": "python",
   "nbconvert_exporter": "python",
   "pygments_lexer": "ipython3",
   "version": "3.8.11"
  }
 },
 "nbformat": 4,
 "nbformat_minor": 1
}