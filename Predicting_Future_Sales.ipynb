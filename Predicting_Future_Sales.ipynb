{
 "cells": [
  {
   "cell_type": "markdown",
   "source": [
    "<!-- Add CSS Styles. Content starts in the next cell. -->\n",
    "\n",
    "<!-- Boxes that stand out to catch the readers attention. -->\n",
    "\n",
    "<style>\n",
    ".info {\n",
    "  padding: 20px;\n",
    "  background-color: #139ed6;\n",
    "  color: white;\n",
    "  margin-bottom: 15px;\n",
    "}\n",
    "\n",
    ".info:before {\n",
    " content: \"📝\";\n",
    "}\n",
    "</style>\n",
    "\n",
    "<!-- CSS Stuff for user interaction -->\n",
    "\n",
    "<style>\n",
    ".closebtn {\n",
    "  margin-left: 15px;\n",
    "  color: white;\n",
    "  font-weight: bold;\n",
    "  float: right;\n",
    "  font-size: 22px;\n",
    "  line-height: 20px;\n",
    "  cursor: pointer;\n",
    "  transition: 0.3s;\n",
    "}\n",
    "\n",
    ".closebtn:hover {\n",
    "  color: black;\n",
    "}\n",
    "</style>"
   ],
   "metadata": {
    "collapsed": false,
    "pycharm": {
     "name": "#%% md\n"
    }
   }
  },
  {
   "cell_type": "markdown",
   "source": [
    "# Predicting Future Sales\n",
    "\n",
    "This notebook contains the process of the data for my submission\n",
    "to the Kaggle competition [\"Predicting Future Sales\"](https://www.kaggle.com/c/competitive-data-science-predict-future-sales).\n",
    "\n",
    "A setup guide for the runtime environment can be found in the projects\n",
    "[README](./README.adoc) file."
   ],
   "metadata": {
    "collapsed": false,
    "pycharm": {
     "name": "#%% md\n"
    }
   }
  },
  {
   "cell_type": "markdown",
   "source": [
    "<!-- Table of contents -->\n",
    "\n",
    "<!-- TODO: add TOC -->"
   ],
   "metadata": {
    "collapsed": false,
    "pycharm": {
     "name": "#%% md\n"
    }
   }
  },
  {
   "cell_type": "markdown",
   "source": [
    "## Prerequisites"
   ],
   "metadata": {
    "collapsed": false,
    "pycharm": {
     "name": "#%% md\n"
    }
   }
  },
  {
   "cell_type": "markdown",
   "source": [
    "### Imports"
   ],
   "metadata": {
    "collapsed": false,
    "pycharm": {
     "name": "#%% md\n"
    }
   }
  },
  {
   "cell_type": "code",
   "execution_count": 1,
   "metadata": {
    "collapsed": true
   },
   "outputs": [],
   "source": [
    "# Basic packages\n",
    "import pandas as pd\n",
    "import numpy as np\n",
    "\n",
    "# Plotting libraries\n",
    "import matplotlib.pyplot as plt\n",
    "import seaborn as sns\n",
    "\n",
    "# Advanced features\n",
    "from itertools import product\n",
    "\n",
    "# Machine learning tools\n",
    "from sklearn.linear_model import LinearRegression\n",
    "from sklearn.model_selection import GridSearchCV\n",
    "\n",
    "# My packages\n",
    "import src.plotting.Defaults\n",
    "import src.datacleaning.ConvertingDateValues"
   ]
  },
  {
   "cell_type": "markdown",
   "source": [
    "### Set package options"
   ],
   "metadata": {
    "collapsed": false,
    "pycharm": {
     "name": "#%% md\n"
    }
   }
  },
  {
   "cell_type": "code",
   "execution_count": 2,
   "outputs": [],
   "source": [
    "pd.set_option('display.max_rows', 500)\n",
    "pd.set_option('display.max_columns', 100)\n",
    "\n",
    "%matplotlib inline\n",
    "# set the default marker style for all plots\n",
    "src.plotting.Defaults.set_defaults()"
   ],
   "metadata": {
    "collapsed": false,
    "pycharm": {
     "name": "#%%\n"
    }
   }
  },
  {
   "cell_type": "markdown",
   "source": [
    "### Import data"
   ],
   "metadata": {
    "collapsed": false,
    "pycharm": {
     "name": "#%% md\n"
    }
   }
  },
  {
   "cell_type": "code",
   "execution_count": 3,
   "outputs": [],
   "source": [
    "# Metadata packages\n",
    "items = pd.read_csv('data/info/items.csv')\n",
    "shops = pd.read_csv('data/info/shops.csv')\n",
    "cats = pd.read_csv('data/info/item_categories.csv')\n",
    "\n",
    "# Train and test data\n",
    "train = pd.read_csv('data/technical/sales_train.csv')\n",
    "test  = pd.read_csv('data/technical/test.csv').set_index('ID')"
   ],
   "metadata": {
    "collapsed": false,
    "pycharm": {
     "name": "#%%\n"
    }
   }
  },
  {
   "cell_type": "markdown",
   "source": [
    "### Data formatting"
   ],
   "metadata": {
    "collapsed": false,
    "pycharm": {
     "name": "#%% md\n"
    }
   }
  },
  {
   "cell_type": "code",
   "execution_count": 4,
   "outputs": [],
   "source": [
    "train = src.datacleaning.ConvertingDateValues.date_to_month(train)"
   ],
   "metadata": {
    "collapsed": false,
    "pycharm": {
     "name": "#%%\n"
    }
   }
  },
  {
   "cell_type": "markdown",
   "source": [
    "## Exploratory Data Analysis\n"
   ],
   "metadata": {
    "collapsed": false,
    "pycharm": {
     "name": "#%% md\n"
    }
   }
  },
  {
   "cell_type": "markdown",
   "source": [
    "### View monthly sales"
   ],
   "metadata": {
    "collapsed": false,
    "pycharm": {
     "name": "#%% md\n"
    }
   }
  },
  {
   "cell_type": "code",
   "execution_count": 5,
   "outputs": [],
   "source": [
    "# create a new data frame with the relevant columns.\n",
    "df_all_sales = pd.DataFrame(train, columns=['date', 'item_cnt_day'])\n",
    "df_all_sales.set_index('date', inplace=True)\n",
    "\n",
    "# sum the values to get a monthly overview\n",
    "df_all_sales_summed = df_all_sales.groupby(['date']).sum()\n",
    "\n",
    "# rename the column to match new output\n",
    "df_all_sales_summed.rename(columns = {'item_cnt_day':'item_cnt_month'}, inplace = True)"
   ],
   "metadata": {
    "collapsed": false,
    "pycharm": {
     "name": "#%%\n"
    }
   }
  },
  {
   "cell_type": "code",
   "execution_count": 6,
   "outputs": [
    {
     "data": {
      "text/plain": "<AxesSubplot:xlabel='date'>"
     },
     "execution_count": 6,
     "metadata": {},
     "output_type": "execute_result"
    },
    {
     "data": {
      "text/plain": "<Figure size 432x288 with 1 Axes>",
      "image/png": "[encoded data removed]"
     },
     "metadata": {
      "needs_background": "light"
     },
     "output_type": "display_data"
    }
   ],
   "source": [
    "df_all_sales_summed.plot()"
   ],
   "metadata": {
    "collapsed": false,
    "pycharm": {
     "name": "#%%\n"
    }
   }
  },
  {
   "cell_type": "markdown",
   "source": [
    "<div class=\"info\">\n",
    "    <span class=\"closebtn\" onclick=\"this.parentElement.style.display='none';\">&times;</span>\n",
    "    We can observe a strong seasonality with spiking end of year sales.\n",
    "    <br>\n",
    "    This is particularily noteworthy as the month to predict in question is\n",
    "    going to be the month of november.\n",
    "    <br><br>\n",
    "    Additionally, the trend seems to be going downwards over time.\n",
    "</div>"
   ],
   "metadata": {
    "collapsed": false,
    "pycharm": {
     "name": "#%% md\n"
    }
   }
  }
 ],
 "metadata": {
  "kernelspec": {
   "display_name": "Python 3",
   "language": "python",
   "name": "python3"
  },
  "language_info": {
   "codemirror_mode": {
    "name": "ipython",
    "version": 2
   },
   "file_extension": ".py",
   "mimetype": "text/x-python",
   "name": "python",
   "nbconvert_exporter": "python",
   "pygments_lexer": "ipython2",
   "version": "2.7.6"
  }
 },
 "nbformat": 4,
 "nbformat_minor": 0
}