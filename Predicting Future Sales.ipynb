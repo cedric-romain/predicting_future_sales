{
 "cells": [
  {
   "cell_type": "markdown",
   "source": [
    "# Imports: packages and data"
   ],
   "metadata": {
    "collapsed": false,
    "pycharm": {
     "name": "#%% md\n"
    }
   }
  },
  {
   "cell_type": "code",
   "metadata": {
    "collapsed": true,
    "pycharm": {
     "name": "#%%\n"
    }
   },
   "source": [
    "# import packages\n",
    "import pandas as pd\n",
    "import seaborn as sns\n",
    "import numpy as np\n",
    "import warnings\n",
    "warnings.filterwarnings('ignore')"
   ],
   "execution_count": 24,
   "outputs": []
  },
  {
   "cell_type": "code",
   "execution_count": 25,
   "outputs": [],
   "source": [
    "# import the train data\n",
    "df_train = pd.read_csv(\"data/technical/sales_train.csv\")"
   ],
   "metadata": {
    "collapsed": false,
    "pycharm": {
     "name": "#%%\n"
    }
   }
  },
  {
   "cell_type": "markdown",
   "source": [
    "Place for methods to enhance readability"
   ],
   "metadata": {
    "collapsed": false,
    "pycharm": {
     "name": "#%% md\n"
    }
   }
  },
  {
   "cell_type": "code",
   "execution_count": 26,
   "outputs": [],
   "source": [
    "# method to pretty print the probabilities as fixed percetage\n",
    "def percent(float):\n",
    "    return '{:.2%}'.format(float)"
   ],
   "metadata": {
    "collapsed": false,
    "pycharm": {
     "name": "#%%\n"
    }
   }
  },
  {
   "cell_type": "markdown",
   "source": [
    "# Get a feeling for the train data"
   ],
   "metadata": {
    "collapsed": false,
    "pycharm": {
     "name": "#%% md\n"
    }
   }
  },
  {
   "cell_type": "code",
   "execution_count": 27,
   "outputs": [
    {
     "data": {
      "text/plain": "Index(['date', 'date_block_num', 'shop_id', 'item_id', 'item_price',\n       'item_cnt_day'],\n      dtype='object')"
     },
     "execution_count": 27,
     "metadata": {},
     "output_type": "execute_result"
    }
   ],
   "source": [
    "df_train.columns\n"
   ],
   "metadata": {
    "collapsed": false,
    "pycharm": {
     "name": "#%%\n"
    }
   }
  },
  {
   "cell_type": "code",
   "execution_count": 28,
   "outputs": [
    {
     "data": {
      "text/plain": "         date  date_block_num  shop_id  item_id  item_price  item_cnt_day\n0  02.01.2013               0       59    22154      999.00           1.0\n1  03.01.2013               0       25     2552      899.00           1.0\n2  05.01.2013               0       25     2552      899.00          -1.0\n3  06.01.2013               0       25     2554     1709.05           1.0\n4  15.01.2013               0       25     2555     1099.00           1.0",
      "text/html": "<div>\n<style scoped>\n    .dataframe tbody tr th:only-of-type {\n        vertical-align: middle;\n    }\n\n    .dataframe tbody tr th {\n        vertical-align: top;\n    }\n\n    .dataframe thead th {\n        text-align: right;\n    }\n</style>\n<table border=\"1\" class=\"dataframe\">\n  <thead>\n    <tr style=\"text-align: right;\">\n      <th></th>\n      <th>date</th>\n      <th>date_block_num</th>\n      <th>shop_id</th>\n      <th>item_id</th>\n      <th>item_price</th>\n      <th>item_cnt_day</th>\n    </tr>\n  </thead>\n  <tbody>\n    <tr>\n      <th>0</th>\n      <td>02.01.2013</td>\n      <td>0</td>\n      <td>59</td>\n      <td>22154</td>\n      <td>999.00</td>\n      <td>1.0</td>\n    </tr>\n    <tr>\n      <th>1</th>\n      <td>03.01.2013</td>\n      <td>0</td>\n      <td>25</td>\n      <td>2552</td>\n      <td>899.00</td>\n      <td>1.0</td>\n    </tr>\n    <tr>\n      <th>2</th>\n      <td>05.01.2013</td>\n      <td>0</td>\n      <td>25</td>\n      <td>2552</td>\n      <td>899.00</td>\n      <td>-1.0</td>\n    </tr>\n    <tr>\n      <th>3</th>\n      <td>06.01.2013</td>\n      <td>0</td>\n      <td>25</td>\n      <td>2554</td>\n      <td>1709.05</td>\n      <td>1.0</td>\n    </tr>\n    <tr>\n      <th>4</th>\n      <td>15.01.2013</td>\n      <td>0</td>\n      <td>25</td>\n      <td>2555</td>\n      <td>1099.00</td>\n      <td>1.0</td>\n    </tr>\n  </tbody>\n</table>\n</div>"
     },
     "execution_count": 28,
     "metadata": {},
     "output_type": "execute_result"
    }
   ],
   "source": [
    "df_train.head()\n"
   ],
   "metadata": {
    "collapsed": false,
    "pycharm": {
     "name": "#%%\n"
    }
   }
  },
  {
   "cell_type": "code",
   "execution_count": 29,
   "outputs": [
    {
     "data": {
      "text/plain": "       date_block_num       shop_id       item_id    item_price  item_cnt_day\ncount    2.935849e+06  2.935849e+06  2.935849e+06  2.935849e+06  2.935849e+06\nmean     1.456991e+01  3.300173e+01  1.019723e+04  8.908532e+02  1.242641e+00\nstd      9.422988e+00  1.622697e+01  6.324297e+03  1.729800e+03  2.618834e+00\nmin      0.000000e+00  0.000000e+00  0.000000e+00 -1.000000e+00 -2.200000e+01\n25%      7.000000e+00  2.200000e+01  4.476000e+03  2.490000e+02  1.000000e+00\n50%      1.400000e+01  3.100000e+01  9.343000e+03  3.990000e+02  1.000000e+00\n75%      2.300000e+01  4.700000e+01  1.568400e+04  9.990000e+02  1.000000e+00\nmax      3.300000e+01  5.900000e+01  2.216900e+04  3.079800e+05  2.169000e+03",
      "text/html": "<div>\n<style scoped>\n    .dataframe tbody tr th:only-of-type {\n        vertical-align: middle;\n    }\n\n    .dataframe tbody tr th {\n        vertical-align: top;\n    }\n\n    .dataframe thead th {\n        text-align: right;\n    }\n</style>\n<table border=\"1\" class=\"dataframe\">\n  <thead>\n    <tr style=\"text-align: right;\">\n      <th></th>\n      <th>date_block_num</th>\n      <th>shop_id</th>\n      <th>item_id</th>\n      <th>item_price</th>\n      <th>item_cnt_day</th>\n    </tr>\n  </thead>\n  <tbody>\n    <tr>\n      <th>count</th>\n      <td>2.935849e+06</td>\n      <td>2.935849e+06</td>\n      <td>2.935849e+06</td>\n      <td>2.935849e+06</td>\n      <td>2.935849e+06</td>\n    </tr>\n    <tr>\n      <th>mean</th>\n      <td>1.456991e+01</td>\n      <td>3.300173e+01</td>\n      <td>1.019723e+04</td>\n      <td>8.908532e+02</td>\n      <td>1.242641e+00</td>\n    </tr>\n    <tr>\n      <th>std</th>\n      <td>9.422988e+00</td>\n      <td>1.622697e+01</td>\n      <td>6.324297e+03</td>\n      <td>1.729800e+03</td>\n      <td>2.618834e+00</td>\n    </tr>\n    <tr>\n      <th>min</th>\n      <td>0.000000e+00</td>\n      <td>0.000000e+00</td>\n      <td>0.000000e+00</td>\n      <td>-1.000000e+00</td>\n      <td>-2.200000e+01</td>\n    </tr>\n    <tr>\n      <th>25%</th>\n      <td>7.000000e+00</td>\n      <td>2.200000e+01</td>\n      <td>4.476000e+03</td>\n      <td>2.490000e+02</td>\n      <td>1.000000e+00</td>\n    </tr>\n    <tr>\n      <th>50%</th>\n      <td>1.400000e+01</td>\n      <td>3.100000e+01</td>\n      <td>9.343000e+03</td>\n      <td>3.990000e+02</td>\n      <td>1.000000e+00</td>\n    </tr>\n    <tr>\n      <th>75%</th>\n      <td>2.300000e+01</td>\n      <td>4.700000e+01</td>\n      <td>1.568400e+04</td>\n      <td>9.990000e+02</td>\n      <td>1.000000e+00</td>\n    </tr>\n    <tr>\n      <th>max</th>\n      <td>3.300000e+01</td>\n      <td>5.900000e+01</td>\n      <td>2.216900e+04</td>\n      <td>3.079800e+05</td>\n      <td>2.169000e+03</td>\n    </tr>\n  </tbody>\n</table>\n</div>"
     },
     "execution_count": 29,
     "metadata": {},
     "output_type": "execute_result"
    }
   ],
   "source": [
    "df_train.describe()"
   ],
   "metadata": {
    "collapsed": false,
    "pycharm": {
     "name": "#%%\n"
    }
   }
  },
  {
   "cell_type": "markdown",
   "source": [
    "# Analyze the Label: `item_cnt_day`\n",
    "\n",
    "The final label is going to be the items sold in a month. Therefore, the sum\n",
    "of the daily sales.\n"
   ],
   "metadata": {
    "collapsed": false,
    "pycharm": {
     "name": "#%% md\n"
    }
   }
  },
  {
   "cell_type": "code",
   "execution_count": 30,
   "outputs": [
    {
     "data": {
      "text/plain": "<AxesSubplot:xlabel='item_cnt_day', ylabel='Density'>"
     },
     "execution_count": 30,
     "metadata": {},
     "output_type": "execute_result"
    },
    {
     "data": {
      "text/plain": "<Figure size 432x288 with 1 Axes>",
      "image/png": "[encoded data removed]"
     },
     "metadata": {
      "needs_background": "light"
     },
     "output_type": "display_data"
    }
   ],
   "source": [
    "sns.distplot(df_train['item_cnt_day'])"
   ],
   "metadata": {
    "collapsed": false,
    "pycharm": {
     "name": "#%%\n"
    }
   }
  },
  {
   "cell_type": "markdown",
   "source": [
    "This was not very convincing. Now analyzing how many times an item has been\n",
    "sold at least twice in one shop on a single day. The idea is to isolate bulk\n",
    "purchases and detect edge cases.\n"
   ],
   "metadata": {
    "collapsed": false,
    "pycharm": {
     "name": "#%% md\n"
    }
   }
  },
  {
   "cell_type": "code",
   "execution_count": 31,
   "outputs": [
    {
     "name": "stdout",
     "output_type": "stream",
     "text": [
      "2935849 - Total amount of sales regarding exclusive items as well as exclusive days\n",
      "306477 (11.66%) - This many times an item has been sold more than once.\n"
     ]
    }
   ],
   "source": [
    "# get the amount of entry points\n",
    "total_items_sold_regrouped_per_day = df_train.shape[0]\n",
    "print(f\"{total_items_sold_regrouped_per_day} - Total amount of sales\"\n",
    "      f\" regarding exclusive items as well as exclusive days\")\n",
    "\n",
    "# count how many times an item has been sold once and only once within a day\n",
    "amount_of_single_items_sold_in_a_day = \\\n",
    "    df_train[df_train.item_cnt_day == 1].shape[0]\n",
    "\n",
    "# create a new frame with said data\n",
    "df_how_many_items_were_sold_in_bulk = df_train[df_train.item_cnt_day != 1]\n",
    "\n",
    "# count its occurrences\n",
    "how_many_items_were_sold_in_bulk = df_how_many_items_were_sold_in_bulk.shape[0]\n",
    "# calculate the share in comparison to the entire dataset\n",
    "how_many_items_were_sold_in_bulk_share = \\\n",
    "    how_many_items_were_sold_in_bulk / amount_of_single_items_sold_in_a_day\n",
    "\n",
    "# print the results\n",
    "print(f\"{how_many_items_were_sold_in_bulk} \"\n",
    "      f\"({percent(how_many_items_were_sold_in_bulk_share)})\"\n",
    "      f\" - This many times an item has been sold more than once.\")"
   ],
   "metadata": {
    "collapsed": false,
    "pycharm": {
     "name": "#%%\n"
    }
   }
  },
  {
   "cell_type": "markdown",
   "source": [
    "Get a fresh overview"
   ],
   "metadata": {
    "collapsed": false,
    "pycharm": {
     "name": "#%% md\n"
    }
   }
  },
  {
   "cell_type": "code",
   "execution_count": 32,
   "outputs": [
    {
     "data": {
      "text/plain": "count    306477.000000\nmean          3.324341\nstd           7.801254\nmin         -22.000000\n25%           2.000000\n50%           2.000000\n75%           3.000000\nmax        2169.000000\nName: item_cnt_day, dtype: float64"
     },
     "execution_count": 32,
     "metadata": {},
     "output_type": "execute_result"
    }
   ],
   "source": [
    "df_how_many_items_were_sold_in_bulk.item_cnt_day.describe()"
   ],
   "metadata": {
    "collapsed": false,
    "pycharm": {
     "name": "#%%\n"
    }
   }
  },
  {
   "cell_type": "code",
   "execution_count": 33,
   "outputs": [
    {
     "data": {
      "text/plain": "<AxesSubplot:xlabel='item_cnt_day', ylabel='Density'>"
     },
     "execution_count": 33,
     "metadata": {},
     "output_type": "execute_result"
    },
    {
     "data": {
      "text/plain": "<Figure size 432x288 with 1 Axes>",
      "image/png": "[encoded data removed]"
     },
     "metadata": {
      "needs_background": "light"
     },
     "output_type": "display_data"
    }
   ],
   "source": [
    "sns.distplot(df_how_many_items_were_sold_in_bulk['item_cnt_day'])"
   ],
   "metadata": {
    "collapsed": false,
    "pycharm": {
     "name": "#%%\n"
    }
   }
  },
  {
   "cell_type": "markdown",
   "source": [
    "A bit more gets visible now... still not satisfying.\n",
    "\n",
    "### Overview of the sold item counters with a negative value\n",
    "\n",
    "Let's look at why and how many items are being counted negatively and as well\n",
    "as the spikes."
   ],
   "metadata": {
    "collapsed": false,
    "pycharm": {
     "name": "#%% md\n"
    }
   }
  },
  {
   "cell_type": "code",
   "execution_count": 34,
   "outputs": [
    {
     "data": {
      "text/plain": "       date_block_num      shop_id       item_id    item_price  item_cnt_day\ncount      7356.00000  7356.000000   7356.000000   7356.000000   7356.000000\nmean         14.63037    32.514546   8982.021207   1442.945623     -1.025150\nstd           9.43772    16.825725   6166.315366   2419.680132      0.368794\nmin           0.00000     2.000000     28.000000      0.500000    -22.000000\n25%           7.00000    19.000000   3734.000000    349.000000     -1.000000\n50%          13.00000    31.000000   6927.000000    799.000000     -1.000000\n75%          23.00000    47.000000  14056.000000   1699.000000     -1.000000\nmax          33.00000    59.000000  22167.000000  33490.000000     -1.000000",
      "text/html": "<div>\n<style scoped>\n    .dataframe tbody tr th:only-of-type {\n        vertical-align: middle;\n    }\n\n    .dataframe tbody tr th {\n        vertical-align: top;\n    }\n\n    .dataframe thead th {\n        text-align: right;\n    }\n</style>\n<table border=\"1\" class=\"dataframe\">\n  <thead>\n    <tr style=\"text-align: right;\">\n      <th></th>\n      <th>date_block_num</th>\n      <th>shop_id</th>\n      <th>item_id</th>\n      <th>item_price</th>\n      <th>item_cnt_day</th>\n    </tr>\n  </thead>\n  <tbody>\n    <tr>\n      <th>count</th>\n      <td>7356.00000</td>\n      <td>7356.000000</td>\n      <td>7356.000000</td>\n      <td>7356.000000</td>\n      <td>7356.000000</td>\n    </tr>\n    <tr>\n      <th>mean</th>\n      <td>14.63037</td>\n      <td>32.514546</td>\n      <td>8982.021207</td>\n      <td>1442.945623</td>\n      <td>-1.025150</td>\n    </tr>\n    <tr>\n      <th>std</th>\n      <td>9.43772</td>\n      <td>16.825725</td>\n      <td>6166.315366</td>\n      <td>2419.680132</td>\n      <td>0.368794</td>\n    </tr>\n    <tr>\n      <th>min</th>\n      <td>0.00000</td>\n      <td>2.000000</td>\n      <td>28.000000</td>\n      <td>0.500000</td>\n      <td>-22.000000</td>\n    </tr>\n    <tr>\n      <th>25%</th>\n      <td>7.00000</td>\n      <td>19.000000</td>\n      <td>3734.000000</td>\n      <td>349.000000</td>\n      <td>-1.000000</td>\n    </tr>\n    <tr>\n      <th>50%</th>\n      <td>13.00000</td>\n      <td>31.000000</td>\n      <td>6927.000000</td>\n      <td>799.000000</td>\n      <td>-1.000000</td>\n    </tr>\n    <tr>\n      <th>75%</th>\n      <td>23.00000</td>\n      <td>47.000000</td>\n      <td>14056.000000</td>\n      <td>1699.000000</td>\n      <td>-1.000000</td>\n    </tr>\n    <tr>\n      <th>max</th>\n      <td>33.00000</td>\n      <td>59.000000</td>\n      <td>22167.000000</td>\n      <td>33490.000000</td>\n      <td>-1.000000</td>\n    </tr>\n  </tbody>\n</table>\n</div>"
     },
     "execution_count": 34,
     "metadata": {},
     "output_type": "execute_result"
    }
   ],
   "source": [
    "df_negative_counted_item_cnt_day = \\\n",
    "    df_how_many_items_were_sold_in_bulk[ \\\n",
    "        df_how_many_items_were_sold_in_bulk.item_cnt_day < 1]\n",
    "\n",
    "df_negative_counted_item_cnt_day.describe()\n"
   ],
   "metadata": {
    "collapsed": false,
    "pycharm": {
     "name": "#%%\n"
    }
   }
  },
  {
   "cell_type": "markdown",
   "source": [
    "### Now the spikes\n",
    "\n",
    "#### Anything above 4 items"
   ],
   "metadata": {
    "collapsed": false,
    "pycharm": {
     "name": "#%% md\n"
    }
   }
  },
  {
   "cell_type": "code",
   "execution_count": 35,
   "outputs": [
    {
     "data": {
      "text/plain": "       date_block_num       shop_id       item_id    item_price  item_cnt_day\ncount    37885.000000  37885.000000  37885.000000  37885.000000  37885.000000\nmean        15.442418     31.979359  12301.041019   1075.346719     11.011825\nstd          9.007446     15.545587   7575.366838   2322.265552     20.498457\nmin          0.000000      0.000000     30.000000      0.100000      5.000000\n25%          8.000000     22.000000   4271.000000      5.000000      5.000000\n50%         14.000000     30.000000  11534.000000    399.000000      7.000000\n75%         22.000000     45.000000  20949.000000   1199.900000     11.000000\nmax         33.000000     59.000000  22167.000000  31599.000000   2169.000000",
      "text/html": "<div>\n<style scoped>\n    .dataframe tbody tr th:only-of-type {\n        vertical-align: middle;\n    }\n\n    .dataframe tbody tr th {\n        vertical-align: top;\n    }\n\n    .dataframe thead th {\n        text-align: right;\n    }\n</style>\n<table border=\"1\" class=\"dataframe\">\n  <thead>\n    <tr style=\"text-align: right;\">\n      <th></th>\n      <th>date_block_num</th>\n      <th>shop_id</th>\n      <th>item_id</th>\n      <th>item_price</th>\n      <th>item_cnt_day</th>\n    </tr>\n  </thead>\n  <tbody>\n    <tr>\n      <th>count</th>\n      <td>37885.000000</td>\n      <td>37885.000000</td>\n      <td>37885.000000</td>\n      <td>37885.000000</td>\n      <td>37885.000000</td>\n    </tr>\n    <tr>\n      <th>mean</th>\n      <td>15.442418</td>\n      <td>31.979359</td>\n      <td>12301.041019</td>\n      <td>1075.346719</td>\n      <td>11.011825</td>\n    </tr>\n    <tr>\n      <th>std</th>\n      <td>9.007446</td>\n      <td>15.545587</td>\n      <td>7575.366838</td>\n      <td>2322.265552</td>\n      <td>20.498457</td>\n    </tr>\n    <tr>\n      <th>min</th>\n      <td>0.000000</td>\n      <td>0.000000</td>\n      <td>30.000000</td>\n      <td>0.100000</td>\n      <td>5.000000</td>\n    </tr>\n    <tr>\n      <th>25%</th>\n      <td>8.000000</td>\n      <td>22.000000</td>\n      <td>4271.000000</td>\n      <td>5.000000</td>\n      <td>5.000000</td>\n    </tr>\n    <tr>\n      <th>50%</th>\n      <td>14.000000</td>\n      <td>30.000000</td>\n      <td>11534.000000</td>\n      <td>399.000000</td>\n      <td>7.000000</td>\n    </tr>\n    <tr>\n      <th>75%</th>\n      <td>22.000000</td>\n      <td>45.000000</td>\n      <td>20949.000000</td>\n      <td>1199.900000</td>\n      <td>11.000000</td>\n    </tr>\n    <tr>\n      <th>max</th>\n      <td>33.000000</td>\n      <td>59.000000</td>\n      <td>22167.000000</td>\n      <td>31599.000000</td>\n      <td>2169.000000</td>\n    </tr>\n  </tbody>\n</table>\n</div>"
     },
     "execution_count": 35,
     "metadata": {},
     "output_type": "execute_result"
    }
   ],
   "source": [
    "df_spikes_counted_item_cnt_day = \\\n",
    "    df_how_many_items_were_sold_in_bulk[ \\\n",
    "        df_how_many_items_were_sold_in_bulk.item_cnt_day > 4]\n",
    "\n",
    "df_spikes_counted_item_cnt_day.describe()"
   ],
   "metadata": {
    "collapsed": false,
    "pycharm": {
     "name": "#%%\n"
    }
   }
  },
  {
   "cell_type": "code",
   "execution_count": 36,
   "outputs": [
    {
     "data": {
      "text/plain": "<AxesSubplot:xlabel='item_cnt_day', ylabel='Density'>"
     },
     "execution_count": 36,
     "metadata": {},
     "output_type": "execute_result"
    },
    {
     "data": {
      "text/plain": "<Figure size 432x288 with 1 Axes>",
      "image/png": "[encoded data removed]"
     },
     "metadata": {
      "needs_background": "light"
     },
     "output_type": "display_data"
    }
   ],
   "source": [
    "sns.distplot(df_spikes_counted_item_cnt_day['item_cnt_day'])\n"
   ],
   "metadata": {
    "collapsed": false,
    "pycharm": {
     "name": "#%%\n"
    }
   }
  },
  {
   "cell_type": "markdown",
   "source": [
    "#### Anything above 25 items"
   ],
   "metadata": {
    "collapsed": false
   }
  },
  {
   "cell_type": "code",
   "execution_count": 37,
   "outputs": [
    {
     "data": {
      "text/plain": "       date_block_num      shop_id       item_id    item_price  item_cnt_day\ncount     2300.000000  2300.000000   2300.000000   2300.000000   2300.000000\nmean        16.371739    31.116087  12666.791739   1260.383529     50.663913\nstd          8.542480    14.866756   7810.208167   2606.581878     70.370557\nmin          0.000000     2.000000    485.000000      0.908714     26.000000\n25%          9.000000    22.000000   3733.000000      5.000000     30.000000\n50%         15.000000    30.000000  11370.000000    434.966165     36.000000\n75%         23.000000    42.000000  20949.000000   1799.000000     49.000000\nmax         33.000000    59.000000  22102.000000  25097.142857   2169.000000",
      "text/html": "<div>\n<style scoped>\n    .dataframe tbody tr th:only-of-type {\n        vertical-align: middle;\n    }\n\n    .dataframe tbody tr th {\n        vertical-align: top;\n    }\n\n    .dataframe thead th {\n        text-align: right;\n    }\n</style>\n<table border=\"1\" class=\"dataframe\">\n  <thead>\n    <tr style=\"text-align: right;\">\n      <th></th>\n      <th>date_block_num</th>\n      <th>shop_id</th>\n      <th>item_id</th>\n      <th>item_price</th>\n      <th>item_cnt_day</th>\n    </tr>\n  </thead>\n  <tbody>\n    <tr>\n      <th>count</th>\n      <td>2300.000000</td>\n      <td>2300.000000</td>\n      <td>2300.000000</td>\n      <td>2300.000000</td>\n      <td>2300.000000</td>\n    </tr>\n    <tr>\n      <th>mean</th>\n      <td>16.371739</td>\n      <td>31.116087</td>\n      <td>12666.791739</td>\n      <td>1260.383529</td>\n      <td>50.663913</td>\n    </tr>\n    <tr>\n      <th>std</th>\n      <td>8.542480</td>\n      <td>14.866756</td>\n      <td>7810.208167</td>\n      <td>2606.581878</td>\n      <td>70.370557</td>\n    </tr>\n    <tr>\n      <th>min</th>\n      <td>0.000000</td>\n      <td>2.000000</td>\n      <td>485.000000</td>\n      <td>0.908714</td>\n      <td>26.000000</td>\n    </tr>\n    <tr>\n      <th>25%</th>\n      <td>9.000000</td>\n      <td>22.000000</td>\n      <td>3733.000000</td>\n      <td>5.000000</td>\n      <td>30.000000</td>\n    </tr>\n    <tr>\n      <th>50%</th>\n      <td>15.000000</td>\n      <td>30.000000</td>\n      <td>11370.000000</td>\n      <td>434.966165</td>\n      <td>36.000000</td>\n    </tr>\n    <tr>\n      <th>75%</th>\n      <td>23.000000</td>\n      <td>42.000000</td>\n      <td>20949.000000</td>\n      <td>1799.000000</td>\n      <td>49.000000</td>\n    </tr>\n    <tr>\n      <th>max</th>\n      <td>33.000000</td>\n      <td>59.000000</td>\n      <td>22102.000000</td>\n      <td>25097.142857</td>\n      <td>2169.000000</td>\n    </tr>\n  </tbody>\n</table>\n</div>"
     },
     "execution_count": 37,
     "metadata": {},
     "output_type": "execute_result"
    }
   ],
   "source": [
    "df_spikes_counted_item_cnt_day = \\\n",
    "    df_how_many_items_were_sold_in_bulk[ \\\n",
    "        df_how_many_items_were_sold_in_bulk.item_cnt_day > 25]\n",
    "\n",
    "df_spikes_counted_item_cnt_day.describe()"
   ],
   "metadata": {
    "collapsed": false,
    "pycharm": {
     "name": "#%%\n"
    }
   }
  },
  {
   "cell_type": "code",
   "execution_count": 38,
   "outputs": [
    {
     "data": {
      "text/plain": "<AxesSubplot:xlabel='item_cnt_day', ylabel='Density'>"
     },
     "execution_count": 38,
     "metadata": {},
     "output_type": "execute_result"
    },
    {
     "data": {
      "text/plain": "<Figure size 432x288 with 1 Axes>",
      "image/png": "[encoded data removed]"
     },
     "metadata": {
      "needs_background": "light"
     },
     "output_type": "display_data"
    }
   ],
   "source": [
    "sns.distplot(df_spikes_counted_item_cnt_day['item_cnt_day'])\n"
   ],
   "metadata": {
    "collapsed": false,
    "pycharm": {
     "name": "#%%\n"
    }
   }
  },
  {
   "cell_type": "markdown",
   "source": [
    "#### Anything above 100 items"
   ],
   "metadata": {
    "collapsed": false,
    "pycharm": {
     "name": "#%% md\n"
    }
   }
  },
  {
   "cell_type": "code",
   "execution_count": 39,
   "outputs": [
    {
     "data": {
      "text/plain": "       date_block_num     shop_id       item_id    item_price  item_cnt_day\ncount      138.000000  138.000000    138.000000    138.000000    138.000000\nmean        20.659420   28.963768   9866.949275   1531.759833    216.818841\nstd          8.285504   17.953878   6498.660371   1888.906031    223.068097\nmin          5.000000    4.000000   1498.000000      0.908714    101.000000\n25%         15.000000   12.000000   3732.000000    257.541667    115.250000\n50%         22.000000   25.000000   9245.000000   1303.246753    145.000000\n75%         27.000000   46.000000  11373.000000   1999.000000    214.500000\nmax         33.000000   55.000000  20949.000000  18118.712871   2169.000000",
      "text/html": "<div>\n<style scoped>\n    .dataframe tbody tr th:only-of-type {\n        vertical-align: middle;\n    }\n\n    .dataframe tbody tr th {\n        vertical-align: top;\n    }\n\n    .dataframe thead th {\n        text-align: right;\n    }\n</style>\n<table border=\"1\" class=\"dataframe\">\n  <thead>\n    <tr style=\"text-align: right;\">\n      <th></th>\n      <th>date_block_num</th>\n      <th>shop_id</th>\n      <th>item_id</th>\n      <th>item_price</th>\n      <th>item_cnt_day</th>\n    </tr>\n  </thead>\n  <tbody>\n    <tr>\n      <th>count</th>\n      <td>138.000000</td>\n      <td>138.000000</td>\n      <td>138.000000</td>\n      <td>138.000000</td>\n      <td>138.000000</td>\n    </tr>\n    <tr>\n      <th>mean</th>\n      <td>20.659420</td>\n      <td>28.963768</td>\n      <td>9866.949275</td>\n      <td>1531.759833</td>\n      <td>216.818841</td>\n    </tr>\n    <tr>\n      <th>std</th>\n      <td>8.285504</td>\n      <td>17.953878</td>\n      <td>6498.660371</td>\n      <td>1888.906031</td>\n      <td>223.068097</td>\n    </tr>\n    <tr>\n      <th>min</th>\n      <td>5.000000</td>\n      <td>4.000000</td>\n      <td>1498.000000</td>\n      <td>0.908714</td>\n      <td>101.000000</td>\n    </tr>\n    <tr>\n      <th>25%</th>\n      <td>15.000000</td>\n      <td>12.000000</td>\n      <td>3732.000000</td>\n      <td>257.541667</td>\n      <td>115.250000</td>\n    </tr>\n    <tr>\n      <th>50%</th>\n      <td>22.000000</td>\n      <td>25.000000</td>\n      <td>9245.000000</td>\n      <td>1303.246753</td>\n      <td>145.000000</td>\n    </tr>\n    <tr>\n      <th>75%</th>\n      <td>27.000000</td>\n      <td>46.000000</td>\n      <td>11373.000000</td>\n      <td>1999.000000</td>\n      <td>214.500000</td>\n    </tr>\n    <tr>\n      <th>max</th>\n      <td>33.000000</td>\n      <td>55.000000</td>\n      <td>20949.000000</td>\n      <td>18118.712871</td>\n      <td>2169.000000</td>\n    </tr>\n  </tbody>\n</table>\n</div>"
     },
     "execution_count": 39,
     "metadata": {},
     "output_type": "execute_result"
    }
   ],
   "source": [
    "df_spikes_counted_item_cnt_day = \\\n",
    "    df_how_many_items_were_sold_in_bulk[ \\\n",
    "        df_how_many_items_were_sold_in_bulk.item_cnt_day > 100]\n",
    "\n",
    "df_spikes_counted_item_cnt_day.describe()"
   ],
   "metadata": {
    "collapsed": false,
    "pycharm": {
     "name": "#%%\n"
    }
   }
  },
  {
   "cell_type": "code",
   "execution_count": 40,
   "outputs": [
    {
     "data": {
      "text/plain": "<AxesSubplot:xlabel='item_cnt_day', ylabel='Density'>"
     },
     "execution_count": 40,
     "metadata": {},
     "output_type": "execute_result"
    },
    {
     "data": {
      "text/plain": "<Figure size 432x288 with 1 Axes>",
      "image/png": "[encoded data removed]"
     },
     "metadata": {
      "needs_background": "light"
     },
     "output_type": "display_data"
    }
   ],
   "source": [
    "sns.distplot(df_spikes_counted_item_cnt_day['item_cnt_day'])"
   ],
   "metadata": {
    "collapsed": false,
    "pycharm": {
     "name": "#%%\n"
    }
   }
  }
 ],
 "metadata": {
  "kernelspec": {
   "display_name": "Python 3",
   "language": "python",
   "name": "python3"
  },
  "language_info": {
   "codemirror_mode": {
    "name": "ipython",
    "version": 2
   },
   "file_extension": ".py",
   "mimetype": "text/x-python",
   "name": "python",
   "nbconvert_exporter": "python",
   "pygments_lexer": "ipython2",
   "version": "2.7.6"
  }
 },
 "nbformat": 4,
 "nbformat_minor": 0
}