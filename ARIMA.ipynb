{
 "cells": [
  {
   "cell_type": "code",
   "execution_count": 1,
   "metadata": {
    "collapsed": true
   },
   "outputs": [],
   "source": [
    "import pandas as pd"
   ]
  },
  {
   "cell_type": "code",
   "execution_count": 2,
   "outputs": [],
   "source": [
    "# train = pd.read_csv('data/technical/sales_train.csv')\n",
    "# train = pd.read_csv('data/technical/test.csv')\n",
    "\n",
    "# # begin by preparing data\n",
    "#\n",
    "# # begin by clipping as the competition states\n",
    "# train['item_cnt_day'] = train['item_cnt_day'].clip(0, 20)\n",
    "#\n",
    "# # first, throw away the data from irrelevant shops\n",
    "#\n",
    "# shops_in_test_set = set()\n",
    "# for index, row in test.iterrows():\n",
    "#     shops_in_test_set.add(row['shop_id'])\n",
    "#\n",
    "# all_shops = set([*range(0, 60)])\n",
    "# shops_missing = all_shops - shops_in_test_set\n",
    "#\n",
    "# for shop_missing in shops_missing:\n",
    "#     index_names = train[ train['shop_id'] == shop_missing].index\n",
    "#     train.drop(index_names, inplace=True)\n",
    "#\n",
    "# # throw away the data from irrelevant items\n",
    "#\n",
    "# items_in_test_set = set()\n",
    "# for index, row in test.iterrows():\n",
    "#     items_in_test_set.add(row['item_id'])\n",
    "#\n",
    "# items_in_train_set = set()\n",
    "# for index,row in train.iterrows():\n",
    "#     items_in_train_set.add(row['item_id'])\n",
    "#\n",
    "# items_missing = items_in_train_set - items_in_test_set\n",
    "#\n",
    "# for item_missing in items_missing:\n",
    "#     train.drop(train[train['item_id'] == item_missing].index, inplace=True)\n",
    "#\n",
    "# # remove the month sales as we are not going to account for this in the ARIMA forecast\n",
    "# train.drop(['date_block_num', 'shop_id', 'item_price'], axis=1, inplace=True)\n",
    "#\n",
    "# # export items\n",
    "# train.to_csv(\"train_cleaned.csv\", index=False)"
   ],
   "metadata": {
    "collapsed": false,
    "pycharm": {
     "name": "#%%\n"
    }
   }
  },
  {
   "cell_type": "code",
   "execution_count": 3,
   "outputs": [],
   "source": [
    "train = pd.read_csv('train_cleaned.csv')"
   ],
   "metadata": {
    "collapsed": false,
    "pycharm": {
     "name": "#%%\n"
    }
   }
  },
  {
   "cell_type": "code",
   "execution_count": 4,
   "outputs": [
    {
     "data": {
      "text/plain": "1034"
     },
     "execution_count": 4,
     "metadata": {},
     "output_type": "execute_result"
    }
   ],
   "source": [
    "all_dates = set()\n",
    "\n",
    "for index, row in train.iterrows():\n",
    "    all_dates.add(row['date'])\n",
    "\n",
    "len(all_dates)"
   ],
   "metadata": {
    "collapsed": false,
    "pycharm": {
     "name": "#%%\n"
    }
   }
  },
  {
   "cell_type": "code",
   "execution_count": 5,
   "outputs": [],
   "source": [
    "train = train.groupby(['date', 'item_id']).sum('item_cnt_day').reset_index()"
   ],
   "metadata": {
    "collapsed": false,
    "pycharm": {
     "name": "#%%\n"
    }
   }
  },
  {
   "cell_type": "code",
   "execution_count": 6,
   "outputs": [],
   "source": [
    "all_items = set()\n",
    "for index,row in train.iterrows():\n",
    "    all_items.add(row['item_id'])"
   ],
   "metadata": {
    "collapsed": false,
    "pycharm": {
     "name": "#%%\n"
    }
   }
  },
  {
   "cell_type": "code",
   "execution_count": 7,
   "outputs": [],
   "source": [
    "date_sequences_all_items = []\n",
    "\n",
    "for item in all_items:\n",
    "\n",
    "    df_this_item = train[train.item_id == item]\n",
    "\n",
    "    date_sequences_all_items.append(\n",
    "        (item, df_this_item)\n",
    "    )"
   ],
   "metadata": {
    "collapsed": false,
    "pycharm": {
     "name": "#%%\n"
    }
   }
  },
  {
   "cell_type": "code",
   "execution_count": 8,
   "outputs": [
    {
     "name": "stdout",
     "output_type": "stream",
     "text": [
      "Item ID: 2308\n",
      "Data present for 1014 days.\n",
      "Item ID: 5822\n",
      "Data present for 1032 days.\n"
     ]
    }
   ],
   "source": [
    "for sequence in date_sequences_all_items:\n",
    "    if sequence[1].shape[0] > 1000:\n",
    "        print(f\"Item ID: {sequence[0]}\\nData present for {sequence[1].shape[0]} days.\")"
   ],
   "metadata": {
    "collapsed": false,
    "pycharm": {
     "name": "#%%\n"
    }
   }
  },
  {
   "cell_type": "code",
   "execution_count": 9,
   "outputs": [],
   "source": [
    "# allocate a new df to the most prominent item\n",
    "df = train[train.item_id == 5822].copy()\n",
    "df.drop('item_id', axis=1, inplace=True)"
   ],
   "metadata": {
    "collapsed": false,
    "pycharm": {
     "name": "#%%\n"
    }
   }
  },
  {
   "cell_type": "code",
   "execution_count": 10,
   "outputs": [],
   "source": [
    "# format the table\n",
    "df['date'] = pd.to_datetime(df['date'], dayfirst=True).dt.date\n",
    "df.sort_values(by='date', inplace=True)\n",
    "df.set_index('date', drop=True, inplace=True)"
   ],
   "metadata": {
    "collapsed": false,
    "pycharm": {
     "name": "#%%\n"
    }
   }
  },
  {
   "cell_type": "code",
   "execution_count": 11,
   "outputs": [],
   "source": [
    "df.to_csv(\"inspect_this_item.csv\")"
   ],
   "metadata": {
    "collapsed": false,
    "pycharm": {
     "name": "#%%\n"
    }
   }
  }
 ],
 "metadata": {
  "kernelspec": {
   "display_name": "Python 3",
   "language": "python",
   "name": "python3"
  },
  "language_info": {
   "codemirror_mode": {
    "name": "ipython",
    "version": 2
   },
   "file_extension": ".py",
   "mimetype": "text/x-python",
   "name": "python",
   "nbconvert_exporter": "python",
   "pygments_lexer": "ipython2",
   "version": "2.7.6"
  }
 },
 "nbformat": 4,
 "nbformat_minor": 0
}