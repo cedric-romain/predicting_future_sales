{
 "cells": [
  {
   "cell_type": "code",
   "execution_count": 10,
   "metadata": {
    "collapsed": true
   },
   "outputs": [],
   "source": [
    "import pandas as pd"
   ]
  },
  {
   "cell_type": "code",
   "execution_count": 11,
   "outputs": [],
   "source": [
    "# train = pd.read_csv('data/technical/sales_train.csv')\n",
    "# train = pd.read_csv('data/technical/test.csv')\n",
    "\n",
    "# # begin by preparing data\n",
    "#\n",
    "# # begin by clipping as the competition states\n",
    "# train['item_cnt_day'] = train['item_cnt_day'].clip(0, 20)\n",
    "#\n",
    "# # first, throw away the data from irrelevant shops\n",
    "#\n",
    "# shops_in_test_set = set()\n",
    "# for index, row in test.iterrows():\n",
    "#     shops_in_test_set.add(row['shop_id'])\n",
    "#\n",
    "# all_shops = set([*range(0, 60)])\n",
    "# shops_missing = all_shops - shops_in_test_set\n",
    "#\n",
    "# for shop_missing in shops_missing:\n",
    "#     index_names = train[ train['shop_id'] == shop_missing].index\n",
    "#     train.drop(index_names, inplace=True)\n",
    "#\n",
    "# # throw away the data from irrelevant items\n",
    "#\n",
    "# items_in_test_set = set()\n",
    "# for index, row in test.iterrows():\n",
    "#     items_in_test_set.add(row['item_id'])\n",
    "#\n",
    "# items_in_train_set = set()\n",
    "# for index,row in train.iterrows():\n",
    "#     items_in_train_set.add(row['item_id'])\n",
    "#\n",
    "# items_missing = items_in_train_set - items_in_test_set\n",
    "#\n",
    "# for item_missing in items_missing:\n",
    "#     train.drop(train[train['item_id'] == item_missing].index, inplace=True)\n",
    "#\n",
    "# # remove the month sales as we are not going to account for this in the ARIMA forecast\n",
    "# train.drop(['date_block_num', 'shop_id', 'item_price'], axis=1, inplace=True)\n",
    "#\n",
    "# # export items\n",
    "# train.to_csv(\"train_cleaned.csv\", index=False)"
   ],
   "metadata": {
    "collapsed": false,
    "pycharm": {
     "name": "#%%\n"
    }
   }
  },
  {
   "cell_type": "code",
   "execution_count": null,
   "outputs": [],
   "source": [],
   "metadata": {
    "collapsed": false,
    "pycharm": {
     "name": "#%%\n"
    }
   }
  }
 ],
 "metadata": {
  "kernelspec": {
   "display_name": "Python 3",
   "language": "python",
   "name": "python3"
  },
  "language_info": {
   "codemirror_mode": {
    "name": "ipython",
    "version": 2
   },
   "file_extension": ".py",
   "mimetype": "text/x-python",
   "name": "python",
   "nbconvert_exporter": "python",
   "pygments_lexer": "ipython2",
   "version": "2.7.6"
  }
 },
 "nbformat": 4,
 "nbformat_minor": 0
}