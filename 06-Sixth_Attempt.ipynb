{
 "cells": [
  {
   "cell_type": "code",
   "execution_count": 1,
   "outputs": [],
   "source": [
    "import pandas as pd\n",
    "import time"
   ],
   "metadata": {
    "collapsed": false,
    "pycharm": {
     "name": "#%%\n"
    }
   }
  },
  {
   "cell_type": "code",
   "execution_count": 2,
   "outputs": [],
   "source": [
    "df_train = pd.read_csv(\"data/technical/sales_train.csv\", parse_dates=['date'])"
   ],
   "metadata": {
    "collapsed": false,
    "pycharm": {
     "name": "#%%\n"
    }
   }
  },
  {
   "cell_type": "code",
   "execution_count": 3,
   "outputs": [],
   "source": [
    "all_date_stores_open = df_train[['date']].copy().drop_duplicates()"
   ],
   "metadata": {
    "collapsed": false,
    "pycharm": {
     "name": "#%%\n"
    }
   }
  },
  {
   "cell_type": "code",
   "execution_count": 4,
   "outputs": [
    {
     "name": "stderr",
     "output_type": "stream",
     "text": [
      "/var/folders/qp/tyy4nbzs0l71vykwhq03d71r0000gn/T/ipykernel_30033/810798551.py:1: FutureWarning: Treating datetime data as categorical rather than numeric in `.describe` is deprecated and will be removed in a future version of pandas. Specify `datetime_is_numeric=True` to silence this warning and adopt the future behavior now.\n",
      "  all_date_stores_open.describe()\n"
     ]
    },
    {
     "data": {
      "text/plain": "                       date\ncount                  1034\nunique                 1034\ntop     2013-02-01 00:00:00\nfreq                      1\nfirst   2013-01-01 00:00:00\nlast    2015-12-10 00:00:00",
      "text/html": "<div>\n<style scoped>\n    .dataframe tbody tr th:only-of-type {\n        vertical-align: middle;\n    }\n\n    .dataframe tbody tr th {\n        vertical-align: top;\n    }\n\n    .dataframe thead th {\n        text-align: right;\n    }\n</style>\n<table border=\"1\" class=\"dataframe\">\n  <thead>\n    <tr style=\"text-align: right;\">\n      <th></th>\n      <th>date</th>\n    </tr>\n  </thead>\n  <tbody>\n    <tr>\n      <th>count</th>\n      <td>1034</td>\n    </tr>\n    <tr>\n      <th>unique</th>\n      <td>1034</td>\n    </tr>\n    <tr>\n      <th>top</th>\n      <td>2013-02-01 00:00:00</td>\n    </tr>\n    <tr>\n      <th>freq</th>\n      <td>1</td>\n    </tr>\n    <tr>\n      <th>first</th>\n      <td>2013-01-01 00:00:00</td>\n    </tr>\n    <tr>\n      <th>last</th>\n      <td>2015-12-10 00:00:00</td>\n    </tr>\n  </tbody>\n</table>\n</div>"
     },
     "execution_count": 4,
     "metadata": {},
     "output_type": "execute_result"
    }
   ],
   "source": [
    "all_date_stores_open.describe()"
   ],
   "metadata": {
    "collapsed": false,
    "pycharm": {
     "name": "#%%\n"
    }
   }
  },
  {
   "cell_type": "code",
   "execution_count": 5,
   "outputs": [
    {
     "data": {
      "text/plain": "        date\n0 2013-02-01\n1 2013-03-01\n2 2013-05-01\n3 2013-06-01\n4 2013-01-15",
      "text/html": "<div>\n<style scoped>\n    .dataframe tbody tr th:only-of-type {\n        vertical-align: middle;\n    }\n\n    .dataframe tbody tr th {\n        vertical-align: top;\n    }\n\n    .dataframe thead th {\n        text-align: right;\n    }\n</style>\n<table border=\"1\" class=\"dataframe\">\n  <thead>\n    <tr style=\"text-align: right;\">\n      <th></th>\n      <th>date</th>\n    </tr>\n  </thead>\n  <tbody>\n    <tr>\n      <th>0</th>\n      <td>2013-02-01</td>\n    </tr>\n    <tr>\n      <th>1</th>\n      <td>2013-03-01</td>\n    </tr>\n    <tr>\n      <th>2</th>\n      <td>2013-05-01</td>\n    </tr>\n    <tr>\n      <th>3</th>\n      <td>2013-06-01</td>\n    </tr>\n    <tr>\n      <th>4</th>\n      <td>2013-01-15</td>\n    </tr>\n  </tbody>\n</table>\n</div>"
     },
     "execution_count": 5,
     "metadata": {},
     "output_type": "execute_result"
    }
   ],
   "source": [
    "all_date_stores_open.head()"
   ],
   "metadata": {
    "collapsed": false,
    "pycharm": {
     "name": "#%%\n"
    }
   }
  },
  {
   "cell_type": "code",
   "execution_count": 6,
   "outputs": [],
   "source": [
    "all_ids_for_submission = pd.read_csv(\"data/technical/sample_submission.csv\")"
   ],
   "metadata": {
    "collapsed": false,
    "pycharm": {
     "name": "#%%\n"
    }
   }
  },
  {
   "cell_type": "code",
   "execution_count": 7,
   "outputs": [],
   "source": [
    "all_ids_for_submission = all_ids_for_submission['ID']"
   ],
   "metadata": {
    "collapsed": false,
    "pycharm": {
     "name": "#%%\n"
    }
   }
  },
  {
   "cell_type": "code",
   "execution_count": 8,
   "outputs": [
    {
     "name": "stdout",
     "output_type": "stream",
     "text": [
      "1228.264605998993\n"
     ]
    }
   ],
   "source": [
    "timestamp = time.time()\n",
    "\n",
    "matrix = []\n",
    "\n",
    "# create a matrix containing all the time series for each and every item sold that\n",
    "# needs to be predicted.\n",
    "# start off by finding all records of sold items and on which day.\n",
    "# then merge on a list containing all the dates that have to be taken into account\n",
    "# during the period of the time series\n",
    "# then reset and sort the index.\n",
    "# finally, add the tuple of the item_id and the dataframe containing all records into\n",
    "# the final matrix\n",
    "for item in all_ids_for_submission:\n",
    "    item_transactions = df_train.loc[df_train['item_id'] == item]\n",
    "    item_transactions = item_transactions[['date', 'item_cnt_day']].copy()\n",
    "    temp_date_df = all_date_stores_open\n",
    "    temp_df = pd.merge(item_transactions, temp_date_df, how = 'outer', on=['date'])\n",
    "    temp_df.fillna(0, inplace=True)\n",
    "    temp_df.set_index('date', inplace=True, drop=True)\n",
    "    temp_df.sort_index(inplace=True)\n",
    "    matrix.append((item, temp_df))\n",
    "\n",
    "print(time.time() - timestamp)"
   ],
   "metadata": {
    "collapsed": false,
    "pycharm": {
     "name": "#%%\n"
    }
   }
  }
 ],
 "metadata": {
  "kernelspec": {
   "display_name": "Python 3",
   "language": "python",
   "name": "python3"
  },
  "language_info": {
   "codemirror_mode": {
    "name": "ipython",
    "version": 2
   },
   "file_extension": ".py",
   "mimetype": "text/x-python",
   "name": "python",
   "nbconvert_exporter": "python",
   "pygments_lexer": "ipython2",
   "version": "2.7.6"
  }
 },
 "nbformat": 4,
 "nbformat_minor": 0
}