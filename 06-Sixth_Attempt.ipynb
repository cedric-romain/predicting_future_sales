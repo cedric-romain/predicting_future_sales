{
 "cells": [
  {
   "cell_type": "code",
   "execution_count": 1,
   "outputs": [],
   "source": [
    "import pandas as pd\n",
    "import time"
   ],
   "metadata": {
    "collapsed": false,
    "pycharm": {
     "name": "#%%\n"
    }
   }
  },
  {
   "cell_type": "code",
   "execution_count": 2,
   "outputs": [],
   "source": [
    "df_train = pd.read_csv(\"data/technical/sales_train.csv\", parse_dates=['date'])"
   ],
   "metadata": {
    "collapsed": false,
    "pycharm": {
     "name": "#%%\n"
    }
   }
  },
  {
   "cell_type": "code",
   "execution_count": 3,
   "outputs": [],
   "source": [
    "all_date_stores_open = df_train[['date_block_num']].copy().drop_duplicates()"
   ],
   "metadata": {
    "collapsed": false,
    "pycharm": {
     "name": "#%%\n"
    }
   }
  },
  {
   "cell_type": "code",
   "execution_count": 4,
   "outputs": [
    {
     "data": {
      "text/plain": "       date_block_num\ncount       34.000000\nmean        16.500000\nstd          9.958246\nmin          0.000000\n25%          8.250000\n50%         16.500000\n75%         24.750000\nmax         33.000000",
      "text/html": "<div>\n<style scoped>\n    .dataframe tbody tr th:only-of-type {\n        vertical-align: middle;\n    }\n\n    .dataframe tbody tr th {\n        vertical-align: top;\n    }\n\n    .dataframe thead th {\n        text-align: right;\n    }\n</style>\n<table border=\"1\" class=\"dataframe\">\n  <thead>\n    <tr style=\"text-align: right;\">\n      <th></th>\n      <th>date_block_num</th>\n    </tr>\n  </thead>\n  <tbody>\n    <tr>\n      <th>count</th>\n      <td>34.000000</td>\n    </tr>\n    <tr>\n      <th>mean</th>\n      <td>16.500000</td>\n    </tr>\n    <tr>\n      <th>std</th>\n      <td>9.958246</td>\n    </tr>\n    <tr>\n      <th>min</th>\n      <td>0.000000</td>\n    </tr>\n    <tr>\n      <th>25%</th>\n      <td>8.250000</td>\n    </tr>\n    <tr>\n      <th>50%</th>\n      <td>16.500000</td>\n    </tr>\n    <tr>\n      <th>75%</th>\n      <td>24.750000</td>\n    </tr>\n    <tr>\n      <th>max</th>\n      <td>33.000000</td>\n    </tr>\n  </tbody>\n</table>\n</div>"
     },
     "execution_count": 4,
     "metadata": {},
     "output_type": "execute_result"
    }
   ],
   "source": [
    "all_date_stores_open.describe()"
   ],
   "metadata": {
    "collapsed": false,
    "pycharm": {
     "name": "#%%\n"
    }
   }
  },
  {
   "cell_type": "code",
   "execution_count": 5,
   "outputs": [
    {
     "data": {
      "text/plain": "        date_block_num\n0                    0\n115690               1\n224303               2\n345650               3\n439759               4",
      "text/html": "<div>\n<style scoped>\n    .dataframe tbody tr th:only-of-type {\n        vertical-align: middle;\n    }\n\n    .dataframe tbody tr th {\n        vertical-align: top;\n    }\n\n    .dataframe thead th {\n        text-align: right;\n    }\n</style>\n<table border=\"1\" class=\"dataframe\">\n  <thead>\n    <tr style=\"text-align: right;\">\n      <th></th>\n      <th>date_block_num</th>\n    </tr>\n  </thead>\n  <tbody>\n    <tr>\n      <th>0</th>\n      <td>0</td>\n    </tr>\n    <tr>\n      <th>115690</th>\n      <td>1</td>\n    </tr>\n    <tr>\n      <th>224303</th>\n      <td>2</td>\n    </tr>\n    <tr>\n      <th>345650</th>\n      <td>3</td>\n    </tr>\n    <tr>\n      <th>439759</th>\n      <td>4</td>\n    </tr>\n  </tbody>\n</table>\n</div>"
     },
     "execution_count": 5,
     "metadata": {},
     "output_type": "execute_result"
    }
   ],
   "source": [
    "all_date_stores_open.head()"
   ],
   "metadata": {
    "collapsed": false,
    "pycharm": {
     "name": "#%%\n"
    }
   }
  },
  {
   "cell_type": "code",
   "execution_count": 6,
   "outputs": [],
   "source": [
    "all_ids_for_submission = pd.read_csv(\"data/technical/sample_submission.csv\")"
   ],
   "metadata": {
    "collapsed": false,
    "pycharm": {
     "name": "#%%\n"
    }
   }
  },
  {
   "cell_type": "code",
   "execution_count": 7,
   "outputs": [],
   "source": [
    "all_ids_for_submission = all_ids_for_submission['ID']"
   ],
   "metadata": {
    "collapsed": false,
    "pycharm": {
     "name": "#%%\n"
    }
   }
  },
  {
   "cell_type": "code",
   "execution_count": 8,
   "outputs": [
    {
     "name": "stdout",
     "output_type": "stream",
     "text": [
      "566.266970872879\n"
     ]
    }
   ],
   "source": [
    "timestamp = time.time()\n",
    "\n",
    "matrix = []\n",
    "\n",
    "# create a matrix containing all the time series for each and every item sold that\n",
    "# needs to be predicted.\n",
    "# start off by finding all records of sold items and on which day.\n",
    "# then merge on a list containing all the dates that have to be taken into account\n",
    "# during the period of the time series\n",
    "# then reset and sort the index.\n",
    "# finally, add the tuple of the item_id and the dataframe containing all records into\n",
    "# the final matrix\n",
    "for item in all_ids_for_submission:\n",
    "    item_transactions = df_train.loc[df_train['item_id'] == item]\n",
    "    item_transactions = item_transactions[['date_block_num', 'item_cnt_day']].copy()\n",
    "    item_transactions = item_transactions.groupby(['date_block_num'])['item_cnt_day'].sum()\n",
    "\n",
    "    temp_date_df = all_date_stores_open\n",
    "    temp_df = pd.merge(item_transactions, temp_date_df, how = 'outer', on=['date_block_num'])\n",
    "    temp_df.fillna(0, inplace=True)\n",
    "    temp_df.set_index('date_block_num', inplace=True, drop=True)\n",
    "    temp_df.sort_index(inplace=True)\n",
    "    matrix.append((item, temp_df))\n",
    "\n",
    "print(time.time() - timestamp)"
   ],
   "metadata": {
    "collapsed": false,
    "pycharm": {
     "name": "#%%\n"
    }
   }
  },
  {
   "cell_type": "code",
   "execution_count": 9,
   "outputs": [],
   "source": [
    "import pmdarima.arima as pm\n",
    "\n",
    "# https://alkaline-ml.com/pmdarima/modules/classes.html\n",
    "# pm.ndiffs(matrix[4656][1], test=\"adf\")\n"
   ],
   "metadata": {
    "collapsed": false,
    "pycharm": {
     "name": "#%%\n"
    }
   }
  },
  {
   "cell_type": "code",
   "execution_count": 11,
   "outputs": [],
   "source": [
    "# http://alkaline-ml.com/pmdarima/modules/generated/pmdarima.arima.AutoARIMA.html#pmdarima.arima.AutoARIMA\n",
    "\n",
    "\n",
    "# out.summary()"
   ],
   "metadata": {
    "collapsed": false,
    "pycharm": {
     "name": "#%%\n"
    }
   }
  },
  {
   "cell_type": "code",
   "execution_count": 12,
   "outputs": [],
   "source": [
    "# timestamp = time.time()\n",
    "#\n",
    "#\n",
    "# df_submissions = pd.DataFrame(columns=['ID', 'item_cnt_month'])\n",
    "#\n",
    "#\n",
    "# for ts_tuple in matrix:\n",
    "#\n",
    "#     ts = ts_tuple[1]\n",
    "#\n",
    "#     number_of_zero_entries = ts.value_counts().get(0)\n",
    "#\n",
    "#     if number_of_zero_entries != 34:\n",
    "#         model = pm.auto_arima(ts)\n",
    "#         prediction = model.predict(n_periods=1)[0]\n",
    "#     else:\n",
    "#         prediction = 0\n",
    "#\n",
    "#\n",
    "#     index = ts_tuple[0]\n",
    "#\n",
    "#     # append DF\n",
    "#     data = {\n",
    "#         'ID': [index],\n",
    "#         'item_cnt_month': [prediction]\n",
    "#     }\n",
    "#     df_data = pd.DataFrame(data)\n",
    "#     df_submissions = df_submissions.append(df_data, ignore_index=True)\n",
    "#\n",
    "# print(time.time() - timestamp)"
   ],
   "metadata": {
    "collapsed": false,
    "pycharm": {
     "name": "#%%\n"
    }
   }
  },
  {
   "cell_type": "code",
   "execution_count": 13,
   "outputs": [],
   "source": [
    "# df_submissions.to_csv('arima_submission.csv', index=False)"
   ],
   "metadata": {
    "collapsed": false,
    "pycharm": {
     "name": "#%%\n"
    }
   }
  }
 ],
 "metadata": {
  "kernelspec": {
   "display_name": "Python 3",
   "language": "python",
   "name": "python3"
  },
  "language_info": {
   "codemirror_mode": {
    "name": "ipython",
    "version": 2
   },
   "file_extension": ".py",
   "mimetype": "text/x-python",
   "name": "python",
   "nbconvert_exporter": "python",
   "pygments_lexer": "ipython2",
   "version": "2.7.6"
  }
 },
 "nbformat": 4,
 "nbformat_minor": 0
}