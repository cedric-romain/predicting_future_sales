{
 "cells": [
  {
   "cell_type": "code",
   "execution_count": 1,
   "metadata": {
    "collapsed": true
   },
   "outputs": [],
   "source": [
    "import pandas as pd\n",
    "import numpy as np"
   ]
  },
  {
   "cell_type": "code",
   "execution_count": 2,
   "outputs": [],
   "source": [
    "data = pd.read_pickle('data.pkl')\n",
    "data = data[data.date_block_num > 11]"
   ],
   "metadata": {
    "collapsed": false,
    "pycharm": {
     "name": "#%%\n"
    }
   }
  },
  {
   "cell_type": "code",
   "execution_count": 3,
   "outputs": [],
   "source": [
    "drop_features = ['date_cat-medium-type_avg_item_cnt_lag_1', 'date_city_avg_item_cnt_lag_2', 'date_shop_avg_item_cnt_lag_6', 'days_in_month', 'delta_price_trend_with_lag_1', 'delta_price_trend_with_lag_4', 'delta_shop_revenue_this_month', 'delta_shop_revenue_this_month_lag_2', 'item_avg_price_during_month_lag_3']\n",
    "data.drop(drop_features, axis=1, inplace=True)"
   ],
   "metadata": {
    "collapsed": false,
    "pycharm": {
     "name": "#%%\n"
    }
   }
  },
  {
   "cell_type": "code",
   "execution_count": 4,
   "outputs": [],
   "source": [
    "X = None\n",
    "Y = None\n",
    "x = None\n",
    "\n",
    "def set_X_Y_x():\n",
    "    global X, Y, x\n",
    "    X = data[data.date_block_num < 34].drop(['item_cnt_month'], axis=1)\n",
    "    Y = data[data.date_block_num < 34]['item_cnt_month']\n",
    "    x = data[data.date_block_num == 34].drop(['item_cnt_month'], axis=1)\n",
    "\n",
    "set_X_Y_x()"
   ],
   "metadata": {
    "collapsed": false,
    "pycharm": {
     "name": "#%%\n"
    }
   }
  },
  {
   "cell_type": "code",
   "execution_count": 5,
   "outputs": [],
   "source": [
    "from sklearn.metrics import mean_squared_error\n",
    "\n",
    "def rmse(y_te, y_p):\n",
    "    return np.sqrt(mean_squared_error(y_te, y_p))"
   ],
   "metadata": {
    "collapsed": false,
    "pycharm": {
     "name": "#%%\n"
    }
   }
  },
  {
   "cell_type": "code",
   "execution_count": 6,
   "outputs": [],
   "source": [
    "from sklearn.linear_model import LinearRegression\n",
    "from sklearn.model_selection import train_test_split"
   ],
   "metadata": {
    "collapsed": false,
    "pycharm": {
     "name": "#%%\n"
    }
   }
  },
  {
   "cell_type": "code",
   "execution_count": 7,
   "outputs": [
    {
     "name": "stdout",
     "output_type": "stream",
     "text": [
      "RMSE: 0.8003264699129082\n"
     ]
    }
   ],
   "source": [
    "X_train, X_test, y_train, y_test = train_test_split(X, Y, train_size=0.65, random_state=42)\n",
    "lf = LinearRegression()\n",
    "lf.fit(X_train, y_train)\n",
    "prediction = lf.predict(X_test).clip(0,20)\n",
    "\n",
    "print(f\"RMSE: {rmse(y_test, prediction)}\")"
   ],
   "metadata": {
    "collapsed": false,
    "pycharm": {
     "name": "#%%\n"
    }
   }
  },
  {
   "cell_type": "code",
   "execution_count": 8,
   "outputs": [],
   "source": [
    "data = data[data.item_price<100000]\n",
    "data = data[data.item_cnt_month<1001]\n",
    "set_X_Y_x()"
   ],
   "metadata": {
    "collapsed": false,
    "pycharm": {
     "name": "#%%\n"
    }
   }
  },
  {
   "cell_type": "code",
   "execution_count": 9,
   "outputs": [
    {
     "name": "stdout",
     "output_type": "stream",
     "text": [
      "RMSE: 0.8003264699129082\n"
     ]
    }
   ],
   "source": [
    "X_train, X_test, y_train, y_test = train_test_split(X, Y, train_size=0.65, random_state=42)\n",
    "lf = LinearRegression()\n",
    "lf.fit(X_train, y_train)\n",
    "prediction = lf.predict(X_test).clip(0,20)\n",
    "\n",
    "print(f\"RMSE: {rmse(y_test, prediction)}\")"
   ],
   "metadata": {
    "collapsed": false,
    "pycharm": {
     "name": "#%%\n"
    }
   }
  },
  {
   "cell_type": "code",
   "execution_count": 10,
   "outputs": [],
   "source": [
    "test_data = pd.read_csv('data/technical/test.csv')\n",
    "shops_in_test_data = set()\n",
    "\n",
    "for i, row in test_data.iterrows():\n",
    "    shops_in_test_data.add(row['shop_id'])"
   ],
   "metadata": {
    "collapsed": false,
    "pycharm": {
     "name": "#%%\n"
    }
   }
  },
  {
   "cell_type": "code",
   "execution_count": 11,
   "outputs": [
    {
     "data": {
      "text/plain": "{0, 1, 8, 9, 11, 13, 17, 20, 23, 27, 29, 30, 32, 33, 40, 43, 51, 54}"
     },
     "execution_count": 11,
     "metadata": {},
     "output_type": "execute_result"
    }
   ],
   "source": [
    "all_shops = set([*range(0, 60)])\n",
    "shops_not_present = all_shops-shops_in_test_data\n",
    "shops_not_present"
   ],
   "metadata": {
    "collapsed": false,
    "pycharm": {
     "name": "#%%\n"
    }
   }
  },
  {
   "cell_type": "code",
   "execution_count": 14,
   "outputs": [
    {
     "data": {
      "text/plain": "(6639294, 106)"
     },
     "execution_count": 14,
     "metadata": {},
     "output_type": "execute_result"
    }
   ],
   "source": [
    "data.shape"
   ],
   "metadata": {
    "collapsed": false,
    "pycharm": {
     "name": "#%%\n"
    }
   }
  },
  {
   "cell_type": "code",
   "execution_count": 15,
   "outputs": [],
   "source": [
    "for missing_shop in shops_not_present:\n",
    "    index_names = data[ data['shop_id'] == missing_shop ].index\n",
    "    data.drop(index_names, inplace=True)"
   ],
   "metadata": {
    "collapsed": false,
    "pycharm": {
     "name": "#%%\n"
    }
   }
  },
  {
   "cell_type": "code",
   "execution_count": 16,
   "outputs": [
    {
     "data": {
      "text/plain": "(5694625, 106)"
     },
     "execution_count": 16,
     "metadata": {},
     "output_type": "execute_result"
    }
   ],
   "source": [
    "data.shape"
   ],
   "metadata": {
    "collapsed": false,
    "pycharm": {
     "name": "#%%\n"
    }
   }
  },
  {
   "cell_type": "code",
   "execution_count": 17,
   "outputs": [
    {
     "name": "stdout",
     "output_type": "stream",
     "text": [
      "RMSE: 0.8003264699129082\n"
     ]
    }
   ],
   "source": [
    "X_train, X_test, y_train, y_test = train_test_split(X, Y, train_size=0.65, random_state=42)\n",
    "lf = LinearRegression()\n",
    "lf.fit(X_train, y_train)\n",
    "prediction = lf.predict(X_test).clip(0,20)\n",
    "\n",
    "print(f\"RMSE: {rmse(y_test, prediction)}\")"
   ],
   "metadata": {
    "collapsed": false,
    "pycharm": {
     "name": "#%%\n"
    }
   }
  }
 ],
 "metadata": {
  "kernelspec": {
   "display_name": "Python 3",
   "language": "python",
   "name": "python3"
  },
  "language_info": {
   "codemirror_mode": {
    "name": "ipython",
    "version": 2
   },
   "file_extension": ".py",
   "mimetype": "text/x-python",
   "name": "python",
   "nbconvert_exporter": "python",
   "pygments_lexer": "ipython2",
   "version": "2.7.6"
  }
 },
 "nbformat": 4,
 "nbformat_minor": 0
}