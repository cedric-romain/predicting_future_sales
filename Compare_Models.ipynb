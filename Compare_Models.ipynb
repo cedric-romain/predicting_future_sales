{
 "cells": [
  {
   "cell_type": "code",
   "execution_count": 1,
   "metadata": {
    "collapsed": true
   },
   "outputs": [],
   "source": [
    "import pandas as pd\n",
    "import numpy as np"
   ]
  },
  {
   "cell_type": "code",
   "execution_count": 2,
   "outputs": [],
   "source": [
    "data = pd.read_pickle('data.pkl')\n",
    "data = data[data.date_block_num > 11]\n",
    "data_og = data.copy()"
   ],
   "metadata": {
    "collapsed": false,
    "pycharm": {
     "name": "#%%\n"
    }
   }
  },
  {
   "cell_type": "code",
   "execution_count": 3,
   "outputs": [],
   "source": [
    "X = None\n",
    "Y = None\n",
    "x = None\n",
    "\n",
    "def set_X_Y_x(df):\n",
    "    global X, Y, x\n",
    "    X = df[df.date_block_num < 34].drop(['item_cnt_month'], axis=1)\n",
    "    Y = df[df.date_block_num < 34]['item_cnt_month']\n",
    "    x = df[df.date_block_num == 34].drop(['item_cnt_month'], axis=1)\n",
    "\n",
    "set_X_Y_x(data)"
   ],
   "metadata": {
    "collapsed": false,
    "pycharm": {
     "name": "#%%\n"
    }
   }
  },
  {
   "cell_type": "code",
   "execution_count": 4,
   "outputs": [],
   "source": [
    "from sklearn.metrics import mean_squared_error\n",
    "\n",
    "def rmse(y_te, y_p):\n",
    "    return np.sqrt(mean_squared_error(y_te, y_p))"
   ],
   "metadata": {
    "collapsed": false,
    "pycharm": {
     "name": "#%%\n"
    }
   }
  },
  {
   "cell_type": "code",
   "execution_count": 5,
   "outputs": [],
   "source": [
    "from sklearn.linear_model import LinearRegression\n",
    "from sklearn.model_selection import train_test_split"
   ],
   "metadata": {
    "collapsed": false,
    "pycharm": {
     "name": "#%%\n"
    }
   }
  },
  {
   "cell_type": "code",
   "execution_count": 6,
   "outputs": [
    {
     "name": "stdout",
     "output_type": "stream",
     "text": [
      "RMSE: 0.8018786024621638\n"
     ]
    }
   ],
   "source": [
    "X_train, X_test, y_train, y_test = train_test_split(X, Y, train_size=0.8)\n",
    "lf = LinearRegression()\n",
    "lf.fit(X_train, y_train)\n",
    "prediction = lf.predict(X_test).clip(0,20)\n",
    "\n",
    "og_rmse = rmse(y_test, prediction)\n",
    "\n",
    "print(f\"RMSE: {og_rmse}\")"
   ],
   "metadata": {
    "collapsed": false,
    "pycharm": {
     "name": "#%%\n"
    }
   }
  },
  {
   "cell_type": "code",
   "execution_count": 7,
   "outputs": [],
   "source": [
    "# create correlation matrix\n",
    "corr = data.corr()\n",
    "\n",
    "# store the heavily correlated columns\n",
    "corr_set = set()\n",
    "\n",
    "# iterate over content and check where they exceed a given threshhold\n",
    "for row in corr.iterrows():\n",
    "    row_name = row[0]\n",
    "    for entry in row[1].iteritems():\n",
    "        entry_name = entry[0]\n",
    "        value = abs(entry[1])\n",
    "        if (value > 0.5) and (value < 1.0):\n",
    "            corr_set.add(row_name)\n",
    "            corr_set.add(entry_name)\n",
    "            # print(f'{row_name} & {entry_name}')\n",
    "\n",
    "# do not drop the label\n",
    "corr_set.remove('item_cnt_month')\n",
    "\n",
    "# remove it from the data column\n",
    "for corr in corr_set:\n",
    "    data.drop([corr], axis=1, inplace=True)"
   ],
   "metadata": {
    "collapsed": false,
    "pycharm": {
     "name": "#%%\n"
    }
   }
  },
  {
   "cell_type": "code",
   "execution_count": 8,
   "outputs": [],
   "source": [
    "set_X_Y_x(data)"
   ],
   "metadata": {
    "collapsed": false,
    "pycharm": {
     "name": "#%%\n"
    }
   }
  },
  {
   "cell_type": "code",
   "execution_count": 10,
   "outputs": [
    {
     "name": "stdout",
     "output_type": "stream",
     "text": [
      "RMSE: 0.9945539967564911\n"
     ]
    }
   ],
   "source": [
    "X_train, X_test, y_train, y_test = train_test_split(X, Y, train_size=0.8)\n",
    "lf = LinearRegression()\n",
    "lf.fit(X_train, y_train)\n",
    "prediction = lf.predict(X_test).clip(0,20)\n",
    "\n",
    "shoved_data_rmse = rmse(y_test, prediction)\n",
    "\n",
    "print(f\"RMSE: {shoved_data_rmse}\")"
   ],
   "metadata": {
    "collapsed": false,
    "pycharm": {
     "name": "#%%\n"
    }
   }
  },
  {
   "cell_type": "code",
   "execution_count": 12,
   "outputs": [],
   "source": [],
   "metadata": {
    "collapsed": false,
    "pycharm": {
     "name": "#%%\n"
    }
   }
  },
  {
   "cell_type": "code",
   "execution_count": 11,
   "outputs": [
    {
     "name": "stdout",
     "output_type": "stream",
     "text": [
      "RMSE with feature date_shop_avg_item_cnt_lag_1: 0.9832218707496655\n",
      "RMSE with feature date_cat-medium-type_avg_item_cnt_lag_12: 0.9934251183706105\n",
      "RMSE with feature date_cat-device_avg_item_cnt_lag_6: 0.9786265878115581\n",
      "RMSE with feature item_cnt_month_lag_12: 0.9718415770356743\n",
      "RMSE with feature date_city_avg_item_cnt_lag_3: 0.9884674636051817\n",
      "RMSE with feature date_shop_cat-device_avg_item_cnt_lag_6: 0.96695410802807\n",
      "RMSE with feature date_item_city_avg_item_cnt_lag_2: 0.9338404989135045\n",
      "RMSE with feature delta_price_trend_with_lag_1: 0.997293434603019\n",
      "RMSE with feature item_avg_price_during_month_lag_5: 0.9863512728943247\n",
      "RMSE with feature item_avg_price_during_month: 0.9863072914529638\n",
      "RMSE with feature date_shop_cat-device_avg_item_cnt_lag_1: 0.9463825826697974\n",
      "RMSE with feature date_cat_avg_item_cnt_lag_3: 0.9746181563111309\n",
      "RMSE with feature date_shop_cat-type_avg_item_cnt_lag_12: 0.9840438567518028\n",
      "RMSE with feature date_cat-type_avg_item_cnt_lag_3: 0.987004735786306\n",
      "RMSE with feature item_cnt_month_lag_2: 0.9170202077389757\n",
      "RMSE with feature date_shop_cat-type_avg_item_cnt_lag_6: 0.9765290724395455\n",
      "RMSE with feature date_cat_avg_item_cnt_lag_1: 0.95914163013883\n",
      "RMSE with feature date_avg_item_cnt_lag_1: 0.982497077615634\n",
      "RMSE with feature shop_revenue_this_month: 0.990892454979261\n",
      "RMSE with feature date_cat-device_avg_item_cnt_lag_12: 0.9828109704275106\n",
      "RMSE with feature date_city_avg_item_cnt_lag_2: 1.000356422961999\n",
      "RMSE with feature date_cat_avg_item_cnt_lag_6: 0.974042481529045\n",
      "RMSE with feature date_shop_cat-medium-type_avg_item_cnt_lag_3: 0.9806493457197474\n",
      "RMSE with feature date_item_avg_item_cnt_lag_12: 0.9753634734860752\n",
      "RMSE with feature delta_price_trend_with_lag_5: 0.9871001283468759\n",
      "RMSE with feature date_item_city_avg_item_cnt_lag_1: 0.8775834785829854\n",
      "RMSE with feature delta_shop_revenue_this_month_lag_2: 0.9951178173088506\n",
      "RMSE with feature date_item_city_avg_item_cnt_lag_12: 0.9808827943527051\n",
      "RMSE with feature date_cat_avg_item_cnt_lag_12: 0.9847169714410945\n",
      "RMSE with feature item_avg_price_during_month_lag_2: 0.978487750913737\n",
      "RMSE with feature date_item_avg_item_cnt_lag_2: 0.9574959565280975\n",
      "RMSE with feature days_in_month: 0.9961018480254716\n",
      "RMSE with feature delta_price_trend_with_lag_2: 0.9944898273897048\n",
      "RMSE with feature delta_price_trend_with_lag_6: 0.9914036319429798\n",
      "RMSE with feature date_avg_item_cnt_lag_12: 0.9902176233730222\n",
      "RMSE with feature date_shop_cat_avg_item_cnt_lag_3: 0.9488362044676146\n",
      "RMSE with feature date_shop_cat_avg_item_cnt_lag_6: 0.9595199505927013\n",
      "RMSE with feature item_cnt_month_lag_1: 0.8599037382070484\n",
      "RMSE with feature date_item_city_avg_item_cnt_lag_3: 0.9507479272061846\n",
      "RMSE with feature date_avg_item_cnt_lag_3: 0.9937503928075275\n",
      "RMSE with feature date_avg_item_cnt_lag_6: 0.9908319473201145\n",
      "RMSE with feature shop_avg_revenue: 0.9826037560673618\n",
      "RMSE with feature date_shop_avg_item_cnt_lag_3: 0.9890705456837822\n",
      "RMSE with feature date_shop_cat_avg_item_cnt_lag_12: 0.973272084787251\n",
      "RMSE with feature delta_price_trend_with_lag_4: 0.9951167564065324\n",
      "RMSE with feature date_cat-device_avg_item_cnt_lag_3: 0.9760028343207412\n",
      "RMSE with feature date_shop_cat-device_avg_item_cnt_lag_12: 0.9838360580172927\n",
      "RMSE with feature date_cat-device_avg_item_cnt_lag_1: 0.972296000456794\n",
      "RMSE with feature date_shop_avg_item_cnt_lag_6: 0.9947178066114749\n",
      "RMSE with feature date_cat-medium-type_avg_item_cnt_lag_2: 0.9920853949365566\n",
      "RMSE with feature date_city_avg_item_cnt_lag_6: 0.9813594821785911\n",
      "RMSE with feature date_shop_cat-type_avg_item_cnt_lag_3: 0.9763690076854914\n",
      "RMSE with feature date_cat-medium-type_avg_item_cnt_lag_1: 0.9954920957070935\n",
      "RMSE with feature date_shop_cat-device_avg_item_cnt_lag_3: 0.9645659893608578\n",
      "RMSE with feature date_city_avg_item_cnt_lag_12: 0.992908299606137\n",
      "RMSE with feature item_category_id: 0.9904239303277086\n",
      "RMSE with feature date_shop_cat-type_avg_item_cnt_lag_1: 0.975430171391242\n",
      "RMSE with feature date_item_avg_item_cnt_lag_6: 0.9719862143280357\n",
      "RMSE with feature date_shop_cat_avg_item_cnt_lag_2: 0.9457289550158732\n",
      "RMSE with feature item_first_sold: 0.9860583497531278\n",
      "RMSE with feature item_avg_price: 0.973598712336867\n",
      "RMSE with feature item_avg_price_during_month_lag_3: 0.9956262297772916\n",
      "RMSE with feature delta_shop_revenue_this_month: 0.997110350972602\n",
      "RMSE with feature date_shop_cat_avg_item_cnt_lag_1: 0.9277393768647703\n",
      "RMSE with feature item_first_sold_in_given_shop: 0.9861328158522773\n",
      "RMSE with feature date_shop_cat-type_avg_item_cnt_lag_2: 0.9866517904439043\n",
      "RMSE with feature date_avg_item_cnt_lag_2: 0.9932943026933935\n",
      "RMSE with feature date_cat-type_avg_item_cnt_lag_1: 0.9869691475319086\n",
      "RMSE with feature date_city_avg_item_cnt_lag_1: 0.9816600257055107\n",
      "RMSE with feature item_last_sold_in_given_shop: 0.9725043740338606\n",
      "RMSE with feature date_cat_avg_item_cnt_lag_2: 0.9685179968720316\n",
      "RMSE with feature date_shop_cat-medium-type_avg_item_cnt_lag_2: 0.9816387754911025\n",
      "RMSE with feature date_item_avg_item_cnt_lag_1: 0.9139924043192291\n",
      "RMSE with feature date_shop_cat-device_avg_item_cnt_lag_2: 0.9600492326761071\n",
      "RMSE with feature item_cnt_month_lag_6: 0.9574776830967477\n",
      "RMSE with feature date_shop_avg_item_cnt_lag_12: 0.9756719676603716\n",
      "RMSE with feature category_device_for_platform: 0.9913640343778028\n",
      "RMSE with feature date_item_avg_item_cnt_lag_3: 0.9621767238613426\n",
      "RMSE with feature item_avg_price_during_month_lag_4: 0.9893994039811695\n",
      "RMSE with feature date_cat-type_avg_item_cnt_lag_12: 0.9871688213907266\n",
      "RMSE with feature date_cat-type_avg_item_cnt_lag_6: 0.9925454253914259\n",
      "RMSE with feature date_cat-medium-type_avg_item_cnt_lag_3: 0.9928933445587814\n",
      "RMSE with feature date_shop_cat-medium-type_avg_item_cnt_lag_1: 0.9827589553366621\n",
      "RMSE with feature delta_price_trend_with_lag_3: 0.9913627688575782\n",
      "RMSE with feature date_item_city_avg_item_cnt_lag_6: 0.9715277709704752\n",
      "RMSE with feature item_cnt_month_lag_3: 0.9394204941954765\n",
      "RMSE with feature date_shop_avg_item_cnt_lag_2: 0.9908027097382426\n",
      "RMSE with feature item_avg_price_during_month_lag_1: 0.9773851087943853\n",
      "RMSE with feature date_cat-medium-type_avg_item_cnt_lag_6: 0.9890901856391218\n",
      "RMSE with feature date_cat-device_avg_item_cnt_lag_2: 0.9658822862024286\n",
      "RMSE with feature date_shop_cat-medium-type_avg_item_cnt_lag_6: 0.9902206200349197\n",
      "RMSE with feature date_shop_cat-medium-type_avg_item_cnt_lag_12: 0.9908272577643769\n",
      "RMSE with feature item_price: 0.9794480091342822\n",
      "RMSE with feature date_cat-type_avg_item_cnt_lag_2: 0.988039477076888\n",
      "RMSE with feature item_avg_price_during_month_lag_6: 0.9929621962470814\n",
      "RMSE with feature item_cat_avg_price: 0.9720354945094446\n"
     ]
    }
   ],
   "source": [
    "reduced_data = data.copy()\n",
    "\n",
    "features_that_decrease_model = set()\n",
    "\n",
    "for corr in corr_set:\n",
    "    inspected_data = reduced_data.copy()\n",
    "    inspected_data[corr] = data_og[corr]\n",
    "    set_X_Y_x(inspected_data)\n",
    "\n",
    "    X_train, X_test, y_train, y_test = train_test_split(X, Y, train_size=0.8)\n",
    "    lf = LinearRegression()\n",
    "    lf.fit(X_train, y_train)\n",
    "    prediction = lf.predict(X_test).clip(0,20)\n",
    "\n",
    "    current_rmse = rmse(y_test, prediction)\n",
    "\n",
    "    print(f\"RMSE with feature {corr}: {current_rmse}\")\n",
    "\n",
    "    if current_rmse > shoved_data_rmse:\n",
    "        features_that_decrease_model.add((corr, current_rmse))\n"
   ],
   "metadata": {
    "collapsed": false,
    "pycharm": {
     "name": "#%%\n"
    }
   }
  },
  {
   "cell_type": "code",
   "execution_count": 13,
   "outputs": [
    {
     "data": {
      "text/plain": "{('date_cat-medium-type_avg_item_cnt_lag_1', 0.9954920957070935),\n ('date_city_avg_item_cnt_lag_2', 1.000356422961999),\n ('date_shop_avg_item_cnt_lag_6', 0.9947178066114749),\n ('days_in_month', 0.9961018480254716),\n ('delta_price_trend_with_lag_1', 0.997293434603019),\n ('delta_price_trend_with_lag_4', 0.9951167564065324),\n ('delta_shop_revenue_this_month', 0.997110350972602),\n ('delta_shop_revenue_this_month_lag_2', 0.9951178173088506),\n ('item_avg_price_during_month_lag_3', 0.9956262297772916)}"
     },
     "execution_count": 13,
     "metadata": {},
     "output_type": "execute_result"
    }
   ],
   "source": [
    "features_that_decrease_model"
   ],
   "metadata": {
    "collapsed": false,
    "pycharm": {
     "name": "#%%\n"
    }
   }
  }
 ],
 "metadata": {
  "kernelspec": {
   "display_name": "Python 3",
   "language": "python",
   "name": "python3"
  },
  "language_info": {
   "codemirror_mode": {
    "name": "ipython",
    "version": 2
   },
   "file_extension": ".py",
   "mimetype": "text/x-python",
   "name": "python",
   "nbconvert_exporter": "python",
   "pygments_lexer": "ipython2",
   "version": "2.7.6"
  }
 },
 "nbformat": 4,
 "nbformat_minor": 0
}