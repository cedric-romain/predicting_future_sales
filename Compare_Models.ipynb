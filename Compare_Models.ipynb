{
 "cells": [
  {
   "cell_type": "code",
   "execution_count": 1,
   "metadata": {
    "collapsed": true,
    "pycharm": {
     "name": "#%%\n"
    }
   },
   "outputs": [],
   "source": [
    "import pandas as pd\n",
    "import numpy as np"
   ]
  },
  {
   "cell_type": "code",
   "execution_count": 2,
   "outputs": [],
   "source": [
    "from sklearn.metrics import mean_squared_error\n",
    "\n",
    "def rmse(y_te, y_p):\n",
    "    return np.sqrt(mean_squared_error(y_te, y_p))"
   ],
   "metadata": {
    "collapsed": false,
    "pycharm": {
     "name": "#%%\n"
    }
   }
  },
  {
   "cell_type": "code",
   "execution_count": 3,
   "outputs": [],
   "source": [
    "data = pd.read_pickle('data.pkl')\n",
    "data = data[data.date_block_num > 11]"
   ],
   "metadata": {
    "collapsed": false,
    "pycharm": {
     "name": "#%%\n"
    }
   }
  },
  {
   "cell_type": "code",
   "execution_count": 4,
   "outputs": [],
   "source": [
    "X = data[data.date_block_num < 34].drop(['item_cnt_month'], axis=1)\n",
    "Y = data[data.date_block_num < 34]['item_cnt_month']\n",
    "x = data[data.date_block_num == 34].drop(['item_cnt_month'], axis=1)"
   ],
   "metadata": {
    "collapsed": false,
    "pycharm": {
     "name": "#%%\n"
    }
   }
  },
  {
   "cell_type": "code",
   "execution_count": 5,
   "outputs": [],
   "source": [
    "# create correlation matrix\n",
    "corr = data.corr()\n",
    "\n",
    "# store the heavily correlated columns\n",
    "corr_set = set()\n",
    "\n",
    "threshold = 0.5\n",
    "# iterate over content and check where they exceed a given threshold\n",
    "for row in corr.iterrows():\n",
    "    row_name = row[0]\n",
    "    for entry in row[1].iteritems():\n",
    "        entry_name = entry[0]\n",
    "        value = abs(entry[1])\n",
    "        if (value > threshold) and (value < 1.0):\n",
    "            corr_set.add(row_name)\n",
    "            corr_set.add(entry_name)\n",
    "            # print(f'{row_name} & {entry_name}')\n",
    "\n",
    "# do not drop the label\n",
    "corr_set.remove('item_cnt_month')\n",
    "\n",
    "# remove it from the data column\n",
    "for corr in corr_set:\n",
    "    data.drop([corr], axis=1, inplace=True)"
   ],
   "metadata": {
    "collapsed": false,
    "pycharm": {
     "name": "#%%\n"
    }
   }
  },
  {
   "cell_type": "code",
   "execution_count": 7,
   "outputs": [
    {
     "data": {
      "text/plain": "{'category_device_for_platform',\n 'date_avg_item_cnt_lag_1',\n 'date_avg_item_cnt_lag_12',\n 'date_avg_item_cnt_lag_2',\n 'date_avg_item_cnt_lag_3',\n 'date_avg_item_cnt_lag_6',\n 'date_cat-device_avg_item_cnt_lag_1',\n 'date_cat-device_avg_item_cnt_lag_12',\n 'date_cat-device_avg_item_cnt_lag_2',\n 'date_cat-device_avg_item_cnt_lag_3',\n 'date_cat-device_avg_item_cnt_lag_6',\n 'date_cat-medium-type_avg_item_cnt_lag_1',\n 'date_cat-medium-type_avg_item_cnt_lag_12',\n 'date_cat-medium-type_avg_item_cnt_lag_2',\n 'date_cat-medium-type_avg_item_cnt_lag_3',\n 'date_cat-medium-type_avg_item_cnt_lag_6',\n 'date_cat-type_avg_item_cnt_lag_1',\n 'date_cat-type_avg_item_cnt_lag_12',\n 'date_cat-type_avg_item_cnt_lag_2',\n 'date_cat-type_avg_item_cnt_lag_3',\n 'date_cat-type_avg_item_cnt_lag_6',\n 'date_cat_avg_item_cnt_lag_1',\n 'date_cat_avg_item_cnt_lag_12',\n 'date_cat_avg_item_cnt_lag_2',\n 'date_cat_avg_item_cnt_lag_3',\n 'date_cat_avg_item_cnt_lag_6',\n 'date_city_avg_item_cnt_lag_1',\n 'date_city_avg_item_cnt_lag_12',\n 'date_city_avg_item_cnt_lag_2',\n 'date_city_avg_item_cnt_lag_3',\n 'date_city_avg_item_cnt_lag_6',\n 'date_item_avg_item_cnt_lag_1',\n 'date_item_avg_item_cnt_lag_12',\n 'date_item_avg_item_cnt_lag_2',\n 'date_item_avg_item_cnt_lag_3',\n 'date_item_avg_item_cnt_lag_6',\n 'date_item_city_avg_item_cnt_lag_1',\n 'date_item_city_avg_item_cnt_lag_12',\n 'date_item_city_avg_item_cnt_lag_2',\n 'date_item_city_avg_item_cnt_lag_3',\n 'date_item_city_avg_item_cnt_lag_6',\n 'date_shop_avg_item_cnt_lag_1',\n 'date_shop_avg_item_cnt_lag_12',\n 'date_shop_avg_item_cnt_lag_2',\n 'date_shop_avg_item_cnt_lag_3',\n 'date_shop_avg_item_cnt_lag_6',\n 'date_shop_cat-device_avg_item_cnt_lag_1',\n 'date_shop_cat-device_avg_item_cnt_lag_12',\n 'date_shop_cat-device_avg_item_cnt_lag_2',\n 'date_shop_cat-device_avg_item_cnt_lag_3',\n 'date_shop_cat-device_avg_item_cnt_lag_6',\n 'date_shop_cat-medium-type_avg_item_cnt_lag_1',\n 'date_shop_cat-medium-type_avg_item_cnt_lag_12',\n 'date_shop_cat-medium-type_avg_item_cnt_lag_2',\n 'date_shop_cat-medium-type_avg_item_cnt_lag_3',\n 'date_shop_cat-medium-type_avg_item_cnt_lag_6',\n 'date_shop_cat-type_avg_item_cnt_lag_1',\n 'date_shop_cat-type_avg_item_cnt_lag_12',\n 'date_shop_cat-type_avg_item_cnt_lag_2',\n 'date_shop_cat-type_avg_item_cnt_lag_3',\n 'date_shop_cat-type_avg_item_cnt_lag_6',\n 'date_shop_cat_avg_item_cnt_lag_1',\n 'date_shop_cat_avg_item_cnt_lag_12',\n 'date_shop_cat_avg_item_cnt_lag_2',\n 'date_shop_cat_avg_item_cnt_lag_3',\n 'date_shop_cat_avg_item_cnt_lag_6',\n 'days_in_month',\n 'delta_price_trend_with_lag_1',\n 'delta_price_trend_with_lag_2',\n 'delta_price_trend_with_lag_3',\n 'delta_price_trend_with_lag_4',\n 'delta_price_trend_with_lag_5',\n 'delta_price_trend_with_lag_6',\n 'delta_shop_revenue_this_month',\n 'delta_shop_revenue_this_month_lag_2',\n 'item_avg_price',\n 'item_avg_price_during_month',\n 'item_avg_price_during_month_lag_1',\n 'item_avg_price_during_month_lag_2',\n 'item_avg_price_during_month_lag_3',\n 'item_avg_price_during_month_lag_4',\n 'item_avg_price_during_month_lag_5',\n 'item_avg_price_during_month_lag_6',\n 'item_cat_avg_price',\n 'item_category_id',\n 'item_cnt_month_lag_1',\n 'item_cnt_month_lag_12',\n 'item_cnt_month_lag_2',\n 'item_cnt_month_lag_3',\n 'item_cnt_month_lag_6',\n 'item_first_sold',\n 'item_first_sold_in_given_shop',\n 'item_last_sold_in_given_shop',\n 'item_price',\n 'shop_avg_revenue',\n 'shop_revenue_this_month'}"
     },
     "execution_count": 7,
     "metadata": {},
     "output_type": "execute_result"
    }
   ],
   "source": [
    "corr_set"
   ],
   "metadata": {
    "collapsed": false,
    "pycharm": {
     "name": "#%%\n"
    }
   }
  },
  {
   "cell_type": "code",
   "execution_count": 6,
   "outputs": [
    {
     "name": "stdout",
     "output_type": "stream",
     "text": [
      "RMSE: 0.7977978573326405\n"
     ]
    }
   ],
   "source": [
    "from sklearn.linear_model import LinearRegression\n",
    "from sklearn.model_selection import train_test_split\n",
    "\n",
    "X_train, X_test, y_train, y_test = train_test_split(X, Y,\n",
    "                                                    train_size=0.72,\n",
    "                                                    random_state=42)\n",
    "lf = LinearRegression()\n",
    "lf.fit(X_train, y_train)\n",
    "prediction = lf.predict(X_test).clip(0,20)\n",
    "\n",
    "shoved_data_rmse = rmse(y_test, prediction)\n",
    "\n",
    "print(f\"RMSE: {shoved_data_rmse}\")"
   ],
   "metadata": {
    "collapsed": false,
    "pycharm": {
     "name": "#%%\n"
    }
   }
  }
 ],
 "metadata": {
  "kernelspec": {
   "display_name": "Python 3",
   "language": "python",
   "name": "python3"
  },
  "language_info": {
   "codemirror_mode": {
    "name": "ipython",
    "version": 2
   },
   "file_extension": ".py",
   "mimetype": "text/x-python",
   "name": "python",
   "nbconvert_exporter": "python",
   "pygments_lexer": "ipython2",
   "version": "2.7.6"
  }
 },
 "nbformat": 4,
 "nbformat_minor": 0
}