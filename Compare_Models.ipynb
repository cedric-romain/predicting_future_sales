{
 "cells": [
  {
   "cell_type": "code",
   "execution_count": 1,
   "metadata": {
    "collapsed": true
   },
   "outputs": [],
   "source": [
    "import pandas as pd\n",
    "import numpy as np\n",
    "\n",
    "from sklearn.model_selection import train_test_split\n"
   ]
  },
  {
   "cell_type": "code",
   "execution_count": 2,
   "outputs": [],
   "source": [
    "from sklearn.metrics import mean_squared_error\n",
    "\n",
    "def rmse(y_te, y_p):\n",
    "    return np.sqrt(mean_squared_error(y_te, y_p))"
   ],
   "metadata": {
    "collapsed": false,
    "pycharm": {
     "name": "#%%\n"
    }
   }
  },
  {
   "cell_type": "code",
   "execution_count": 3,
   "outputs": [],
   "source": [
    "train = pd.read_csv('data/technical/sales_train.csv')"
   ],
   "metadata": {
    "collapsed": false,
    "pycharm": {
     "name": "#%%\n"
    }
   }
  },
  {
   "cell_type": "code",
   "execution_count": 4,
   "outputs": [],
   "source": [
    "# regroup the train data on the relevant columns\n",
    "group_on = ['date_block_num', 'shop_id', 'item_id']\n",
    "# sum it up\n",
    "df = train.groupby(group_on).agg({'item_cnt_day': ['sum']})\n",
    "train.drop('item_cnt_day', axis=1, inplace=True)\n",
    "df.columns = df.columns.droplevel(1)\n",
    "\n",
    "# merge it back\n",
    "df = df.merge(train, left_index=True, right_on=group_on, how='left')\n",
    "# remove the duplicates\n",
    "df.drop_duplicates(group_on, inplace=True)\n",
    "# rename the column and drop redundant columns\n",
    "df.rename(columns = {'item_cnt_day': 'item_cnt_month'}, inplace=True)\n",
    "df.drop('date', axis=1, inplace=True)\n",
    "\n",
    "# copy it back\n",
    "train = df.copy()\n",
    "del df\n",
    "\n",
    "train['item_cnt_month'] = train['item_cnt_month'].clip(0, 20)"
   ],
   "metadata": {
    "collapsed": false,
    "pycharm": {
     "name": "#%%\n"
    }
   }
  },
  {
   "cell_type": "code",
   "execution_count": 5,
   "outputs": [],
   "source": [
    "from itertools import product\n",
    "\n",
    "matrix = []\n",
    "for i in range(34):\n",
    "    this_month = train[train.date_block_num == i]\n",
    "    matrix.append(np.array(list(product(\n",
    "            [i], this_month.shop_id.unique(), this_month.item_id.unique()\n",
    "    ))))\n",
    "\n",
    "# vstack == stack array row-wise\n",
    "matrix = pd.DataFrame(np.vstack(matrix), columns=group_on)\n",
    "matrix = pd.merge(matrix, train, how='left', on=group_on)\n",
    "\n",
    "matrix['item_cnt_month'] = matrix['item_cnt_month'].fillna(0)\n",
    "matrix.drop('item_price', axis=1, inplace=True)"
   ],
   "metadata": {
    "collapsed": false,
    "pycharm": {
     "name": "#%%\n"
    }
   }
  },
  {
   "cell_type": "code",
   "execution_count": 6,
   "outputs": [],
   "source": [
    "# assign features and label\n",
    "X = matrix.drop('item_cnt_month', axis=1)\n",
    "Y = matrix['item_cnt_month']"
   ],
   "metadata": {
    "collapsed": false,
    "pycharm": {
     "name": "#%%\n"
    }
   }
  },
  {
   "cell_type": "code",
   "execution_count": 7,
   "outputs": [
    {
     "name": "stdout",
     "output_type": "stream",
     "text": [
      "RMSE: 1.2233041172027828\n"
     ]
    }
   ],
   "source": [
    "from sklearn.linear_model import LinearRegression\n",
    "\n",
    "X_train, X_test, y_train, y_test = train_test_split(X, Y, train_size=0.65, random_state=42)\n",
    "\n",
    "LR = LinearRegression()\n",
    "LR.fit(X_train, y_train)\n",
    "prediction = LR.predict(X_test).clip(0, 20)\n",
    "\n",
    "print(f\"RMSE: {rmse(y_test, prediction)}\")"
   ],
   "metadata": {
    "collapsed": false,
    "pycharm": {
     "name": "#%%\n"
    }
   }
  }
 ],
 "metadata": {
  "kernelspec": {
   "display_name": "Python 3",
   "language": "python",
   "name": "python3"
  },
  "language_info": {
   "codemirror_mode": {
    "name": "ipython",
    "version": 2
   },
   "file_extension": ".py",
   "mimetype": "text/x-python",
   "name": "python",
   "nbconvert_exporter": "python",
   "pygments_lexer": "ipython2",
   "version": "2.7.6"
  }
 },
 "nbformat": 4,
 "nbformat_minor": 0
}