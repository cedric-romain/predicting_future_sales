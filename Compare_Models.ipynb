{
 "cells": [
  {
   "cell_type": "code",
   "execution_count": 1,
   "metadata": {
    "collapsed": true
   },
   "outputs": [],
   "source": [
    "import pandas as pd\n",
    "import numpy as np\n",
    "\n",
    "from sklearn.model_selection import train_test_split\n",
    "from sklearn.linear_model import LinearRegression"
   ]
  },
  {
   "cell_type": "code",
   "execution_count": 2,
   "outputs": [],
   "source": [
    "data = pd.read_pickle('data.pkl')\n",
    "data = data[data.date_block_num > 11]"
   ],
   "metadata": {
    "collapsed": false,
    "pycharm": {
     "name": "#%%\n"
    }
   }
  },
  {
   "cell_type": "code",
   "execution_count": 3,
   "outputs": [],
   "source": [
    "drop_features = ['date_cat-medium-type_avg_item_cnt_lag_1', 'date_city_avg_item_cnt_lag_2', 'date_shop_avg_item_cnt_lag_6', 'days_in_month', 'delta_price_trend_with_lag_1', 'delta_price_trend_with_lag_4', 'delta_shop_revenue_this_month', 'delta_shop_revenue_this_month_lag_2', 'item_avg_price_during_month_lag_3']\n",
    "data.drop(drop_features, axis=1, inplace=True)"
   ],
   "metadata": {
    "collapsed": false,
    "pycharm": {
     "name": "#%%\n"
    }
   }
  },
  {
   "cell_type": "code",
   "execution_count": 4,
   "outputs": [],
   "source": [
    "X = None\n",
    "Y = None\n",
    "x = None\n",
    "\n",
    "def set_X_Y_x():\n",
    "    global X, Y, x\n",
    "    X = data[data.date_block_num < 34].drop(['item_cnt_month'], axis=1)\n",
    "    Y = data[data.date_block_num < 34]['item_cnt_month']\n",
    "    x = data[data.date_block_num == 34].drop(['item_cnt_month'], axis=1)\n",
    "\n",
    "set_X_Y_x()"
   ],
   "metadata": {
    "collapsed": false,
    "pycharm": {
     "name": "#%%\n"
    }
   }
  },
  {
   "cell_type": "code",
   "execution_count": 5,
   "outputs": [],
   "source": [
    "from sklearn.metrics import mean_squared_error\n",
    "\n",
    "def rmse(y_te, y_p):\n",
    "    return np.sqrt(mean_squared_error(y_te, y_p))"
   ],
   "metadata": {
    "collapsed": false,
    "pycharm": {
     "name": "#%%\n"
    }
   }
  },
  {
   "cell_type": "code",
   "execution_count": 6,
   "outputs": [],
   "source": [
    "test_range = [*range(65, 86)]\n",
    "test_range = [i/100 for i in test_range]"
   ],
   "metadata": {
    "collapsed": false,
    "pycharm": {
     "name": "#%%\n"
    }
   }
  },
  {
   "cell_type": "code",
   "execution_count": 7,
   "outputs": [
    {
     "name": "stdout",
     "output_type": "stream",
     "text": [
      "Train size: 0.65\n",
      "RMSE: 0.8003264699129082\n",
      "Train size: 0.66\n",
      "RMSE: 0.7991169668641688\n",
      "Train size: 0.67\n",
      "RMSE: 0.7988784880630845\n",
      "Train size: 0.68\n",
      "RMSE: 0.7991891834691143\n",
      "Train size: 0.69\n",
      "RMSE: 0.7989936114849506\n",
      "Train size: 0.7\n",
      "RMSE: 0.7985416214062987\n",
      "Train size: 0.71\n",
      "RMSE: 0.7986544663216979\n",
      "Train size: 0.72\n",
      "RMSE: 0.7982727821238813\n",
      "Train size: 0.73\n",
      "RMSE: 0.7985357456187182\n",
      "Train size: 0.74\n",
      "RMSE: 0.7995145659000567\n",
      "Train size: 0.75\n",
      "RMSE: 0.799170093619113\n",
      "Train size: 0.76\n",
      "RMSE: 0.799367018953535\n",
      "Train size: 0.77\n",
      "RMSE: 0.7997282758090738\n",
      "Train size: 0.78\n",
      "RMSE: 0.8004436102841819\n",
      "Train size: 0.79\n",
      "RMSE: 0.801827651375034\n",
      "Train size: 0.8\n",
      "RMSE: 0.8015585994871826\n",
      "Train size: 0.81\n",
      "RMSE: 0.8040264738604426\n",
      "Train size: 0.82\n",
      "RMSE: 0.8039648760209365\n",
      "Train size: 0.83\n",
      "RMSE: 0.8021291016899722\n",
      "Train size: 0.84\n",
      "RMSE: 0.8017228202225367\n",
      "Train size: 0.85\n",
      "RMSE: 0.8000181006640787\n"
     ]
    }
   ],
   "source": [
    "best_score = (0, 10)\n",
    "\n",
    "for test_this_range in test_range:\n",
    "    X_train, X_test, y_train, y_test = train_test_split(X, Y,\n",
    "                                                        train_size=test_this_range,\n",
    "                                                        random_state=42)\n",
    "    lf = LinearRegression()\n",
    "    lf.fit(X_train, y_train)\n",
    "    prediction = lf.predict(X_test).clip(0,20)\n",
    "\n",
    "    current_rmse = rmse(y_test, prediction)\n",
    "    print(f\"Train size: {test_this_range}\\nRMSE: {current_rmse}\")\n",
    "\n",
    "    if current_rmse < best_score[1]:\n",
    "        best_score = (test_this_range, current_rmse)"
   ],
   "metadata": {
    "collapsed": false,
    "pycharm": {
     "name": "#%%\n"
    }
   }
  },
  {
   "cell_type": "code",
   "execution_count": 8,
   "outputs": [
    {
     "name": "stdout",
     "output_type": "stream",
     "text": [
      "(0.72, 0.7982727821238813)\n"
     ]
    }
   ],
   "source": [
    "print(best_score)"
   ],
   "metadata": {
    "collapsed": false,
    "pycharm": {
     "name": "#%%\n"
    }
   }
  }
 ],
 "metadata": {
  "kernelspec": {
   "display_name": "Python 3",
   "language": "python",
   "name": "python3"
  },
  "language_info": {
   "codemirror_mode": {
    "name": "ipython",
    "version": 2
   },
   "file_extension": ".py",
   "mimetype": "text/x-python",
   "name": "python",
   "nbconvert_exporter": "python",
   "pygments_lexer": "ipython2",
   "version": "2.7.6"
  }
 },
 "nbformat": 4,
 "nbformat_minor": 0
}