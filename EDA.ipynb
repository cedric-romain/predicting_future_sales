{
 "cells": [
  {
   "cell_type": "markdown",
   "metadata": {
    "collapsed": true,
    "pycharm": {
     "name": "#%% md\n"
    }
   },
   "source": [
    "# Exploratory Data Analysis\n",
    "\n",
    "<style>\n",
    "  h1 {\n",
    "        text-size:2.5em;\n",
    "        color: white;\n",
    "        background-color:green;\n",
    "        text-align:center;\n",
    "        height: 2.5em;\n",
    "      }\n",
    "</style>"
   ]
  },
  {
   "cell_type": "code",
   "execution_count": null,
   "outputs": [],
   "source": [
    "import pandas as pd\n",
    "from datetime import datetime"
   ],
   "metadata": {
    "collapsed": false,
    "pycharm": {
     "name": "#%%\n"
    }
   }
  },
  {
   "cell_type": "code",
   "execution_count": 2,
   "outputs": [],
   "source": [
    "df_train = pd.read_csv(\"data/technical/sales_train.csv\", parse_dates=['date'])"
   ],
   "metadata": {
    "collapsed": false,
    "pycharm": {
     "name": "#%%\n"
    }
   }
  },
  {
   "cell_type": "code",
   "execution_count": 3,
   "outputs": [],
   "source": [
    "dateformat = '%Y-%m-%d'"
   ],
   "metadata": {
    "collapsed": false,
    "pycharm": {
     "name": "#%%\n"
    }
   }
  },
  {
   "cell_type": "code",
   "execution_count": 4,
   "outputs": [],
   "source": [
    "df_train['date'] = df_train['date'].apply(lambda x: x.strftime(dateformat))"
   ],
   "metadata": {
    "collapsed": false,
    "pycharm": {
     "name": "#%%\n"
    }
   }
  },
  {
   "cell_type": "code",
   "execution_count": 5,
   "outputs": [],
   "source": [
    "all_dates = set()\n",
    "\n",
    "for index, row in df_train.iterrows():\n",
    "    date = row['date']  # access the row\n",
    "    date = datetime.strptime(date, dateformat)  # convert to datetime format\n",
    "    date_as_int = date.toordinal()  # convert to ordinal format for date arithmetic\n",
    "    all_dates.add((date_as_int, date))  # add to set"
   ],
   "metadata": {
    "collapsed": false,
    "pycharm": {
     "name": "#%%\n"
    }
   }
  },
  {
   "cell_type": "code",
   "execution_count": 6,
   "outputs": [],
   "source": [
    "# transform the set to a list and sort it\n",
    "all_dates = list(all_dates)\n",
    "all_dates.sort()"
   ],
   "metadata": {
    "collapsed": false,
    "pycharm": {
     "name": "#%%\n"
    }
   }
  },
  {
   "cell_type": "markdown",
   "source": [
    "Check for all interruptions of consecutive sales days"
   ],
   "metadata": {
    "collapsed": false,
    "pycharm": {
     "name": "#%% md\n"
    }
   },
   "outputs": [
    {
     "name": "stdout",
     "output_type": "stream",
     "text": [
      "739, (735608, datetime.datetime(2015, 1, 10, 0, 0))\n",
      "768, (735639, datetime.datetime(2015, 2, 10, 0, 0))\n",
      "794, (735667, datetime.datetime(2015, 3, 10, 0, 0))\n",
      "823, (735698, datetime.datetime(2015, 4, 10, 0, 0))\n",
      "851, (735728, datetime.datetime(2015, 5, 10, 0, 0))\n",
      "880, (735759, datetime.datetime(2015, 6, 10, 0, 0))\n",
      "908, (735789, datetime.datetime(2015, 7, 10, 0, 0))\n",
      "937, (735820, datetime.datetime(2015, 8, 10, 0, 0))\n",
      "966, (735851, datetime.datetime(2015, 9, 10, 0, 0))\n",
      "994, (735881, datetime.datetime(2015, 10, 10, 0, 0))\n",
      "1023, (735912, datetime.datetime(2015, 11, 10, 0, 0))\n"
     ]
    }
   ],
   "execution_count": 8
  },
  {
   "cell_type": "code",
   "execution_count": 7,
   "outputs": [
    {
     "name": "stdout",
     "output_type": "stream",
     "text": [
      "739, (735608, datetime.datetime(2015, 1, 10, 0, 0))\n",
      "768, (735639, datetime.datetime(2015, 2, 10, 0, 0))\n",
      "794, (735667, datetime.datetime(2015, 3, 10, 0, 0))\n",
      "823, (735698, datetime.datetime(2015, 4, 10, 0, 0))\n",
      "851, (735728, datetime.datetime(2015, 5, 10, 0, 0))\n",
      "880, (735759, datetime.datetime(2015, 6, 10, 0, 0))\n",
      "908, (735789, datetime.datetime(2015, 7, 10, 0, 0))\n",
      "937, (735820, datetime.datetime(2015, 8, 10, 0, 0))\n",
      "966, (735851, datetime.datetime(2015, 9, 10, 0, 0))\n",
      "994, (735881, datetime.datetime(2015, 10, 10, 0, 0))\n",
      "1023, (735912, datetime.datetime(2015, 11, 10, 0, 0))\n"
     ]
    }
   ],
   "source": [
    "counter_entries_in_all_dates = len(all_dates)\n",
    "anomalies_in_date_series = set()\n",
    "for i in range(counter_entries_in_all_dates):\n",
    "\n",
    "\n",
    "    if i != (counter_entries_in_all_dates - 1):\n",
    "        ordinal_this_date = all_dates[i][0]\n",
    "        ordinal_successor_date = all_dates[i+1][0]\n",
    "\n",
    "        if ordinal_this_date + 1 != ordinal_successor_date:\n",
    "            print(f\"{i}, {all_dates[i]}\")\n",
    "            anomalies_in_date_series.add(i)"
   ],
   "metadata": {
    "collapsed": false,
    "pycharm": {
     "name": "#%%\n"
    }
   }
  },
  {
   "cell_type": "markdown",
   "source": [
    "Check how many of these are weekends"
   ],
   "metadata": {
    "collapsed": false,
    "pycharm": {
     "name": "#%% md\n"
    }
   },
   "outputs": [
    {
     "name": "stdout",
     "output_type": "stream",
     "text": [
      "2015-02-10 / 2015-02-13\n",
      "2015-10-10 / 2015-10-13\n",
      "2015-01-10 / 2015-01-13\n",
      "2015-09-10 / 2015-09-13\n",
      "2015-08-10 / 2015-08-13\n",
      "2015-07-10 / 2015-07-13\n",
      "Weekend\n",
      "\n",
      "2015-06-10 / 2015-06-13\n",
      "2015-05-10 / 2015-05-13\n",
      "2015-04-10 / 2015-04-13\n",
      "Weekend\n",
      "\n",
      "2015-03-10 / 2015-03-13\n",
      "2015-11-10 / 2015-12-01\n"
     ]
    }
   ],
   "execution_count": 9
  },
  {
   "cell_type": "code",
   "execution_count": 8,
   "outputs": [
    {
     "name": "stdout",
     "output_type": "stream",
     "text": [
      "2015-02-10 / 2015-02-13\n",
      "2015-10-10 / 2015-10-13\n",
      "2015-01-10 / 2015-01-13\n",
      "2015-09-10 / 2015-09-13\n",
      "2015-08-10 / 2015-08-13\n",
      "2015-07-10 / 2015-07-13\n",
      "Weekend\n",
      "\n",
      "2015-06-10 / 2015-06-13\n",
      "2015-05-10 / 2015-05-13\n",
      "2015-04-10 / 2015-04-13\n",
      "Weekend\n",
      "\n",
      "2015-03-10 / 2015-03-13\n",
      "2015-11-10 / 2015-12-01\n"
     ]
    }
   ],
   "source": [
    "for anomaly_index in anomalies_in_date_series:\n",
    "    lower_bound = all_dates[anomaly_index]\n",
    "    upper_bound = all_dates[anomaly_index + 1]\n",
    "\n",
    "    lower_bound_formatted = lower_bound[1].strftime(dateformat)\n",
    "    upper_bound_formatted = upper_bound[1].strftime(dateformat)\n",
    "    print(f\"{lower_bound_formatted} / {upper_bound_formatted}\")\n",
    "\n",
    "    # if it could be a weekend\n",
    "    if upper_bound[0] - lower_bound[0] == 3:\n",
    "        if lower_bound[1].weekday() == 4:\n",
    "            print(\"Weekend\\n\")"
   ],
   "metadata": {
    "collapsed": false,
    "pycharm": {
     "name": "#%%\n"
    }
   }
  }
 ],
 "metadata": {
  "kernelspec": {
   "display_name": "Python 3",
   "language": "python",
   "name": "python3"
  },
  "language_info": {
   "codemirror_mode": {
    "name": "ipython",
    "version": 2
   },
   "file_extension": ".py",
   "mimetype": "text/x-python",
   "name": "python",
   "nbconvert_exporter": "python",
   "pygments_lexer": "ipython2",
   "version": "2.7.6"
  }
 },
 "nbformat": 4,
 "nbformat_minor": 0
}