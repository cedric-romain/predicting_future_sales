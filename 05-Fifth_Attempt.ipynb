{
 "cells": [
  {
   "cell_type": "markdown",
   "source": [
    "Based on this notebook: https://www.kaggle.com/dlarionov/feature-engineering-xgboost"
   ],
   "metadata": {
    "collapsed": false,
    "pycharm": {
     "name": "#%% md\n"
    }
   }
  },
  {
   "cell_type": "code",
   "execution_count": 1,
   "outputs": [],
   "source": [
    "import numpy as np\n",
    "import pandas as pd\n",
    "pd.set_option('display.max_rows', 500)\n",
    "pd.set_option('display.max_columns', 100)\n",
    "\n",
    "from itertools import product\n",
    "\n",
    "import time"
   ],
   "metadata": {
    "collapsed": false,
    "pycharm": {
     "name": "#%%\n"
    }
   }
  },
  {
   "cell_type": "code",
   "execution_count": 2,
   "outputs": [],
   "source": [
    "items = pd.read_csv('data/info/items.csv')\n",
    "shops = pd.read_csv('data/info/shops.csv')\n",
    "cats = pd.read_csv('data/info/item_categories.csv')\n",
    "train = pd.read_csv('data/technical/sales_train.csv')\n",
    "# set index to ID to avoid droping it later\n",
    "test  = pd.read_csv('data/technical/test.csv').set_index('ID')"
   ],
   "metadata": {
    "collapsed": false,
    "pycharm": {
     "name": "#%%\n"
    }
   }
  },
  {
   "cell_type": "markdown",
   "source": [
    "## Monthly sales\n",
    "Test set is a product of some shops and some items within 34 month.\n",
    "There are 5100 items * 42 shops = 214 200 pairs.\n",
    "363 items are new compared to the train set.\n",
    "Hence, for most of the items in the test set, the target value should be zero.\n",
    "\n",
    "In the other hand train set contains only pairs which were sold\n",
    "or returned to the past. The main idea is to calculate monthly sales and\n",
    "<b>extend it with zero sales</b> for each unique pair within the month.\n",
    "This way train data will be similar to test data."
   ],
   "metadata": {
    "collapsed": false
   }
  },
  {
   "cell_type": "code",
   "execution_count": 3,
   "outputs": [
    {
     "data": {
      "text/plain": "12.504931211471558"
     },
     "execution_count": 3,
     "metadata": {},
     "output_type": "execute_result"
    }
   ],
   "source": [
    "ts = time.time()\n",
    "matrix = []\n",
    "cols = ['date_block_num','shop_id','item_id']\n",
    "for i in range(34):\n",
    "    sales = train[train.date_block_num==i]\n",
    "    # product makes a cartesian product of all the columns. the labels\n",
    "    # will be added again later on\n",
    "    matrix.append(np.array(list(product([i], sales.shop_id.unique(), sales.item_id.unique())), dtype='int16'))\n",
    "\n",
    "matrix = pd.DataFrame(np.vstack(matrix), columns=cols)\n",
    "matrix['date_block_num'] = matrix['date_block_num'].astype(np.int8)\n",
    "matrix['shop_id'] = matrix['shop_id'].astype(np.int8)\n",
    "matrix['item_id'] = matrix['item_id'].astype(np.int16)\n",
    "matrix.sort_values(cols,inplace=True)\n",
    "time.time() - ts"
   ],
   "metadata": {
    "collapsed": false,
    "pycharm": {
     "name": "#%%\n"
    }
   }
  },
  {
   "cell_type": "code",
   "execution_count": 4,
   "outputs": [],
   "source": [
    "train['revenue'] = train['item_price'] *  train['item_cnt_day']"
   ],
   "metadata": {
    "collapsed": false,
    "pycharm": {
     "name": "#%%\n"
    }
   }
  },
  {
   "cell_type": "code",
   "execution_count": 5,
   "outputs": [
    {
     "data": {
      "text/plain": "3.0037128925323486"
     },
     "execution_count": 5,
     "metadata": {},
     "output_type": "execute_result"
    }
   ],
   "source": [
    "ts = time.time()\n",
    "group = train.groupby(['date_block_num','shop_id','item_id']).agg({'item_cnt_day': ['sum']})\n",
    "group.columns = ['item_cnt_month']\n",
    "group.reset_index(inplace=True)\n",
    "\n",
    "matrix = pd.merge(matrix, group, on=cols, how='left')\n",
    "matrix['item_cnt_month'] = (matrix['item_cnt_month']\n",
    "                                .fillna(0)\n",
    "                                .clip(0,20) # NB clip target here\n",
    "                                .astype(np.float16))\n",
    "time.time() - ts\n"
   ],
   "metadata": {
    "collapsed": false,
    "pycharm": {
     "name": "#%%\n"
    }
   }
  },
  {
   "cell_type": "code",
   "execution_count": 6,
   "outputs": [],
   "source": [
    "test['date_block_num'] = 34\n",
    "test['date_block_num'] = test['date_block_num'].astype(np.int8)\n",
    "test['shop_id'] = test['shop_id'].astype(np.int8)\n",
    "test['item_id'] = test['item_id'].astype(np.int16)"
   ],
   "metadata": {
    "collapsed": false,
    "pycharm": {
     "name": "#%%\n"
    }
   }
  },
  {
   "cell_type": "code",
   "execution_count": 7,
   "outputs": [],
   "source": [
    "matrix = pd.concat([matrix, test], ignore_index=True, sort=False, keys=cols)\n",
    "matrix.fillna(0, inplace=True) # 34 month"
   ],
   "metadata": {
    "collapsed": false,
    "pycharm": {
     "name": "#%%\n"
    }
   }
  },
  {
   "cell_type": "code",
   "execution_count": 8,
   "outputs": [],
   "source": [
    "X_train = matrix[matrix.date_block_num < 33].drop(['item_cnt_month'], axis=1)\n",
    "Y_train = matrix[matrix.date_block_num < 33]['item_cnt_month']\n",
    "X_test = matrix[matrix.date_block_num == 34].drop(['item_cnt_month'], axis=1)"
   ],
   "metadata": {
    "collapsed": false,
    "pycharm": {
     "name": "#%%\n"
    }
   }
  },
  {
   "cell_type": "code",
   "execution_count": 9,
   "outputs": [],
   "source": [
    "from sklearn.linear_model import LinearRegression\n",
    "\n",
    "LR = LinearRegression()\n",
    "LR.fit(X_train, Y_train)\n",
    "prediction = LR.predict(X_test)"
   ],
   "metadata": {
    "collapsed": false,
    "pycharm": {
     "name": "#%%\n"
    }
   }
  },
  {
   "cell_type": "code",
   "execution_count": 10,
   "outputs": [],
   "source": [
    "submission = pd.DataFrame({\n",
    "    \"ID\": test.index,\n",
    "    \"item_cnt_month\": prediction\n",
    "})\n",
    "submission.to_csv('lr_submission.csv', index=False)\n"
   ],
   "metadata": {
    "collapsed": false,
    "pycharm": {
     "name": "#%%\n"
    }
   }
  },
  {
   "cell_type": "code",
   "execution_count": 11,
   "outputs": [],
   "source": [
    "X_train = matrix[matrix.date_block_num < 33].drop(['item_cnt_month'], axis=1)\n",
    "Y_train = matrix[matrix.date_block_num < 33]['item_cnt_month']\n",
    "X_valid = matrix[matrix.date_block_num == 33].drop(['item_cnt_month'], axis=1)\n",
    "Y_valid = matrix[matrix.date_block_num == 33]['item_cnt_month']\n",
    "X_test = matrix[matrix.date_block_num == 34].drop(['item_cnt_month'], axis=1)"
   ],
   "metadata": {
    "collapsed": false,
    "pycharm": {
     "name": "#%%\n"
    }
   }
  },
  {
   "cell_type": "code",
   "execution_count": 13,
   "outputs": [
    {
     "name": "stdout",
     "output_type": "stream",
     "text": [
      "[0]\tvalidation_0-rmse:1.22610\tvalidation_1-rmse:1.14870\n",
      "[1]\tvalidation_0-rmse:1.22089\tvalidation_1-rmse:1.14107\n",
      "[2]\tvalidation_0-rmse:1.21086\tvalidation_1-rmse:1.12997\n",
      "[3]\tvalidation_0-rmse:1.20266\tvalidation_1-rmse:1.12365\n",
      "[4]\tvalidation_0-rmse:1.19784\tvalidation_1-rmse:1.12078\n",
      "[5]\tvalidation_0-rmse:1.19569\tvalidation_1-rmse:1.11900\n",
      "[6]\tvalidation_0-rmse:1.19464\tvalidation_1-rmse:1.11881\n",
      "[7]\tvalidation_0-rmse:1.19368\tvalidation_1-rmse:1.11819\n",
      "[8]\tvalidation_0-rmse:1.19287\tvalidation_1-rmse:1.11764\n",
      "[9]\tvalidation_0-rmse:1.19229\tvalidation_1-rmse:1.11755\n",
      "[10]\tvalidation_0-rmse:1.19185\tvalidation_1-rmse:1.11741\n",
      "[11]\tvalidation_0-rmse:1.19169\tvalidation_1-rmse:1.11727\n",
      "[12]\tvalidation_0-rmse:1.19140\tvalidation_1-rmse:1.11740\n",
      "[13]\tvalidation_0-rmse:1.19117\tvalidation_1-rmse:1.11745\n",
      "[14]\tvalidation_0-rmse:1.19090\tvalidation_1-rmse:1.11675\n",
      "[15]\tvalidation_0-rmse:1.19055\tvalidation_1-rmse:1.11690\n",
      "[16]\tvalidation_0-rmse:1.19025\tvalidation_1-rmse:1.11685\n",
      "[17]\tvalidation_0-rmse:1.19017\tvalidation_1-rmse:1.11662\n",
      "[18]\tvalidation_0-rmse:1.19007\tvalidation_1-rmse:1.11647\n",
      "[19]\tvalidation_0-rmse:1.19002\tvalidation_1-rmse:1.11640\n",
      "[20]\tvalidation_0-rmse:1.18990\tvalidation_1-rmse:1.11628\n",
      "[21]\tvalidation_0-rmse:1.18959\tvalidation_1-rmse:1.11631\n",
      "[22]\tvalidation_0-rmse:1.18948\tvalidation_1-rmse:1.11614\n",
      "[23]\tvalidation_0-rmse:1.18940\tvalidation_1-rmse:1.11569\n",
      "[24]\tvalidation_0-rmse:1.18933\tvalidation_1-rmse:1.11569\n",
      "[25]\tvalidation_0-rmse:1.18919\tvalidation_1-rmse:1.11570\n",
      "[26]\tvalidation_0-rmse:1.18908\tvalidation_1-rmse:1.11568\n",
      "[27]\tvalidation_0-rmse:1.18889\tvalidation_1-rmse:1.11566\n",
      "[28]\tvalidation_0-rmse:1.18884\tvalidation_1-rmse:1.11564\n",
      "[29]\tvalidation_0-rmse:1.18879\tvalidation_1-rmse:1.11565\n",
      "[30]\tvalidation_0-rmse:1.18870\tvalidation_1-rmse:1.11576\n",
      "[31]\tvalidation_0-rmse:1.18867\tvalidation_1-rmse:1.11602\n",
      "[32]\tvalidation_0-rmse:1.18864\tvalidation_1-rmse:1.11602\n",
      "[33]\tvalidation_0-rmse:1.18863\tvalidation_1-rmse:1.11600\n",
      "[34]\tvalidation_0-rmse:1.18858\tvalidation_1-rmse:1.11598\n",
      "[35]\tvalidation_0-rmse:1.18852\tvalidation_1-rmse:1.11581\n",
      "[36]\tvalidation_0-rmse:1.18844\tvalidation_1-rmse:1.11596\n",
      "[37]\tvalidation_0-rmse:1.18838\tvalidation_1-rmse:1.11598\n"
     ]
    },
    {
     "data": {
      "text/plain": "58.1401309967041"
     },
     "execution_count": 13,
     "metadata": {},
     "output_type": "execute_result"
    }
   ],
   "source": [
    "from xgboost import XGBRegressor\n",
    "\n",
    "ts = time.time()\n",
    "\n",
    "model = XGBRegressor(\n",
    "    max_depth=8,\n",
    "    n_estimators=1000,\n",
    "    min_child_weight=300,\n",
    "    colsample_bytree=0.8,\n",
    "    subsample=0.8,\n",
    "    eta=0.3,\n",
    "    seed=42)\n",
    "\n",
    "model.fit(\n",
    "    X_train,\n",
    "    Y_train,\n",
    "    eval_metric=\"rmse\",\n",
    "    eval_set=[(X_train, Y_train), (X_valid, Y_valid)],\n",
    "    verbose=True,\n",
    "    early_stopping_rounds = 10)\n",
    "\n",
    "time.time() - ts"
   ],
   "metadata": {
    "collapsed": false,
    "pycharm": {
     "name": "#%%\n"
    }
   }
  },
  {
   "cell_type": "code",
   "execution_count": 14,
   "outputs": [],
   "source": [
    "Y_pred = model.predict(X_valid).clip(0, 20)\n",
    "Y_test = model.predict(X_test).clip(0, 20)\n",
    "\n",
    "submission = pd.DataFrame({\n",
    "    \"ID\": test.index,\n",
    "    \"item_cnt_month\": Y_test\n",
    "})\n",
    "submission.to_csv('xgb_submission.csv', index=False)"
   ],
   "metadata": {
    "collapsed": false,
    "pycharm": {
     "name": "#%%\n"
    }
   }
  }
 ],
 "metadata": {
  "kernelspec": {
   "display_name": "Python 3",
   "language": "python",
   "name": "python3"
  },
  "language_info": {
   "codemirror_mode": {
    "name": "ipython",
    "version": 2
   },
   "file_extension": ".py",
   "mimetype": "text/x-python",
   "name": "python",
   "nbconvert_exporter": "python",
   "pygments_lexer": "ipython2",
   "version": "2.7.6"
  }
 },
 "nbformat": 4,
 "nbformat_minor": 0
}