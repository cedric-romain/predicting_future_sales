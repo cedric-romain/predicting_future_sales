{
 "cells": [
  {
   "cell_type": "code",
   "execution_count": 1,
   "metadata": {
    "collapsed": true
   },
   "outputs": [],
   "source": [
    "import seaborn as sns\n",
    "import pandas as pd\n",
    "import matplotlib.pyplot as plt"
   ]
  },
  {
   "cell_type": "code",
   "execution_count": 2,
   "outputs": [],
   "source": [
    "df_train = pd.read_csv(\"data/technical/sales_train.csv\")\n",
    "feature_names = ['date_block_num', 'shop_id', 'item_id', 'item_price']\n",
    "df_features = df_train[feature_names]"
   ],
   "metadata": {
    "collapsed": false,
    "pycharm": {
     "name": "#%%\n"
    }
   }
  },
  {
   "cell_type": "code",
   "execution_count": 3,
   "outputs": [],
   "source": [
    "mse = False  # set `True` for MSE, `False` for RMSE"
   ],
   "metadata": {
    "collapsed": false,
    "pycharm": {
     "name": "#%%\n"
    }
   }
  },
  {
   "cell_type": "markdown",
   "source": [
    "Check if any `NaN` values are in the dataset."
   ],
   "metadata": {
    "collapsed": false,
    "pycharm": {
     "name": "#%% md\n"
    }
   }
  },
  {
   "cell_type": "code",
   "execution_count": 4,
   "outputs": [
    {
     "data": {
      "text/plain": "date              0\ndate_block_num    0\nshop_id           0\nitem_id           0\nitem_price        0\nitem_cnt_day      0\ndtype: int64"
     },
     "execution_count": 4,
     "metadata": {},
     "output_type": "execute_result"
    }
   ],
   "source": [
    "df_train.isna().sum()"
   ],
   "metadata": {
    "collapsed": false,
    "pycharm": {
     "name": "#%%\n"
    }
   }
  },
  {
   "cell_type": "markdown",
   "source": [
    "# Check Correlation between the features\n",
    "\n",
    "[Source for the formatting](https://towardsdatascience.com/better-heatmaps-and-correlation-matrix-plots-in-python-41445d0f2bec)"
   ],
   "metadata": {
    "collapsed": false,
    "pycharm": {
     "name": "#%% md\n"
    }
   }
  },
  {
   "cell_type": "code",
   "execution_count": 5,
   "outputs": [
    {
     "data": {
      "text/plain": "<Figure size 432x288 with 2 Axes>",
      "image/png": "[encoded data removed]"
     },
     "metadata": {
      "needs_background": "light"
     },
     "output_type": "display_data"
    }
   ],
   "source": [
    "corr = df_features.corr()\n",
    "\n",
    "ax = sns.heatmap(\n",
    "    corr,\n",
    "    vmin=-1, vmax=1, center=0,\n",
    "    cmap=sns.diverging_palette(20, 220, n=200),\n",
    "    square=True\n",
    ")\n",
    "ax.set_xticklabels(\n",
    "    ax.get_xticklabels(),\n",
    "    rotation=45,\n",
    "    horizontalalignment='right'\n",
    ");  # the ';' suppresses the output"
   ],
   "metadata": {
    "collapsed": false,
    "pycharm": {
     "name": "#%%\n"
    }
   }
  },
  {
   "cell_type": "markdown",
   "source": [
    "**Little to no correlation found between the features:**\n",
    "\n",
    "`item_id` gives us a negative correlation, which is to be expected.\n",
    "\n",
    "The only tiny correlation to be found is regarding the price of the item.\n",
    "`item_price` shows the darkest spot on the graph.\n",
    "\n",
    "Cite correlation interpretation: `978-1-4614-7138-7` - p. 156\n"
   ],
   "metadata": {
    "collapsed": false,
    "pycharm": {
     "name": "#%% md\n"
    }
   }
  },
  {
   "cell_type": "markdown",
   "source": [
    "# Boxplot: that a closer look at `item_price`"
   ],
   "metadata": {
    "collapsed": false,
    "pycharm": {
     "name": "#%% md\n"
    }
   }
  },
  {
   "cell_type": "code",
   "execution_count": 6,
   "outputs": [
    {
     "data": {
      "text/plain": "<Figure size 432x288 with 1 Axes>",
      "image/png": "[encoded data removed]"
     },
     "metadata": {
      "needs_background": "light"
     },
     "output_type": "display_data"
    }
   ],
   "source": [
    "fig1, ax1 = plt.subplots()\n",
    "ax1.boxplot(df_features['item_price'])\n",
    "plt.ylim([-50, 2500])\n",
    "plt.show()"
   ],
   "metadata": {
    "collapsed": false,
    "pycharm": {
     "name": "#%%\n"
    }
   }
  },
  {
   "cell_type": "markdown",
   "source": [
    "Get a grip of the price at hand by converting it to a familiar currency."
   ],
   "metadata": {
    "collapsed": false,
    "pycharm": {
     "name": "#%% md\n"
    }
   }
  },
  {
   "cell_type": "code",
   "execution_count": 7,
   "outputs": [
    {
     "name": "stdout",
     "output_type": "stream",
     "text": [
      "500 RUB is approx. equal to 14 USD at the time of the data.\n"
     ]
    }
   ],
   "source": [
    "from currency_converter import CurrencyConverter\n",
    "from datetime import date\n",
    "\n",
    "c = CurrencyConverter()\n",
    "\n",
    "rub_in_usd = int(c.convert(500, 'RUB', 'USD', date=date(2014, 7, 1)))\n",
    "\n",
    "print(f\"500 RUB is approx. equal to {rub_in_usd} USD \"\n",
    "      f\"at the time of the data.\")\n"
   ],
   "metadata": {
    "collapsed": false,
    "pycharm": {
     "name": "#%%\n"
    }
   }
  },
  {
   "cell_type": "markdown",
   "source": [
    "# Linear regression\n",
    "\n",
    "Start off with a simple application of a simple linear regression model"
   ],
   "metadata": {
    "collapsed": false,
    "pycharm": {
     "name": "#%% md\n"
    }
   }
  },
  {
   "cell_type": "code",
   "execution_count": 8,
   "outputs": [],
   "source": [
    "# first, define our class we are going to use a few times\n",
    "\n",
    "from sklearn.model_selection import train_test_split\n",
    "from sklearn.linear_model import LinearRegression\n",
    "from sklearn.metrics import mean_squared_error\n",
    "\n",
    "class MyLR:\n",
    "\n",
    "    def __init__(self, x, y):\n",
    "        \"\"\"Pass `X_train` and `Y_train` to the constructor\"\"\"\n",
    "        self.x_train, self.x_test, self.y_train, self.y_test = train_test_split(x, y, test_size=0.20, random_state=1)\n",
    "        self.LR = LinearRegression()\n",
    "        self.LR.fit(self.x_train, self.y_train)\n",
    "\n",
    "        self.train_set_rmse = mean_squared_error(self.y_train, self.LR.predict(self.x_train), squared=mse)\n",
    "        self.test_set_rmse = mean_squared_error(self.y_test, self.LR.predict(self.x_test), squared=mse)\n",
    "        self.test_set_score = self.LR.score(self.x_train,self.y_train)\n",
    "\n",
    "    def print(self):\n",
    "        print('Train set rmse:', self.train_set_rmse)\n",
    "        print('Test set rmse:', self.test_set_rmse)\n",
    "        print('Test set score:', self.test_set_score)"
   ],
   "metadata": {
    "collapsed": false,
    "pycharm": {
     "name": "#%%\n"
    }
   }
  },
  {
   "cell_type": "code",
   "execution_count": 9,
   "outputs": [],
   "source": [
    "Y_train = df_train['item_cnt_day']\n",
    "X_train = df_train[feature_names]"
   ],
   "metadata": {
    "collapsed": false,
    "pycharm": {
     "name": "#%%\n"
    }
   }
  },
  {
   "cell_type": "code",
   "execution_count": 10,
   "outputs": [
    {
     "name": "stdout",
     "output_type": "stream",
     "text": [
      "Train set rmse: 2.322206078154416\n",
      "Test set rmse: 3.5639661191093497\n",
      "Test set score: 0.0007086413604801001\n"
     ]
    }
   ],
   "source": [
    "MyLR(X_train, Y_train).print()"
   ],
   "metadata": {
    "collapsed": false,
    "pycharm": {
     "name": "#%%\n"
    }
   }
  },
  {
   "cell_type": "markdown",
   "source": [
    "The results do not look at all promising. Never use the test data during training.\n",
    "\n",
    "Off to a new start."
   ],
   "metadata": {
    "collapsed": false,
    "pycharm": {
     "name": "#%% md\n"
    }
   }
  },
  {
   "cell_type": "code",
   "execution_count": 11,
   "outputs": [],
   "source": [
    "# FIXME: found an issue with the formatting of the date\n",
    "# first, format the date to be regrouped into months\n",
    "\n",
    "def format_timestrings_in_pd(pd_to_format):\n",
    "    pd_to_format['date'] = pd.to_datetime(pd_to_format['date'], dayfirst=True)\n",
    "    pd_to_format['date'] = pd_to_format['date'].apply(lambda x: x.strftime('%Y-%m'))\n",
    "    return pd_to_format\n",
    "\n",
    "df_train = format_timestrings_in_pd(df_train)"
   ],
   "metadata": {
    "collapsed": false,
    "pycharm": {
     "name": "#%%\n"
    }
   }
  },
  {
   "cell_type": "code",
   "execution_count": 13,
   "outputs": [],
   "source": [
    "# parse all the months in the list to iterate them\n",
    "# for later feature engineering\n",
    "\n",
    "def col_is_year(col):\n",
    "    return col[0] == '2'\n",
    "\n",
    "def get_all_months(merged_frame):\n",
    "    all_cols = set(merged_frame.columns.values.tolist())\n",
    "    cols_to_remove = set()\n",
    "    for col in all_cols:\n",
    "        if not col_is_year(col):\n",
    "            cols_to_remove.add(col)\n",
    "    final_col = all_cols - cols_to_remove\n",
    "    final_col = list(final_col)\n",
    "    final_col.sort()\n",
    "    return final_col"
   ],
   "metadata": {
    "collapsed": false,
    "pycharm": {
     "name": "#%%\n"
    }
   }
  },
  {
   "cell_type": "code",
   "execution_count": 14,
   "outputs": [],
   "source": [
    "# then, sum up the sales according to their categories\n",
    "df = df_train.groupby(['date','shop_id','item_id']).sum()\n",
    "df = df.pivot_table(index=['shop_id','item_id'], columns='date', values='item_cnt_day', fill_value=0)\n",
    "df.reset_index(inplace=True)\n",
    "\n",
    "all_months = get_all_months(df)\n",
    "\n",
    "df_pivoted = df\n",
    "\n",
    "# assign train and test from within the train set\n",
    "# drop october 2014 from the set and assign it was test values\n",
    "drop_year = '2014-10'\n",
    "Y_train = df_pivoted[drop_year].values\n",
    "X_train = df_pivoted.drop([drop_year], axis=1)\n",
    "\n",
    "df_pivoted = df"
   ],
   "metadata": {
    "collapsed": false,
    "pycharm": {
     "name": "#%%\n"
    }
   }
  },
  {
   "cell_type": "code",
   "execution_count": 15,
   "outputs": [
    {
     "name": "stdout",
     "output_type": "stream",
     "text": [
      "Train set rmse: 2.4113022745555877\n",
      "Test set rmse: 2.0719456183279235\n",
      "Test set score: 0.5540276005502269\n"
     ]
    }
   ],
   "source": [
    "MyLR(X_train, Y_train).print()"
   ],
   "metadata": {
    "collapsed": false,
    "pycharm": {
     "name": "#%%\n"
    }
   }
  },
  {
   "cell_type": "markdown",
   "source": [
    "That looked a little better. Now lets find out which month is best dropped"
   ],
   "metadata": {
    "collapsed": false,
    "pycharm": {
     "name": "#%% md\n"
    }
   }
  },
  {
   "cell_type": "code",
   "execution_count": 16,
   "outputs": [
    {
     "name": "stdout",
     "output_type": "stream",
     "text": [
      "(0.8899910007221387, '2014-12')\n"
     ]
    }
   ],
   "source": [
    "highscore = (0, None)\n",
    "\n",
    "for month in all_months:\n",
    "\n",
    "    Y_train = df_pivoted[month].values\n",
    "    X_train = df_pivoted.drop([month], axis=1)\n",
    "\n",
    "    df_pivoted = df\n",
    "    lr = MyLR(X_train, Y_train)\n",
    "    if lr.test_set_score > highscore[0]:\n",
    "        highscore = (lr.test_set_score, month)\n",
    "\n",
    "print(highscore)"
   ],
   "metadata": {
    "collapsed": false,
    "pycharm": {
     "name": "#%%\n"
    }
   }
  },
  {
   "cell_type": "code",
   "execution_count": 17,
   "outputs": [
    {
     "name": "stdout",
     "output_type": "stream",
     "text": [
      "Train set rmse: 1.6339305830431743\n",
      "Test set rmse: 1.5215913280633677\n",
      "Test set score: 0.8899910007221387\n"
     ]
    }
   ],
   "source": [
    "Y_train = df_pivoted[highscore[1]].values\n",
    "X_train = df_pivoted.drop([highscore[1]], axis=1)\n",
    "df_pivoted = df\n",
    "lr = MyLR(X_train, Y_train)\n",
    "lr.print()"
   ],
   "metadata": {
    "collapsed": false,
    "pycharm": {
     "name": "#%%\n"
    }
   }
  },
  {
   "cell_type": "code",
   "execution_count": 18,
   "outputs": [
    {
     "name": "stdout",
     "output_type": "stream",
     "text": [
      "Train set rmse: 1.6339305830431743\n",
      "Test set rmse: 1.5215913280633677\n",
      "Test set score: 0.8899910007221387\n"
     ]
    }
   ],
   "source": [
    "from sklearn.preprocessing import StandardScaler\n",
    "\n",
    "scaler = StandardScaler().fit(X_train)\n",
    "train_X_scaled = scaler.transform(X_train)\n",
    "\n",
    "MyLR(X_train, Y_train).print()\n"
   ],
   "metadata": {
    "collapsed": false,
    "pycharm": {
     "name": "#%%\n"
    }
   }
  },
  {
   "cell_type": "markdown",
   "source": [
    "# Test\n",
    "\n",
    "Now off to add the testing data.\n",
    "\n",
    "The features missing in the missing data are the month to predict (`2015-11`)\n",
    "as well as the item price. The item price would be calculated by averaging the\n",
    "past prices for a given item."
   ],
   "metadata": {
    "collapsed": false,
    "pycharm": {
     "name": "#%% md\n"
    }
   }
  },
  {
   "cell_type": "code",
   "execution_count": 19,
   "outputs": [],
   "source": [
    "# TODO: wip\n",
    "df_test = pd.read_csv(\"data/technical/test.csv\")"
   ],
   "metadata": {
    "collapsed": false,
    "pycharm": {
     "name": "#%%\n"
    }
   }
  }
 ],
 "metadata": {
  "kernelspec": {
   "display_name": "Python 3",
   "language": "python",
   "name": "python3"
  },
  "language_info": {
   "codemirror_mode": {
    "name": "ipython",
    "version": 2
   },
   "file_extension": ".py",
   "mimetype": "text/x-python",
   "name": "python",
   "nbconvert_exporter": "python",
   "pygments_lexer": "ipython2",
   "version": "2.7.6"
  }
 },
 "nbformat": 4,
 "nbformat_minor": 0
}