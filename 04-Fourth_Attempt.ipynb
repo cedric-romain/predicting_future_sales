{
 "cells": [
  {
   "cell_type": "code",
   "execution_count": 1,
   "metadata": {
    "collapsed": true
   },
   "outputs": [],
   "source": [
    "import seaborn as sns\n",
    "import pandas as pd\n",
    "import matplotlib.pyplot as plt"
   ]
  },
  {
   "cell_type": "code",
   "execution_count": 2,
   "outputs": [],
   "source": [
    "df_train = pd.read_csv(\"data/technical/sales_train.csv\")\n",
    "feature_names = ['date_block_num', 'shop_id', 'item_id', 'item_price']\n",
    "df_features = df_train[feature_names]\n",
    "df_test = pd.read_csv(\"data/technical/test.csv\")"
   ],
   "metadata": {
    "collapsed": false,
    "pycharm": {
     "name": "#%%\n"
    }
   }
  },
  {
   "cell_type": "code",
   "execution_count": 3,
   "outputs": [],
   "source": [
    "mse = False  # set `True` for MSE, `False` for RMSE"
   ],
   "metadata": {
    "collapsed": false,
    "pycharm": {
     "name": "#%%\n"
    }
   }
  },
  {
   "cell_type": "markdown",
   "source": [
    "# Check Correlation between the features\n",
    "\n",
    "[Source for the formatting](https://towardsdatascience.com/better-heatmaps-and-correlation-matrix-plots-in-python-41445d0f2bec)"
   ],
   "metadata": {
    "collapsed": false,
    "pycharm": {
     "name": "#%% md\n"
    }
   }
  },
  {
   "cell_type": "code",
   "execution_count": 4,
   "outputs": [
    {
     "data": {
      "text/plain": "<Figure size 432x288 with 2 Axes>",
      "image/png": "[encoded data removed]"
     },
     "metadata": {
      "needs_background": "light"
     },
     "output_type": "display_data"
    }
   ],
   "source": [
    "corr = df_features.corr()\n",
    "\n",
    "ax = sns.heatmap(\n",
    "    corr,\n",
    "    vmin=-1, vmax=1, center=0,\n",
    "    cmap=sns.diverging_palette(20, 220, n=200),\n",
    "    square=True\n",
    ")\n",
    "ax.set_xticklabels(\n",
    "    ax.get_xticklabels(),\n",
    "    rotation=45,\n",
    "    horizontalalignment='right'\n",
    ");  # the ';' suppresses the output"
   ],
   "metadata": {
    "collapsed": false,
    "pycharm": {
     "name": "#%%\n"
    }
   }
  },
  {
   "cell_type": "markdown",
   "source": [
    "**Little to no correlation found between the features:**\n",
    "\n",
    "`item_id` gives us a negative correlation, which is to be expected.\n",
    "\n",
    "The only tiny correlation to be found is regarding the price of the item.\n",
    "`item_price` shows the darkest spot on the graph.\n",
    "\n",
    "Cite correlation interpretation: `978-1-4614-7138-7` - p. 156\n"
   ],
   "metadata": {
    "collapsed": false,
    "pycharm": {
     "name": "#%% md\n"
    }
   }
  },
  {
   "cell_type": "markdown",
   "source": [
    "# Boxplot: that a closer look at `item_price`"
   ],
   "metadata": {
    "collapsed": false,
    "pycharm": {
     "name": "#%% md\n"
    }
   }
  },
  {
   "cell_type": "code",
   "execution_count": 5,
   "outputs": [
    {
     "data": {
      "text/plain": "<Figure size 432x288 with 1 Axes>",
      "image/png": "[encoded data removed]"
     },
     "metadata": {
      "needs_background": "light"
     },
     "output_type": "display_data"
    }
   ],
   "source": [
    "fig1, ax1 = plt.subplots()\n",
    "ax1.boxplot(df_features['item_price'])\n",
    "plt.ylim([-50, 2500])\n",
    "plt.show()"
   ],
   "metadata": {
    "collapsed": false,
    "pycharm": {
     "name": "#%%\n"
    }
   }
  },
  {
   "cell_type": "markdown",
   "source": [
    "Get a grip of the price at hand by converting it to a familiar currency."
   ],
   "metadata": {
    "collapsed": false,
    "pycharm": {
     "name": "#%% md\n"
    }
   }
  },
  {
   "cell_type": "code",
   "execution_count": 6,
   "outputs": [
    {
     "name": "stdout",
     "output_type": "stream",
     "text": [
      "500 RUB is approx. equal to 14 USD at the time of the data.\n"
     ]
    }
   ],
   "source": [
    "from currency_converter import CurrencyConverter\n",
    "from datetime import date\n",
    "\n",
    "c = CurrencyConverter()\n",
    "\n",
    "rub_in_usd = int(c.convert(500, 'RUB', 'USD', date=date(2014, 7, 1)))\n",
    "\n",
    "print(f\"500 RUB is approx. equal to {rub_in_usd} USD \"\n",
    "      f\"at the time of the data.\")\n"
   ],
   "metadata": {
    "collapsed": false,
    "pycharm": {
     "name": "#%%\n"
    }
   }
  },
  {
   "cell_type": "markdown",
   "source": [
    "# Linear regression\n",
    "\n",
    "Start off with a simple application of a simple linear regression model"
   ],
   "metadata": {
    "collapsed": false,
    "pycharm": {
     "name": "#%% md\n"
    }
   }
  },
  {
   "cell_type": "code",
   "execution_count": 7,
   "outputs": [],
   "source": [
    "from sklearn.model_selection import train_test_split\n",
    "\n",
    "X_test = df_test\n",
    "Y_train = df_train['item_cnt_day']\n",
    "X_train = df_train[feature_names]\n",
    "\n",
    "x_train, x_test, y_train, y_test = train_test_split( X_train, Y_train, test_size=0.20, random_state=1)"
   ],
   "metadata": {
    "collapsed": false,
    "pycharm": {
     "name": "#%%\n"
    }
   }
  },
  {
   "cell_type": "code",
   "execution_count": 8,
   "outputs": [
    {
     "name": "stdout",
     "output_type": "stream",
     "text": [
      "Train set rmse: 2.322206078154416\n",
      "Test set rmse: 3.5639661191093497\n",
      "Test set score: 0.0007086413604801001\n"
     ]
    }
   ],
   "source": [
    "from sklearn.linear_model import LinearRegression\n",
    "from sklearn.metrics import mean_squared_error\n",
    "\n",
    "LR = LinearRegression()\n",
    "LR.fit(x_train,y_train)\n",
    "\n",
    "print('Train set rmse:', mean_squared_error(y_train, LR.predict(x_train), squared=mse))\n",
    "print('Test set rmse:', mean_squared_error(y_test, LR.predict(x_test), squared=mse))\n",
    "print('Test set score:', LR.score(x_train,y_train))"
   ],
   "metadata": {
    "collapsed": false,
    "pycharm": {
     "name": "#%%\n"
    }
   }
  },
  {
   "cell_type": "markdown",
   "source": [
    "The results do not look at all promising. Never use the test data during training.\n",
    "\n",
    "Off to a new start."
   ],
   "metadata": {
    "collapsed": false,
    "pycharm": {
     "name": "#%% md\n"
    }
   }
  },
  {
   "cell_type": "code",
   "execution_count": 9,
   "outputs": [],
   "source": [
    "# first, format the date to be regrouped into months\n",
    "\n",
    "# transform to df date format\n",
    "df_train['date'] = pd.to_datetime(df_train['date'], dayfirst=True)\n",
    "# convert date to month\n",
    "df_train['date'] = df_train['date'].apply(lambda x: x.strftime('%Y-%m'))"
   ],
   "metadata": {
    "collapsed": false,
    "pycharm": {
     "name": "#%%\n"
    }
   }
  },
  {
   "cell_type": "code",
   "execution_count": 10,
   "outputs": [],
   "source": [
    "# parse all the months in the list to iterate them\n",
    "# for later feature engineering\n",
    "\n",
    "def col_is_year(col):\n",
    "    return col[0] == '2'\n",
    "\n",
    "def get_all_months(merged_frame):\n",
    "    all_cols = set(merged_frame.columns.values.tolist())\n",
    "    cols_to_remove = set()\n",
    "    for col in all_cols:\n",
    "        if not col_is_year(col):\n",
    "            cols_to_remove.add(col)\n",
    "    final_col = all_cols - cols_to_remove\n",
    "    final_col = list(final_col)\n",
    "    final_col.sort()\n",
    "    return final_col"
   ],
   "metadata": {
    "collapsed": false,
    "pycharm": {
     "name": "#%%\n"
    }
   }
  },
  {
   "cell_type": "code",
   "execution_count": 11,
   "outputs": [],
   "source": [
    "# then, sum up the sales according to their categories\n",
    "df = df_train.groupby(['date','shop_id','item_id']).sum()\n",
    "df = df.pivot_table(index=['shop_id','item_id'], columns='date', values='item_cnt_day', fill_value=0)\n",
    "df.reset_index(inplace=True)\n",
    "\n",
    "all_months = get_all_months(df)\n",
    "\n",
    "# join the remaining features to the newly created test dataframe\n",
    "df_test = pd.merge(df_test, df, on=['shop_id','item_id'], how='left')\n",
    "df_test.drop(['ID'], axis=1, inplace=True)\n",
    "df_test = df_test.fillna(0)\n",
    "\n",
    "# assign train and test from within the train set\n",
    "# drop october 2014 from the set and assign it was test values\n",
    "drop_year = '2014-10'\n",
    "X_test = df_test\n",
    "Y_train = df[drop_year].values\n",
    "X_train = df.drop([drop_year], axis=1)"
   ],
   "metadata": {
    "collapsed": false,
    "pycharm": {
     "name": "#%%\n"
    }
   }
  },
  {
   "cell_type": "code",
   "execution_count": 12,
   "outputs": [
    {
     "name": "stdout",
     "output_type": "stream",
     "text": [
      "Train set rmse: 2.4113022745555877\n",
      "Test set rmse: 2.0719456183279235\n",
      "Test set score: 0.5540276005502269\n"
     ]
    }
   ],
   "source": [
    "x_train, x_test, y_train, y_test = train_test_split( X_train, Y_train, test_size=0.20, random_state=1)\n",
    "\n",
    "LR = LinearRegression()\n",
    "LR.fit(x_train,y_train)\n",
    "\n",
    "\n",
    "print('Train set rmse:', mean_squared_error(y_train, LR.predict(x_train), squared=mse))\n",
    "print('Test set rmse:', mean_squared_error(y_test, LR.predict(x_test), squared=mse))\n",
    "print('Test set score:', LR.score(x_train,y_train))"
   ],
   "metadata": {
    "collapsed": false,
    "pycharm": {
     "name": "#%%\n"
    }
   }
  }
 ],
 "metadata": {
  "kernelspec": {
   "display_name": "Python 3",
   "language": "python",
   "name": "python3"
  },
  "language_info": {
   "codemirror_mode": {
    "name": "ipython",
    "version": 2
   },
   "file_extension": ".py",
   "mimetype": "text/x-python",
   "name": "python",
   "nbconvert_exporter": "python",
   "pygments_lexer": "ipython2",
   "version": "2.7.6"
  }
 },
 "nbformat": 4,
 "nbformat_minor": 0
}