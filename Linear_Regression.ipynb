{
 "cells": [
  {
   "cell_type": "markdown",
   "source": [
    "# Linear Regression"
   ],
   "metadata": {
    "collapsed": false
   }
  },
  {
   "cell_type": "markdown",
   "source": [
    "## Preparation"
   ],
   "metadata": {
    "collapsed": false
   }
  },
  {
   "cell_type": "code",
   "execution_count": 1,
   "outputs": [],
   "source": [
    "# Set to `True` to run the linear regression evaluations\n",
    "run_lr = True\n",
    "# Set to `True` to run the cross validation (takes quite some time)\n",
    "run_cv = False\n",
    "# Set to `True` to output the submission file to upload to Kaggle\n",
    "lr_submission = True"
   ],
   "metadata": {
    "collapsed": false,
    "pycharm": {
     "name": "#%%\n"
    }
   }
  },
  {
   "cell_type": "markdown",
   "source": [
    "### Imports"
   ],
   "metadata": {
    "collapsed": false
   }
  },
  {
   "cell_type": "code",
   "execution_count": 2,
   "metadata": {
    "collapsed": true,
    "pycharm": {
     "name": "#%%\n"
    }
   },
   "outputs": [],
   "source": [
    "import pandas as pd\n",
    "import numpy as np\n",
    "from itertools import product\n",
    "\n",
    "from sklearn.metrics import mean_squared_error\n",
    "from sklearn.preprocessing import StandardScaler\n",
    "from sklearn.model_selection import train_test_split\n",
    "from sklearn.model_selection import cross_val_score\n",
    "from sklearn.model_selection import GridSearchCV\n",
    "from sklearn.linear_model import LinearRegression\n",
    "from sklearn.linear_model import Lasso\n",
    "from sklearn.linear_model import Ridge"
   ]
  },
  {
   "cell_type": "markdown",
   "source": [
    "### Add data"
   ],
   "metadata": {
    "collapsed": false
   }
  },
  {
   "cell_type": "code",
   "source": [
    "train = pd.read_csv('data/technical/sales_train.csv')\n",
    "test = pd.read_csv('data/technical/test.csv')"
   ],
   "metadata": {
    "collapsed": false,
    "pycharm": {
     "name": "#%%\n"
    }
   },
   "execution_count": 3,
   "outputs": []
  },
  {
   "cell_type": "markdown",
   "source": [
    "### Evaluation metric"
   ],
   "metadata": {
    "collapsed": false
   }
  },
  {
   "cell_type": "code",
   "execution_count": 4,
   "outputs": [],
   "source": [
    "def rmse(y_te, y_p):\n",
    "    return np.sqrt(mean_squared_error(y_te, y_p))"
   ],
   "metadata": {
    "collapsed": false,
    "pycharm": {
     "name": "#%%\n"
    }
   }
  },
  {
   "cell_type": "markdown",
   "source": [],
   "metadata": {
    "collapsed": false
   }
  },
  {
   "cell_type": "markdown",
   "source": [
    "## 1st attempt: apply LR on the raw dataset"
   ],
   "metadata": {
    "collapsed": false
   }
  },
  {
   "cell_type": "markdown",
   "source": [
    "### Sum the daily sales into monthly sales"
   ],
   "metadata": {
    "collapsed": false
   }
  },
  {
   "cell_type": "code",
   "execution_count": 5,
   "outputs": [],
   "source": [
    "if run_lr:\n",
    "    # regroup the train data on the relevant columns\n",
    "    group_on = ['date_block_num', 'shop_id', 'item_id']\n",
    "    # sum it up\n",
    "    df = train.groupby(group_on).agg({'item_cnt_day': ['sum']})\n",
    "    train.drop('item_cnt_day', axis=1, inplace=True)\n",
    "    df.columns = df.columns.droplevel(1)\n",
    "\n",
    "    # merge it back\n",
    "    df = df.merge(train, left_index=True, right_on=group_on, how='left')\n",
    "    # remove the duplicates\n",
    "    df.drop_duplicates(group_on, inplace=True)\n",
    "    # rename the column and drop redundant columns\n",
    "    df.rename(columns = {'item_cnt_day': 'item_cnt_month'}, inplace=True)\n",
    "    df.drop('date', axis=1, inplace=True)\n",
    "\n",
    "    # copy it back\n",
    "    train = df.copy()\n",
    "    del df"
   ],
   "metadata": {
    "collapsed": false,
    "pycharm": {
     "name": "#%%\n"
    }
   }
  },
  {
   "cell_type": "markdown",
   "source": [
    "### Split the features and label"
   ],
   "metadata": {
    "collapsed": false
   }
  },
  {
   "cell_type": "code",
   "execution_count": 6,
   "outputs": [],
   "source": [
    "if run_lr:\n",
    "    # assign features and label\n",
    "    X = train.drop('item_cnt_month', axis=1)\n",
    "    Y = train['item_cnt_month']"
   ],
   "metadata": {
    "collapsed": false,
    "pycharm": {
     "name": "#%%\n"
    }
   }
  },
  {
   "cell_type": "code",
   "execution_count": 7,
   "outputs": [
    {
     "name": "stdout",
     "output_type": "stream",
     "text": [
      "RMSE: 8.105058747327444\n"
     ]
    }
   ],
   "source": [
    "if run_lr:\n",
    "    X_train, X_test, y_train, y_test = train_test_split(X, Y, train_size=0.8, random_state=42)\n",
    "\n",
    "    LR = LinearRegression()\n",
    "    LR.fit(X_train, y_train)\n",
    "    prediction = LR.predict(X_test)\n",
    "\n",
    "    print(f\"RMSE: {rmse(y_test, prediction)}\")"
   ],
   "metadata": {
    "collapsed": false,
    "pycharm": {
     "name": "#%%\n"
    }
   }
  },
  {
   "cell_type": "markdown",
   "source": [
    "## 2nd attempt: clip the data"
   ],
   "metadata": {
    "collapsed": false
   }
  },
  {
   "cell_type": "code",
   "execution_count": 8,
   "outputs": [],
   "source": [
    "if run_lr:\n",
    "    Y = train['item_cnt_month'].clip(0, 20)"
   ],
   "metadata": {
    "collapsed": false,
    "pycharm": {
     "name": "#%%\n"
    }
   }
  },
  {
   "cell_type": "code",
   "execution_count": 9,
   "outputs": [
    {
     "name": "stdout",
     "output_type": "stream",
     "text": [
      "RMSE: 2.56221523899121\n"
     ]
    }
   ],
   "source": [
    "if run_lr:\n",
    "    X_train, X_test, y_train, y_test = train_test_split(X, Y, train_size=0.8, random_state=42)\n",
    "\n",
    "    LR = LinearRegression()\n",
    "    LR.fit(X_train, y_train)\n",
    "    prediction = LR.predict(X_test).clip(0, 20)\n",
    "\n",
    "    print(f\"RMSE: {rmse(y_test, prediction)}\")"
   ],
   "metadata": {
    "collapsed": false,
    "pycharm": {
     "name": "#%%\n"
    }
   }
  },
  {
   "cell_type": "markdown",
   "source": [
    "## 3rd attempt: add zero sales"
   ],
   "metadata": {
    "collapsed": false
   }
  },
  {
   "cell_type": "code",
   "execution_count": 10,
   "outputs": [],
   "source": [
    "if run_lr:\n",
    "    matrix = []\n",
    "    for i in range(34):\n",
    "        this_month = train[train.date_block_num == i]\n",
    "        matrix.append(np.array(list(product(\n",
    "            [i], this_month.shop_id.unique(), this_month.item_id.unique()\n",
    "        ))))\n",
    "\n",
    "    # vstack == stack array row-wise\n",
    "    matrix = pd.DataFrame(np.vstack(matrix), columns=group_on)\n",
    "    matrix = pd.merge(matrix, train, how='left', on=group_on)\n",
    "\n",
    "    matrix['item_cnt_month'] = matrix['item_cnt_month'].clip(0, 20)\n",
    "    matrix['item_cnt_month'] = matrix['item_cnt_month'].fillna(0)\n",
    "    matrix.drop('item_price', axis=1, inplace=True)"
   ],
   "metadata": {
    "collapsed": false,
    "pycharm": {
     "name": "#%%\n"
    }
   }
  },
  {
   "cell_type": "code",
   "execution_count": 11,
   "outputs": [],
   "source": [
    "if run_lr:\n",
    "    # assign features and label\n",
    "    X = matrix.drop('item_cnt_month', axis=1)\n",
    "    Y = matrix['item_cnt_month']"
   ],
   "metadata": {
    "collapsed": false,
    "pycharm": {
     "name": "#%%\n"
    }
   }
  },
  {
   "cell_type": "code",
   "execution_count": 12,
   "outputs": [
    {
     "name": "stdout",
     "output_type": "stream",
     "text": [
      "RMSE: 1.2278876883086605\n"
     ]
    }
   ],
   "source": [
    "if run_lr:\n",
    "    X_train, X_test, y_train, y_test = train_test_split(X, Y, train_size=0.8, random_state=42)\n",
    "\n",
    "    LR = LinearRegression()\n",
    "    LR.fit(X_train, y_train)\n",
    "    prediction = LR.predict(X_test).clip(0, 20)\n",
    "\n",
    "    print(f\"RMSE: {rmse(y_test, prediction)}\")"
   ],
   "metadata": {
    "collapsed": false,
    "pycharm": {
     "name": "#%%\n"
    }
   }
  },
  {
   "cell_type": "markdown",
   "source": [
    "## 4th attempt: add feature engineering"
   ],
   "metadata": {
    "collapsed": false,
    "pycharm": {
     "name": "#%% md\n"
    }
   }
  },
  {
   "cell_type": "code",
   "execution_count": 13,
   "outputs": [],
   "source": [
    "if run_lr or run_cv:\n",
    "    data = pd.read_pickle('data/out/data.pkl')"
   ],
   "metadata": {
    "collapsed": false,
    "pycharm": {
     "name": "#%%\n"
    }
   }
  },
  {
   "cell_type": "code",
   "execution_count": 14,
   "outputs": [],
   "source": [
    "if run_lr:\n",
    "    X = data[data.date_block_num < 34].drop(['item_cnt_month'], axis=1)\n",
    "    Y = data[data.date_block_num < 34]['item_cnt_month']\n",
    "    x = data[data.date_block_num == 34].drop(['item_cnt_month'], axis=1)"
   ],
   "metadata": {
    "collapsed": false,
    "pycharm": {
     "name": "#%%\n"
    }
   }
  },
  {
   "cell_type": "code",
   "execution_count": 15,
   "outputs": [
    {
     "name": "stdout",
     "output_type": "stream",
     "text": [
      "RMSE: 0.7893883917525537\n"
     ]
    }
   ],
   "source": [
    "if run_lr:\n",
    "    X_train, X_test, y_train, y_test = train_test_split(X, Y, train_size=0.8, random_state=42)\n",
    "    lf = LinearRegression()\n",
    "    lf.fit(X_train, y_train)\n",
    "    prediction = lf.predict(X_test).clip(0,20)\n",
    "\n",
    "    print(f\"RMSE: {rmse(y_test, prediction)}\")"
   ],
   "metadata": {
    "collapsed": false,
    "pycharm": {
     "name": "#%%\n"
    }
   }
  },
  {
   "cell_type": "markdown",
   "source": [
    "## 5th attempt: apply cross_val_score"
   ],
   "metadata": {
    "collapsed": false
   }
  },
  {
   "cell_type": "code",
   "execution_count": 16,
   "outputs": [
    {
     "name": "stdout",
     "output_type": "stream",
     "text": [
      "RMSE 0.829568\n"
     ]
    }
   ],
   "source": [
    "if run_lr:\n",
    "    X_train, X_test, y_train, y_test = train_test_split(X, Y, train_size=0.72, random_state=42)\n",
    "\n",
    "    lr = LinearRegression()\n",
    "    score = cross_val_score(lr, X_train, y_train, cv=5, scoring='neg_root_mean_squared_error')\n",
    "    print('RMSE %2f' %(-1 * score.mean()))"
   ],
   "metadata": {
    "collapsed": false,
    "pycharm": {
     "name": "#%%\n"
    }
   }
  },
  {
   "cell_type": "markdown",
   "source": [
    "## 6th attempt: drop superfluous shops"
   ],
   "metadata": {
    "collapsed": false
   }
  },
  {
   "cell_type": "code",
   "execution_count": 17,
   "outputs": [],
   "source": [
    " if run_lr:\n",
    "    shops_in_test_data = set()\n",
    "\n",
    "    for i, row in test.iterrows():\n",
    "        shops_in_test_data.add(row['shop_id'])\n",
    "\n",
    "    all_shops = set([*range(0, 60)])\n",
    "    shops_not_present = all_shops-shops_in_test_data\n",
    "    shops_not_present\n",
    "\n",
    "    for missing_shop in shops_not_present:\n",
    "        index_names = data[ data['shop_id'] == missing_shop ].index\n",
    "        data.drop(index_names, inplace=True)"
   ],
   "metadata": {
    "collapsed": false,
    "pycharm": {
     "name": "#%%\n"
    }
   }
  },
  {
   "cell_type": "code",
   "execution_count": 18,
   "outputs": [],
   "source": [
    "if run_lr:\n",
    "    X = data[data.date_block_num < 34].drop(['item_cnt_month'], axis=1)\n",
    "    Y = data[data.date_block_num < 34]['item_cnt_month']\n",
    "    x = data[data.date_block_num == 34].drop(['item_cnt_month'], axis=1)"
   ],
   "metadata": {
    "collapsed": false,
    "pycharm": {
     "name": "#%%\n"
    }
   }
  },
  {
   "cell_type": "code",
   "execution_count": 19,
   "outputs": [
    {
     "name": "stdout",
     "output_type": "stream",
     "text": [
      "RMSE 0.811479\n"
     ]
    }
   ],
   "source": [
    "if run_lr:\n",
    "    X_train, X_test, y_train, y_test = train_test_split(X, Y, train_size=0.72, random_state=42)\n",
    "\n",
    "    lr = LinearRegression()\n",
    "    score = cross_val_score(lr, X_train, y_train, cv=5, scoring='neg_root_mean_squared_error')\n",
    "    print('RMSE %2f' %(-1 * score.mean()))"
   ],
   "metadata": {
    "collapsed": false,
    "pycharm": {
     "name": "#%%\n"
    }
   }
  },
  {
   "cell_type": "markdown",
   "source": [
    "## 7th attempt: try out LASSO regression"
   ],
   "metadata": {
    "collapsed": false
   }
  },
  {
   "cell_type": "code",
   "execution_count": 20,
   "outputs": [
    {
     "name": "stdout",
     "output_type": "stream",
     "text": [
      "RMSE 0.985678\n"
     ]
    }
   ],
   "source": [
    "if run_lr:\n",
    "    X_train, X_test, y_train, y_test = train_test_split(X, Y, train_size=0.72, random_state=42)\n",
    "\n",
    "    model = Lasso()\n",
    "    score = cross_val_score(model, X_train, y_train, cv=5, scoring='neg_root_mean_squared_error')\n",
    "    print('RMSE %2f' %(-1 * score.mean()))"
   ],
   "metadata": {
    "collapsed": false,
    "pycharm": {
     "name": "#%%\n"
    }
   }
  },
  {
   "cell_type": "markdown",
   "source": [
    "## 8th attempt: try out Ridge regression"
   ],
   "metadata": {
    "collapsed": false
   }
  },
  {
   "cell_type": "code",
   "execution_count": 21,
   "outputs": [
    {
     "name": "stdout",
     "output_type": "stream",
     "text": [
      "RMSE 0.811479\n"
     ]
    }
   ],
   "source": [
    "if run_lr:\n",
    "    X_train, X_test, y_train, y_test = train_test_split(X, Y, train_size=0.72, random_state=42)\n",
    "\n",
    "    model = Ridge()\n",
    "    score = cross_val_score(model, X_train, y_train, cv=5, scoring='neg_root_mean_squared_error')\n",
    "    print('RMSE %2f' %(-1 * score.mean()))"
   ],
   "metadata": {
    "collapsed": false,
    "pycharm": {
     "name": "#%%\n"
    }
   }
  },
  {
   "cell_type": "markdown",
   "source": [
    "## 9th attempt: cross validation on ridge hyperparameters"
   ],
   "metadata": {
    "collapsed": false
   }
  },
  {
   "cell_type": "code",
   "execution_count": 22,
   "outputs": [],
   "source": [
    "if run_cv:\n",
    "    X_train, X_test, y_train, y_test = train_test_split(X, Y, train_size=0.72, random_state=42)\n",
    "    parameter_candidates = [{'alpha': [0.8, 1, 1.2, 1.5],\n",
    "                             'solver': ['auto', 'svd', 'sag']\n",
    "                             }]\n",
    "    model = Ridge()\n",
    "\n",
    "    cv_model = GridSearchCV(estimator=model,\n",
    "                            param_grid=parameter_candidates,\n",
    "                            n_jobs=3)\n",
    "\n",
    "    cv_model.fit(X_train, y_train)\n",
    "    print(cv_model.best_params_)"
   ],
   "metadata": {
    "collapsed": false,
    "pycharm": {
     "name": "#%%\n"
    }
   }
  },
  {
   "cell_type": "code",
   "execution_count": 23,
   "outputs": [
    {
     "name": "stdout",
     "output_type": "stream",
     "text": [
      "RMSE 0.811479\n"
     ]
    }
   ],
   "source": [
    "model = Ridge(alpha=1.5)\n",
    "score = cross_val_score(model, X_train, y_train, cv=5, scoring='neg_root_mean_squared_error')\n",
    "print('RMSE %2f' %(-1 * score.mean()))"
   ],
   "metadata": {
    "collapsed": false,
    "pycharm": {
     "name": "#%%\n"
    }
   }
  },
  {
   "cell_type": "markdown",
   "source": [
    "## 10th attempt: scaling the data"
   ],
   "metadata": {
    "collapsed": false,
    "pycharm": {
     "name": "#%% md\n"
    }
   }
  },
  {
   "cell_type": "code",
   "source": [
    "if run_lr:\n",
    "    X_train, X_test, y_train, y_test = train_test_split(X, Y, train_size=0.72, random_state=42)\n",
    "\n",
    "    scaler = StandardScaler()\n",
    "    X_train = scaler.fit_transform(X_train)\n",
    "    X_test = scaler.transform(X_test)\n",
    "\n",
    "    lr = LinearRegression()\n",
    "    score = cross_val_score(lr, X_train, y_train, cv=5, scoring='neg_root_mean_squared_error')\n",
    "    print('RMSE %2f' %(-1 * score.mean()))"
   ],
   "metadata": {
    "collapsed": false,
    "pycharm": {
     "name": "#%%\n"
    }
   },
   "execution_count": 24,
   "outputs": [
    {
     "name": "stdout",
     "output_type": "stream",
     "text": [
      "RMSE 0.811479\n"
     ]
    }
   ]
  },
  {
   "cell_type": "markdown",
   "source": [
    "## Test set prediction"
   ],
   "metadata": {
    "collapsed": false
   }
  },
  {
   "cell_type": "code",
   "execution_count": 25,
   "outputs": [],
   "source": [
    "if lr_submission:\n",
    "    lr = LinearRegression()\n",
    "    model = lr.fit(X, Y)\n",
    "\n",
    "    y_test = model.predict(x).clip(0, 20)\n",
    "\n",
    "    submission = pd.DataFrame({\n",
    "        \"ID\": test.index,\n",
    "        \"item_cnt_month\": y_test\n",
    "    })\n",
    "    submission.to_csv('data/submissions/lr_submission.csv', index=False)"
   ],
   "metadata": {
    "collapsed": false,
    "pycharm": {
     "name": "#%%\n"
    }
   }
  }
 ],
 "metadata": {
  "kernelspec": {
   "display_name": "Python 3",
   "language": "python",
   "name": "python3"
  },
  "language_info": {
   "codemirror_mode": {
    "name": "ipython",
    "version": 2
   },
   "file_extension": ".py",
   "mimetype": "text/x-python",
   "name": "python",
   "nbconvert_exporter": "python",
   "pygments_lexer": "ipython2",
   "version": "2.7.6"
  }
 },
 "nbformat": 4,
 "nbformat_minor": 0
}